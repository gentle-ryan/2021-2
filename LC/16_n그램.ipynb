{
  "nbformat": 4,
  "nbformat_minor": 0,
  "metadata": {
    "colab": {
      "provenance": []
    },
    "kernelspec": {
      "name": "python3",
      "display_name": "Python 3"
    },
    "language_info": {
      "name": "python"
    }
  },
  "cells": [
    {
      "cell_type": "markdown",
      "metadata": {
        "id": "I5358AIbBauq"
      },
      "source": [
        "## Data 1: Toy data from the BERP Corpus"
      ]
    },
    {
      "cell_type": "code",
      "metadata": {
        "id": "PeAYaekXnEuv",
        "colab": {
          "base_uri": "https://localhost:8080/"
        },
        "outputId": "2613f388-e284-4803-9c91-602c252eb296"
      },
      "source": [
        "text = \"\"\"let 's start again .\n",
        "let 's see the list again.\n",
        "i 'd like to eat dinner .\n",
        "i like to get a hamburger .\n",
        "i like to eat pasta .\n",
        "i want to eat food from malaysia .\n",
        "i want to eat food from malaysia .\n",
        "show me the list again .\n",
        "i 'd like to eat some chinese food .\n",
        "i 'd like to go to a japanese restaurant .\"\"\"\n",
        "\n",
        "sentences = [sent.split() for sent in text.splitlines()]\n",
        "from pprint import pprint\n",
        "pprint(sentences)"
      ],
      "execution_count": null,
      "outputs": [
        {
          "output_type": "stream",
          "name": "stdout",
          "text": [
            "[['let', \"'s\", 'start', 'again', '.'],\n",
            " ['let', \"'s\", 'see', 'the', 'list', 'again.'],\n",
            " ['i', \"'d\", 'like', 'to', 'eat', 'dinner', '.'],\n",
            " ['i', 'like', 'to', 'get', 'a', 'hamburger', '.'],\n",
            " ['i', 'like', 'to', 'eat', 'pasta', '.'],\n",
            " ['i', 'want', 'to', 'eat', 'food', 'from', 'malaysia', '.'],\n",
            " ['i', 'want', 'to', 'eat', 'food', 'from', 'malaysia', '.'],\n",
            " ['show', 'me', 'the', 'list', 'again', '.'],\n",
            " ['i', \"'d\", 'like', 'to', 'eat', 'some', 'chinese', 'food', '.'],\n",
            " ['i', \"'d\", 'like', 'to', 'go', 'to', 'a', 'japanese', 'restaurant', '.']]\n"
          ]
        }
      ]
    },
    {
      "cell_type": "markdown",
      "metadata": {
        "id": "s6WyISy2BlYf"
      },
      "source": [
        "## Data 2: The whole BERP Corpus"
      ]
    },
    {
      "cell_type": "code",
      "metadata": {
        "id": "iEnAfQNBhEoO",
        "colab": {
          "base_uri": "https://localhost:8080/"
        },
        "outputId": "aa521cb5-380d-4a84-d7cc-7258a0c1930c"
      },
      "source": [
        "# # The Berkeley Restaurant Project (BeRP) Transcripts\n",
        "! wget https://raw.githubusercontent.com/wooters/berp-trans/master/transcript.txt\n",
        "! head -5 transcript.txt"
      ],
      "execution_count": null,
      "outputs": [
        {
          "output_type": "stream",
          "name": "stdout",
          "text": [
            "--2021-11-11 09:34:02--  https://raw.githubusercontent.com/wooters/berp-trans/master/transcript.txt\n",
            "Resolving raw.githubusercontent.com (raw.githubusercontent.com)... 185.199.108.133, 185.199.111.133, 185.199.109.133, ...\n",
            "Connecting to raw.githubusercontent.com (raw.githubusercontent.com)|185.199.108.133|:443... connected.\n",
            "HTTP request sent, awaiting response... 200 OK\n",
            "Length: 388992 (380K) [text/plain]\n",
            "Saving to: ‘transcript.txt’\n",
            "\n",
            "transcript.txt      100%[===================>] 379.88K  --.-KB/s    in 0.05s   \n",
            "\n",
            "2021-11-11 09:34:02 (8.11 MB/s) - ‘transcript.txt’ saved [388992/388992]\n",
            "\n",
            "33_1_0001 okay let's see i want to go to a thai restaurant . [uh] with less than ten dollars per person\n",
            "33_1_0002 <i> <like> <to> <eat> [uh] i like to eat at lunch time . so that would be eleven a__m to one p__m\n",
            "33_1_0003 i don't want to walk for more than five minutes\n",
            "33_1_0004 tell me more about the [uh] na- nakapan [uh] restaurant on martin luther king\n",
            "33_1_0005 i like to go to a hamburger restaurant\n"
          ]
        }
      ]
    },
    {
      "cell_type": "code",
      "metadata": {
        "id": "qu3YZTsY6ir3"
      },
      "source": [
        "f = open('transcript.txt')\n",
        "sentences = []\n",
        "for line in f:\n",
        "  sentences.append(line.split()[1:]) #33_10001을 제거하기 위해 1번 인덱스 부터\n",
        "\n",
        "f.close()"
      ],
      "execution_count": null,
      "outputs": []
    },
    {
      "cell_type": "markdown",
      "metadata": {
        "id": "Nc26bF0eBrjH"
      },
      "source": [
        "## Data 3: The Brown Corpus"
      ]
    },
    {
      "cell_type": "code",
      "metadata": {
        "id": "CPc6aVFC9heB"
      },
      "source": [
        "# # https://www.nltk.org/nltk_data/\n",
        "# import nltk\n",
        "# nltk.download('brown')\n",
        "# sentences = nltk.corpus.brown.sents()"
      ],
      "execution_count": null,
      "outputs": []
    },
    {
      "cell_type": "markdown",
      "metadata": {
        "id": "72fQ0lQFBy2c"
      },
      "source": [
        "## Counting $N$-grams"
      ]
    },
    {
      "cell_type": "code",
      "metadata": {
        "colab": {
          "base_uri": "https://localhost:8080/"
        },
        "id": "wkXSTZ3hae-x",
        "outputId": "9c5fb1d6-78dc-485d-d3ce-2aae4a4b2813"
      },
      "source": [
        "!pip install -U nltk"
      ],
      "execution_count": null,
      "outputs": [
        {
          "output_type": "stream",
          "name": "stdout",
          "text": [
            "Requirement already satisfied: nltk in /usr/local/lib/python3.7/dist-packages (3.2.5)\n",
            "Collecting nltk\n",
            "  Downloading nltk-3.6.5-py3-none-any.whl (1.5 MB)\n",
            "\u001b[K     |████████████████████████████████| 1.5 MB 3.6 MB/s \n",
            "\u001b[?25hRequirement already satisfied: click in /usr/local/lib/python3.7/dist-packages (from nltk) (7.1.2)\n",
            "Requirement already satisfied: joblib in /usr/local/lib/python3.7/dist-packages (from nltk) (1.1.0)\n",
            "Requirement already satisfied: tqdm in /usr/local/lib/python3.7/dist-packages (from nltk) (4.62.3)\n",
            "Collecting regex>=2021.8.3\n",
            "  Downloading regex-2021.11.10-cp37-cp37m-manylinux_2_17_x86_64.manylinux2014_x86_64.whl (749 kB)\n",
            "\u001b[K     |████████████████████████████████| 749 kB 49.3 MB/s \n",
            "\u001b[?25hInstalling collected packages: regex, nltk\n",
            "  Attempting uninstall: regex\n",
            "    Found existing installation: regex 2019.12.20\n",
            "    Uninstalling regex-2019.12.20:\n",
            "      Successfully uninstalled regex-2019.12.20\n",
            "  Attempting uninstall: nltk\n",
            "    Found existing installation: nltk 3.2.5\n",
            "    Uninstalling nltk-3.2.5:\n",
            "      Successfully uninstalled nltk-3.2.5\n",
            "Successfully installed nltk-3.6.5 regex-2021.11.10\n"
          ]
        }
      ]
    },
    {
      "cell_type": "code",
      "metadata": {
        "colab": {
          "base_uri": "https://localhost:8080/"
        },
        "id": "Wr1zNm3FaprI",
        "outputId": "ec4e28b3-7029-455e-988f-411913e895e3"
      },
      "source": [
        "import nltk\n",
        "help(nltk.ngrams)"
      ],
      "execution_count": null,
      "outputs": [
        {
          "output_type": "stream",
          "name": "stdout",
          "text": [
            "Help on function ngrams in module nltk.util:\n",
            "\n",
            "ngrams(sequence, n, **kwargs)\n",
            "    Return the ngrams generated from a sequence of items, as an iterator.\n",
            "    For example:\n",
            "    \n",
            "        >>> from nltk.util import ngrams\n",
            "        >>> list(ngrams([1,2,3,4,5], 3))\n",
            "        [(1, 2, 3), (2, 3, 4), (3, 4, 5)]\n",
            "    \n",
            "    Wrap with list for a list version of this function.  Set pad_left\n",
            "    or pad_right to true in order to get additional ngrams:\n",
            "    \n",
            "        >>> list(ngrams([1,2,3,4,5], 2, pad_right=True))\n",
            "        [(1, 2), (2, 3), (3, 4), (4, 5), (5, None)]\n",
            "        >>> list(ngrams([1,2,3,4,5], 2, pad_right=True, right_pad_symbol='</s>'))\n",
            "        [(1, 2), (2, 3), (3, 4), (4, 5), (5, '</s>')]\n",
            "        >>> list(ngrams([1,2,3,4,5], 2, pad_left=True, left_pad_symbol='<s>'))\n",
            "        [('<s>', 1), (1, 2), (2, 3), (3, 4), (4, 5)]\n",
            "        >>> list(ngrams([1,2,3,4,5], 2, pad_left=True, pad_right=True, left_pad_symbol='<s>', right_pad_symbol='</s>'))\n",
            "        [('<s>', 1), (1, 2), (2, 3), (3, 4), (4, 5), (5, '</s>')]\n",
            "    \n",
            "    \n",
            "    :param sequence: the source data to be converted into ngrams\n",
            "    :type sequence: sequence or iter\n",
            "    :param n: the degree of the ngrams\n",
            "    :type n: int\n",
            "    :param pad_left: whether the ngrams should be left-padded\n",
            "    :type pad_left: bool\n",
            "    :param pad_right: whether the ngrams should be right-padded\n",
            "    :type pad_right: bool\n",
            "    :param left_pad_symbol: the symbol to use for left padding (default is None)\n",
            "    :type left_pad_symbol: any\n",
            "    :param right_pad_symbol: the symbol to use for right padding (default is None)\n",
            "    :type right_pad_symbol: any\n",
            "    :rtype: sequence or iter\n",
            "\n"
          ]
        }
      ]
    },
    {
      "cell_type": "code",
      "metadata": {
        "id": "Dw7UvE1Tj2Ou"
      },
      "source": [
        "import nltk\n",
        "n = 3\n",
        "ngram_list = []\n",
        "for sent in sentences:\n",
        "  ngram_list.extend(nltk.ngrams(sent, n, pad_left=True, pad_right=True, left_pad_symbol='<s>', right_pad_symbol='</s>'))"
      ],
      "execution_count": null,
      "outputs": []
    },
    {
      "cell_type": "code",
      "metadata": {
        "id": "-fcKf5L7o4rc",
        "colab": {
          "base_uri": "https://localhost:8080/"
        },
        "outputId": "6aa822ec-fc0c-446d-9240-27dfd67e2782"
      },
      "source": [
        "pprint(ngram_list)"
      ],
      "execution_count": null,
      "outputs": [
        {
          "output_type": "stream",
          "name": "stdout",
          "text": [
            "[('<s>', 'let'),\n",
            " ('let', \"'s\"),\n",
            " (\"'s\", 'start'),\n",
            " ('start', 'again'),\n",
            " ('again', '.'),\n",
            " ('.', '</s>'),\n",
            " ('<s>', 'let'),\n",
            " ('let', \"'s\"),\n",
            " (\"'s\", 'see'),\n",
            " ('see', 'the'),\n",
            " ('the', 'list'),\n",
            " ('list', 'again.'),\n",
            " ('again.', '</s>'),\n",
            " ('<s>', 'i'),\n",
            " ('i', \"'d\"),\n",
            " (\"'d\", 'like'),\n",
            " ('like', 'to'),\n",
            " ('to', 'eat'),\n",
            " ('eat', 'dinner'),\n",
            " ('dinner', '.'),\n",
            " ('.', '</s>'),\n",
            " ('<s>', 'i'),\n",
            " ('i', 'like'),\n",
            " ('like', 'to'),\n",
            " ('to', 'get'),\n",
            " ('get', 'a'),\n",
            " ('a', 'hamburger'),\n",
            " ('hamburger', '.'),\n",
            " ('.', '</s>'),\n",
            " ('<s>', 'i'),\n",
            " ('i', 'like'),\n",
            " ('like', 'to'),\n",
            " ('to', 'eat'),\n",
            " ('eat', 'pasta'),\n",
            " ('pasta', '.'),\n",
            " ('.', '</s>'),\n",
            " ('<s>', 'i'),\n",
            " ('i', 'want'),\n",
            " ('want', 'to'),\n",
            " ('to', 'eat'),\n",
            " ('eat', 'food'),\n",
            " ('food', 'from'),\n",
            " ('from', 'malaysia'),\n",
            " ('malaysia', '.'),\n",
            " ('.', '</s>'),\n",
            " ('<s>', 'i'),\n",
            " ('i', 'want'),\n",
            " ('want', 'to'),\n",
            " ('to', 'eat'),\n",
            " ('eat', 'food'),\n",
            " ('food', 'from'),\n",
            " ('from', 'malaysia'),\n",
            " ('malaysia', '.'),\n",
            " ('.', '</s>'),\n",
            " ('<s>', 'show'),\n",
            " ('show', 'me'),\n",
            " ('me', 'the'),\n",
            " ('the', 'list'),\n",
            " ('list', 'again'),\n",
            " ('again', '.'),\n",
            " ('.', '</s>'),\n",
            " ('<s>', 'i'),\n",
            " ('i', \"'d\"),\n",
            " (\"'d\", 'like'),\n",
            " ('like', 'to'),\n",
            " ('to', 'eat'),\n",
            " ('eat', 'some'),\n",
            " ('some', 'chinese'),\n",
            " ('chinese', 'food'),\n",
            " ('food', '.'),\n",
            " ('.', '</s>'),\n",
            " ('<s>', 'i'),\n",
            " ('i', \"'d\"),\n",
            " (\"'d\", 'like'),\n",
            " ('like', 'to'),\n",
            " ('to', 'go'),\n",
            " ('go', 'to'),\n",
            " ('to', 'a'),\n",
            " ('a', 'japanese'),\n",
            " ('japanese', 'restaurant'),\n",
            " ('restaurant', '.'),\n",
            " ('.', '</s>')]\n"
          ]
        }
      ]
    },
    {
      "cell_type": "markdown",
      "metadata": {
        "id": "tYYnr-vPb4UM"
      },
      "source": [
        "만들 것: {history: [word1, word2, word3]}"
      ]
    },
    {
      "cell_type": "code",
      "metadata": {
        "id": "NPWAy1QBb-q3"
      },
      "source": [
        "\n",
        "#키에러가 발생하지 않음, 새로운 키가 나타났을 때 빈 리스트를 초기화하지 않고 원래부터 있다고 가정함"
      ],
      "execution_count": null,
      "outputs": []
    },
    {
      "cell_type": "code",
      "metadata": {
        "id": "VaulKSDhccV2"
      },
      "source": [
        "for ngram in ngram_list:\n",
        "  #ngram을 history와 word로 분할하기\n",
        "  history = ngram[:-1] #마지막 직전까지 단어 튜플\n",
        "  word = ngram[-1] #마지막 단어\n",
        "  #history라는 key값을 업테이트하기\n",
        "  ngram_dict[history].append(word)"
      ],
      "execution_count": null,
      "outputs": []
    },
    {
      "cell_type": "code",
      "metadata": {
        "colab": {
          "base_uri": "https://localhost:8080/"
        },
        "id": "9-HNX-j5dgPr",
        "outputId": "81bd68e2-1f95-4f90-cf90-d03064a119fd"
      },
      "source": [
        "start = (n-1)*('<s>', )\n",
        "print(start)"
      ],
      "execution_count": null,
      "outputs": [
        {
          "output_type": "stream",
          "name": "stdout",
          "text": [
            "('<s>', '<s>')\n"
          ]
        }
      ]
    },
    {
      "cell_type": "code",
      "metadata": {
        "id": "3vY_9hJsdyaH"
      },
      "source": [
        "ngram_dict[start][:10]"
      ],
      "execution_count": null,
      "outputs": []
    },
    {
      "cell_type": "markdown",
      "metadata": {
        "id": "IfThErcQePV4"
      },
      "source": [
        "할 일:ngram_dict[history]에서 word를 추출하기"
      ]
    },
    {
      "cell_type": "code",
      "metadata": {
        "id": "JYBS-Z_TeN5a"
      },
      "source": [
        "from random import choice"
      ],
      "execution_count": null,
      "outputs": []
    },
    {
      "cell_type": "code",
      "metadata": {
        "colab": {
          "base_uri": "https://localhost:8080/",
          "height": 35
        },
        "id": "EGMyZuFqebBX",
        "outputId": "774c62ec-429a-4617-df9c-2520eedb44e2"
      },
      "source": [
        "choice(ngram_dict[start])"
      ],
      "execution_count": null,
      "outputs": [
        {
          "output_type": "execute_result",
          "data": {
            "application/vnd.google.colaboratory.intrinsic+json": {
              "type": "string"
            },
            "text/plain": [
              "'i'"
            ]
          },
          "metadata": {},
          "execution_count": 14
        }
      ]
    },
    {
      "cell_type": "code",
      "metadata": {
        "colab": {
          "base_uri": "https://localhost:8080/",
          "height": 35
        },
        "id": "ZcdTPXb8e0CM",
        "outputId": "08d9eca6-b798-447d-d0ab-d5cc85e41db6"
      },
      "source": [
        "choice(ngram_dict[('<s>','i')])"
      ],
      "execution_count": null,
      "outputs": [
        {
          "output_type": "execute_result",
          "data": {
            "application/vnd.google.colaboratory.intrinsic+json": {
              "type": "string"
            },
            "text/plain": [
              "'want'"
            ]
          },
          "metadata": {},
          "execution_count": 18
        }
      ]
    },
    {
      "cell_type": "code",
      "metadata": {
        "id": "20yVjT2LfWTX"
      },
      "source": [
        "def generate():\n",
        "  history = start\n",
        "  word = choice(ngram_dict[start])\n",
        "  #문장 끝 기호가 나올 때까지 반복하기\n",
        "  while word != '<\\s>':\n",
        "    print(word, end = '')\n",
        "    #history 업데이트\n",
        "    history = history[1:]+(word,)\n",
        "    #새로운 단어 추출\n",
        "    word = choice(ngram_dict[history])\n",
        "    #문장이 끝난 뒤\n",
        "  print() #줄바꿈"
      ],
      "execution_count": null,
      "outputs": []
    },
    {
      "cell_type": "code",
      "metadata": {
        "id": "lJ4_ijS6g2Rc"
      },
      "source": [
        "for i in range(5):\n",
        "  generate()"
      ],
      "execution_count": null,
      "outputs": []
    },
    {
      "cell_type": "code",
      "metadata": {
        "id": "r3aNk_ihxb7n"
      },
      "source": [
        "start = (n-1)*('<s>', )\n",
        "print(start)"
      ],
      "execution_count": null,
      "outputs": []
    },
    {
      "cell_type": "code",
      "metadata": {
        "id": "6Hrh7EF0ypAw"
      },
      "source": [
        "ngram_dict[histo]"
      ],
      "execution_count": null,
      "outputs": []
    },
    {
      "cell_type": "code",
      "metadata": {
        "id": "MD86BhA8xYOm"
      },
      "source": [
        "from random import choice"
      ],
      "execution_count": null,
      "outputs": []
    },
    {
      "cell_type": "code",
      "metadata": {
        "id": "erAIaLXZy-wK"
      },
      "source": [
        "def generate():\n",
        "  histroy = start\n",
        "  word = choice(ngram_dict[start])\n",
        "  while word != '<\\s>':\n",
        "    print(word, edns = ' ')\n",
        "    history = histroy[1:]+(word, )\n",
        "    word = choice(ngram_dict[history])\n",
        "  print()"
      ],
      "execution_count": null,
      "outputs": []
    },
    {
      "cell_type": "code",
      "metadata": {
        "id": "ZeemFTjwxU8M"
      },
      "source": [
        "for i in range(5):\n",
        "  generate()"
      ],
      "execution_count": null,
      "outputs": []
    },
    {
      "cell_type": "markdown",
      "metadata": {
        "id": "AGOt6DBRxdi4"
      },
      "source": [
        "# 확률이 가장 높은 단어만 뽑기\n",
        "ngram_dict[history] 리스트에서 빈도가 가장 높은 것만 뽑기"
      ]
    },
    {
      "cell_type": "code",
      "metadata": {
        "id": "_NRw-qJAxdDt"
      },
      "source": [
        "from collections import Counter\n",
        "# 최빈값 구하기\n",
        "def modes(seq):\n",
        "  '''[1,1,2,2,3] --> [1, 2]'''\n",
        "  counts = Counter(seq)\n",
        "  #Counter({1: 2, 2: 2, 3: 1})\n",
        "  M = max(counts.values())\n",
        "  results = []\n",
        "  for (item, count) in counts.items():\n",
        "    if count == M:\n",
        "      results.append(item)\n",
        "  return results\n"
      ],
      "execution_count": null,
      "outputs": []
    },
    {
      "cell_type": "code",
      "metadata": {
        "colab": {
          "base_uri": "https://localhost:8080/"
        },
        "id": "YpDNdbNHytpa",
        "outputId": "bf3fe4b3-21af-4274-fb96-500afa54f523"
      },
      "source": [
        "modes('aaaaaaaabbbbbccc')"
      ],
      "execution_count": null,
      "outputs": [
        {
          "output_type": "execute_result",
          "data": {
            "text/plain": [
              "['a']"
            ]
          },
          "metadata": {},
          "execution_count": 54
        }
      ]
    },
    {
      "cell_type": "code",
      "metadata": {
        "id": "SIe2STDVy1ay",
        "colab": {
          "base_uri": "https://localhost:8080/",
          "height": 299
        },
        "outputId": "76f0f300-f98c-4073-9196-e0323c580397"
      },
      "source": [
        "modes(ngram_dict[start])"
      ],
      "execution_count": null,
      "outputs": [
        {
          "output_type": "error",
          "ename": "ValueError",
          "evalue": "ignored",
          "traceback": [
            "\u001b[0;31m---------------------------------------------------------------------------\u001b[0m",
            "\u001b[0;31mValueError\u001b[0m                                Traceback (most recent call last)",
            "\u001b[0;32m<ipython-input-64-1d8d3a99f85a>\u001b[0m in \u001b[0;36m<module>\u001b[0;34m()\u001b[0m\n\u001b[0;32m----> 1\u001b[0;31m \u001b[0mmodes\u001b[0m\u001b[0;34m(\u001b[0m\u001b[0mngram_dict\u001b[0m\u001b[0;34m[\u001b[0m\u001b[0mstart\u001b[0m\u001b[0;34m]\u001b[0m\u001b[0;34m)\u001b[0m\u001b[0;34m\u001b[0m\u001b[0;34m\u001b[0m\u001b[0m\n\u001b[0m",
            "\u001b[0;32m<ipython-input-53-a4fb57be37fe>\u001b[0m in \u001b[0;36mmodes\u001b[0;34m(seq)\u001b[0m\n\u001b[1;32m      5\u001b[0m   \u001b[0mcounts\u001b[0m \u001b[0;34m=\u001b[0m \u001b[0mCounter\u001b[0m\u001b[0;34m(\u001b[0m\u001b[0mseq\u001b[0m\u001b[0;34m)\u001b[0m\u001b[0;34m\u001b[0m\u001b[0;34m\u001b[0m\u001b[0m\n\u001b[1;32m      6\u001b[0m   \u001b[0;31m#Counter({1: 2, 2: 2, 3: 1})\u001b[0m\u001b[0;34m\u001b[0m\u001b[0;34m\u001b[0m\u001b[0;34m\u001b[0m\u001b[0m\n\u001b[0;32m----> 7\u001b[0;31m   \u001b[0mM\u001b[0m \u001b[0;34m=\u001b[0m \u001b[0mmax\u001b[0m\u001b[0;34m(\u001b[0m\u001b[0mcounts\u001b[0m\u001b[0;34m.\u001b[0m\u001b[0mvalues\u001b[0m\u001b[0;34m(\u001b[0m\u001b[0;34m)\u001b[0m\u001b[0;34m)\u001b[0m\u001b[0;34m\u001b[0m\u001b[0;34m\u001b[0m\u001b[0m\n\u001b[0m\u001b[1;32m      8\u001b[0m   \u001b[0mresults\u001b[0m \u001b[0;34m=\u001b[0m \u001b[0;34m[\u001b[0m\u001b[0;34m]\u001b[0m\u001b[0;34m\u001b[0m\u001b[0;34m\u001b[0m\u001b[0m\n\u001b[1;32m      9\u001b[0m   \u001b[0;32mfor\u001b[0m \u001b[0;34m(\u001b[0m\u001b[0mitem\u001b[0m\u001b[0;34m,\u001b[0m \u001b[0mcount\u001b[0m\u001b[0;34m)\u001b[0m \u001b[0;32min\u001b[0m \u001b[0mcounts\u001b[0m\u001b[0;34m.\u001b[0m\u001b[0mitems\u001b[0m\u001b[0;34m(\u001b[0m\u001b[0;34m)\u001b[0m\u001b[0;34m:\u001b[0m\u001b[0;34m\u001b[0m\u001b[0;34m\u001b[0m\u001b[0m\n",
            "\u001b[0;31mValueError\u001b[0m: max() arg is an empty sequence"
          ]
        }
      ]
    },
    {
      "cell_type": "code",
      "metadata": {
        "id": "VbPtcxhMy8z2"
      },
      "source": [
        "def complete():\n",
        "  history = start\n",
        "  word = choice(modes(ngram_dict[start]))\n",
        "  while words != '<\\s>':\n",
        "    print(word, end= '')\n",
        "    history = hisorry[1:] + (word,)\n",
        "    word =choice(modes(ngram_dict[history]))\n",
        "  print()"
      ],
      "execution_count": null,
      "outputs": []
    },
    {
      "cell_type": "code",
      "metadata": {
        "id": "GQyc3u6Izrub"
      },
      "source": [
        "complete()"
      ],
      "execution_count": null,
      "outputs": []
    }
  ]
}