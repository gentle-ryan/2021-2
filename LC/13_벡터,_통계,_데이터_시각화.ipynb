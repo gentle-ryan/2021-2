{
  "nbformat": 4,
  "nbformat_minor": 0,
  "metadata": {
    "colab": {
      "provenance": []
    },
    "kernelspec": {
      "name": "python3",
      "display_name": "Python 3"
    },
    "language_info": {
      "name": "python"
    }
  },
  "cells": [
    {
      "cell_type": "code",
      "metadata": {
        "id": "s1rB0bNci4ao"
      },
      "source": [
        "def vector_add(v, w):\n",
        "  result = []\n",
        "  n = len(v)\n",
        "  for i in range(len(n)):\n",
        "    result.append(v[i], w[i])\n",
        "  return result"
      ],
      "execution_count": null,
      "outputs": []
    },
    {
      "cell_type": "code",
      "metadata": {
        "id": "aTp4QWX9j1nR"
      },
      "source": [
        "v = [1, 2, 3, 4]\n",
        "w = [2, 0, 3, 5]\n",
        "print(vector_add(v, w))"
      ],
      "execution_count": null,
      "outputs": []
    },
    {
      "cell_type": "code",
      "metadata": {
        "colab": {
          "base_uri": "https://localhost:8080/"
        },
        "id": "atNTDp22kj7t",
        "outputId": "b06f5514-dece-4fea-9d05-5d7db8efb404"
      },
      "source": [
        "list(zip(v, w))"
      ],
      "execution_count": null,
      "outputs": [
        {
          "output_type": "execute_result",
          "data": {
            "text/plain": [
              "[(1, 2), (2, 0), (3, 3), (4, 5)]"
            ]
          },
          "metadata": {},
          "execution_count": 11
        }
      ]
    },
    {
      "cell_type": "code",
      "metadata": {
        "id": "7tyYrORFlE6_"
      },
      "source": [
        "def vector_add(v, w):\n",
        "  assert len(v) == len(w) #길이가 같아야 연산 가능\n",
        "  return [(vi+wi) for (vi, wi) in zip (v, w)]"
      ],
      "execution_count": null,
      "outputs": []
    },
    {
      "cell_type": "code",
      "metadata": {
        "colab": {
          "base_uri": "https://localhost:8080/"
        },
        "id": "GuA4gfKxlWu3",
        "outputId": "3bf28a36-ff81-4f1e-e1e7-ab90ff5746db"
      },
      "source": [
        "v = [1, 2, 3, 4]\n",
        "w = [2, 0, 3, 5]\n",
        "print(vector_add(v, w))"
      ],
      "execution_count": null,
      "outputs": [
        {
          "output_type": "stream",
          "name": "stdout",
          "text": [
            "[3, 2, 6, 9]\n"
          ]
        }
      ]
    },
    {
      "cell_type": "code",
      "metadata": {
        "colab": {
          "base_uri": "https://localhost:8080/"
        },
        "id": "ZXTF6MgalpIn",
        "outputId": "5a38ad01-3347-497c-c38d-f25035853017"
      },
      "source": [
        "v1 = [1, 2, 3]\n",
        "w1 = [2, 3, 4, 5, 6]\n",
        "print(vector_add(v1, w1))\n",
        "#zip 함수 : 길이가 짧은 것에 맞추어 줌."
      ],
      "execution_count": null,
      "outputs": [
        {
          "output_type": "stream",
          "name": "stdout",
          "text": [
            "[3, 5, 7]\n"
          ]
        }
      ]
    },
    {
      "cell_type": "code",
      "metadata": {
        "id": "PtvLdc6-mVzU"
      },
      "source": [
        "def vector_subtract(v,w):\n",
        "  return [vi - wi for vi, wi in zip(v,w)]"
      ],
      "execution_count": null,
      "outputs": []
    },
    {
      "cell_type": "code",
      "metadata": {
        "colab": {
          "base_uri": "https://localhost:8080/"
        },
        "id": "XJFWDP6kmys8",
        "outputId": "144a3825-8ff0-4742-b4ef-9c05d10ee289"
      },
      "source": [
        "print(vector_subtract(v, w))"
      ],
      "execution_count": null,
      "outputs": [
        {
          "output_type": "stream",
          "name": "stdout",
          "text": [
            "[-1, -1, -1]\n"
          ]
        }
      ]
    },
    {
      "cell_type": "code",
      "metadata": {
        "id": "Y3kRWpPumAtH"
      },
      "source": [
        "def scalar_multiply(c, v):\n",
        "  return [c*vi for vi in v]"
      ],
      "execution_count": null,
      "outputs": []
    },
    {
      "cell_type": "code",
      "metadata": {
        "colab": {
          "base_uri": "https://localhost:8080/"
        },
        "id": "dn9zjurCo-wr",
        "outputId": "2a9ae9f1-bb31-486a-97e4-6faafad65be1"
      },
      "source": [
        "scalar_multiply(5, [3,2])"
      ],
      "execution_count": null,
      "outputs": [
        {
          "output_type": "execute_result",
          "data": {
            "text/plain": [
              "[15, 10]"
            ]
          },
          "metadata": {},
          "execution_count": 26
        }
      ]
    },
    {
      "cell_type": "code",
      "metadata": {
        "id": "Ozfbz-TRpB35"
      },
      "source": [
        "v = [1,2,3,4]\n",
        "w = [4,2,1,9]\n",
        "z = [5,2,3,0]\n",
        "vectors = [v,w,z]"
      ],
      "execution_count": null,
      "outputs": []
    },
    {
      "cell_type": "code",
      "metadata": {
        "colab": {
          "base_uri": "https://localhost:8080/"
        },
        "id": "SFTpeRXMpgnP",
        "outputId": "1d51b787-8f3e-4c40-82fa-538e80d7493a"
      },
      "source": [
        "list(zip(v,w,z))"
      ],
      "execution_count": null,
      "outputs": [
        {
          "output_type": "execute_result",
          "data": {
            "text/plain": [
              "[(1, 4, 5), (2, 2, 2), (3, 1, 3), (4, 9, 0)]"
            ]
          },
          "metadata": {},
          "execution_count": 29
        }
      ]
    },
    {
      "cell_type": "code",
      "metadata": {
        "id": "Bn7VkoSgpkdm"
      },
      "source": [
        "list(zip(vectors)) #원하는 결과 안 나옴"
      ],
      "execution_count": null,
      "outputs": []
    },
    {
      "cell_type": "code",
      "metadata": {
        "colab": {
          "base_uri": "https://localhost:8080/"
        },
        "id": "bEvhwHRmpkY2",
        "outputId": "6e7fb25c-919b-4640-b04b-dfbba3fdce51"
      },
      "source": [
        "list(zip(*vectors))"
      ],
      "execution_count": null,
      "outputs": [
        {
          "output_type": "execute_result",
          "data": {
            "text/plain": [
              "[(1, 4, 5), (2, 2, 2), (3, 1, 3), (4, 9, 0)]"
            ]
          },
          "metadata": {},
          "execution_count": 30
        }
      ]
    },
    {
      "cell_type": "code",
      "metadata": {
        "id": "OciPi1pCpxlX"
      },
      "source": [
        "def vector_sum(vectors:list) -> list:\n",
        "  return [sum(components) for components in zip(*vectors)]"
      ],
      "execution_count": null,
      "outputs": []
    },
    {
      "cell_type": "code",
      "metadata": {
        "colab": {
          "base_uri": "https://localhost:8080/"
        },
        "id": "JC73ZSywqmwE",
        "outputId": "7a8d2994-8aff-40a6-a4ff-79b54d61c766"
      },
      "source": [
        "vector_sum([[1,2], [3,4], [5,6], [7,8]])"
      ],
      "execution_count": null,
      "outputs": [
        {
          "output_type": "execute_result",
          "data": {
            "text/plain": [
              "[16, 20]"
            ]
          },
          "metadata": {},
          "execution_count": 42
        }
      ]
    },
    {
      "cell_type": "code",
      "metadata": {
        "id": "D9mcAdvhrPr7"
      },
      "source": [
        "def vector_mean(vectors):\n",
        "  return scalar_multiply(1/len(vectors), vector_sum(vectors))"
      ],
      "execution_count": null,
      "outputs": []
    },
    {
      "cell_type": "code",
      "metadata": {
        "colab": {
          "base_uri": "https://localhost:8080/"
        },
        "id": "wchyhQTqrnnX",
        "outputId": "0b83a2d0-6776-4dbd-90cd-3b57c3c4693f"
      },
      "source": [
        "vector_mean([[1,2], [2,1]])"
      ],
      "execution_count": null,
      "outputs": [
        {
          "output_type": "execute_result",
          "data": {
            "text/plain": [
              "[1.5, 1.5]"
            ]
          },
          "metadata": {},
          "execution_count": 44
        }
      ]
    },
    {
      "cell_type": "code",
      "metadata": {
        "id": "HhBYv3QSrnhF"
      },
      "source": [
        "#벡터의 내적\n",
        "def dot(v,w):\n",
        "  return sum((vi*wi) for (vi, wi) in zip(v,w))"
      ],
      "execution_count": null,
      "outputs": []
    },
    {
      "cell_type": "code",
      "metadata": {
        "colab": {
          "base_uri": "https://localhost:8080/"
        },
        "id": "RqZgOaJvsZWD",
        "outputId": "3fd1aab2-f4bc-4207-a59e-77fb61c8bf4c"
      },
      "source": [
        "dot([3,4], [-4,3]) #서로 수직인 벡터"
      ],
      "execution_count": null,
      "outputs": [
        {
          "output_type": "execute_result",
          "data": {
            "text/plain": [
              "0"
            ]
          },
          "metadata": {},
          "execution_count": 47
        }
      ]
    },
    {
      "cell_type": "code",
      "metadata": {
        "colab": {
          "base_uri": "https://localhost:8080/"
        },
        "id": "aYVU3qVIssiZ",
        "outputId": "c668bfe2-b6d5-45dc-c6a5-612af2ed6fbe"
      },
      "source": [
        "dot([1,1], [2,2]) #서로 평행한 벡터"
      ],
      "execution_count": null,
      "outputs": [
        {
          "output_type": "execute_result",
          "data": {
            "text/plain": [
              "4"
            ]
          },
          "metadata": {},
          "execution_count": 49
        }
      ]
    },
    {
      "cell_type": "code",
      "metadata": {
        "id": "8LQ1kY-ftUi-"
      },
      "source": [
        "def magnitude(v):\n",
        "  return dot(v,v)**(1/2)\n"
      ],
      "execution_count": null,
      "outputs": []
    },
    {
      "cell_type": "code",
      "metadata": {
        "id": "AYlkwB9btdYa"
      },
      "source": [
        "#두 벡터 사이의 거리\n",
        "def euclidean_distance(v, w):\n",
        "  return magnitude(vector_subtract(v, w))\n",
        "\n",
        "#cosine_distance"
      ],
      "execution_count": null,
      "outputs": []
    },
    {
      "cell_type": "code",
      "metadata": {
        "id": "vSmdDdYDun-5"
      },
      "source": [
        "import numpy as np"
      ],
      "execution_count": null,
      "outputs": []
    },
    {
      "cell_type": "code",
      "metadata": {
        "id": "2rePzIJPgrLO"
      },
      "source": [
        "#어레이로 형변환\n",
        "v = np.array(v)\n",
        "w = np.array(w)"
      ],
      "execution_count": null,
      "outputs": []
    }
  ]
}