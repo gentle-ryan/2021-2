{
  "nbformat": 4,
  "nbformat_minor": 0,
  "metadata": {
    "colab": {
      "provenance": []
    },
    "kernelspec": {
      "name": "python3",
      "display_name": "Python 3"
    },
    "language_info": {
      "name": "python"
    }
  },
  "cells": [
    {
      "cell_type": "code",
      "source": [
        "import numpy as np\n",
        "import pandas as pd"
      ],
      "metadata": {
        "id": "fY7G0a-5UgmQ"
      },
      "execution_count": null,
      "outputs": []
    },
    {
      "cell_type": "markdown",
      "source": [
        "코퍼스와 문서 그리고 문서에 있는 단어들을 만들어주었습니다. 전체 문서가 있는 리스트를 docs라 생각하고 docs에 있는 각 문서를 doc라 생각했습니다."
      ],
      "metadata": {
        "id": "kFV6EuMzDP0l"
      }
    },
    {
      "cell_type": "code",
      "source": [
        "copus = \"\"\"i like to eat a pizza\n",
        "i want to eat food from malaysia\n",
        "i would like to eat some chinese food\"\"\"\n",
        "\n",
        "docs = [sent.split() for sent in copus.splitlines()]\n",
        "doc1 = docs[0]\n",
        "doc2 = docs[1]\n",
        "doc3 = docs[2]\n",
        "terms = list(set(w for sent in copus for w in copus.split()))"
      ],
      "metadata": {
        "id": "axyOiF8uWG4n"
      },
      "execution_count": null,
      "outputs": []
    },
    {
      "cell_type": "markdown",
      "source": [
        "# 1.1 Term frequency\n"
      ],
      "metadata": {
        "id": "R4U6PTkmDbs8"
      }
    },
    {
      "cell_type": "markdown",
      "source": [
        "count함수를 이용하여 term이 doc에 나타난 횟수를 세주었습니다. get_tf(term, doc)함수가 term frequency값을 반환하도록 해주었습니다."
      ],
      "metadata": {
        "id": "XePEB4ngDevX"
      }
    },
    {
      "cell_type": "code",
      "source": [
        "def  get_tf(term,doc):\n",
        "  return np.log10(doc.count(term) + 1)"
      ],
      "metadata": {
        "id": "0R5m6qWxJdzJ"
      },
      "execution_count": null,
      "outputs": []
    },
    {
      "cell_type": "code",
      "source": [
        "get_tf('like', doc3)"
      ],
      "metadata": {
        "colab": {
          "base_uri": "https://localhost:8080/"
        },
        "id": "ANUWdF5rKp7Q",
        "outputId": "71a570f3-0b34-4304-c901-1777945fc1cf"
      },
      "execution_count": null,
      "outputs": [
        {
          "output_type": "execute_result",
          "data": {
            "text/plain": [
              "0.3010299956639812"
            ]
          },
          "metadata": {},
          "execution_count": 14
        }
      ]
    },
    {
      "cell_type": "markdown",
      "source": [
        "#1.2 Inverse document frequency\n",
        "\n"
      ],
      "metadata": {
        "id": "6Rvt80EXD2vl"
      }
    },
    {
      "cell_type": "markdown",
      "source": [
        "전체 문서의 개수를 N으로 놓고 term이 포함된 문서의 수를 n으로 두었습니다.\n",
        "if 문을 사용하여 term이 doc에 있을 때마다 n에 1을 추가해주었습니다."
      ],
      "metadata": {
        "id": "WC_W7r24JP3t"
      }
    },
    {
      "cell_type": "code",
      "source": [
        "def get_idf(term):\n",
        "  N = len(docs)\n",
        "  n = 0\n",
        "  for i in range(0, N):\n",
        "    if term in docs[i]:\n",
        "      n += 1\n",
        "  return np.log10(N/n)"
      ],
      "metadata": {
        "id": "38JDBU6QhWXF"
      },
      "execution_count": null,
      "outputs": []
    },
    {
      "cell_type": "code",
      "source": [
        "get_idf('want')"
      ],
      "metadata": {
        "colab": {
          "base_uri": "https://localhost:8080/"
        },
        "id": "sWOH5BQbkB0m",
        "outputId": "d0df19a5-bac0-409c-8234-1297b315a3aa"
      },
      "execution_count": null,
      "outputs": [
        {
          "output_type": "execute_result",
          "data": {
            "text/plain": [
              "0.47712125471966244"
            ]
          },
          "metadata": {},
          "execution_count": 16
        }
      ]
    },
    {
      "cell_type": "code",
      "source": [
        "get_idf('food')"
      ],
      "metadata": {
        "colab": {
          "base_uri": "https://localhost:8080/"
        },
        "id": "KSp57UDGL429",
        "outputId": "8ef5e4aa-53fa-4df2-9016-ef0f222ae278"
      },
      "execution_count": null,
      "outputs": [
        {
          "output_type": "execute_result",
          "data": {
            "text/plain": [
              "0.17609125905568124"
            ]
          },
          "metadata": {},
          "execution_count": 17
        }
      ]
    },
    {
      "cell_type": "markdown",
      "source": [
        "#1.3 TF‑IDF matrix"
      ],
      "metadata": {
        "id": "mW5Z3ISpMEdO"
      }
    },
    {
      "cell_type": "markdown",
      "source": [
        "각 문서마다 result 리스트를 만들어 tf값과 idf값을 곱하여 추가해주었습니다.\n",
        "그후 각 result리스트를 하나로 합치고 pd.DataFrame을 활용해 정리해주었습니다."
      ],
      "metadata": {
        "id": "D1CE3t-BMHHo"
      }
    },
    {
      "cell_type": "code",
      "source": [
        "result1 = []\n",
        "result2 = []\n",
        "result3 = []\n",
        "for i in range(len(terms)):\n",
        "  result1.append(get_tf(terms[i], doc1)*get_idf(terms[i]))\n",
        "  result2.append(get_tf(terms[i], doc2)*get_idf(terms[i]))\n",
        "  result3.append(get_tf(terms[i], doc3)*get_idf(terms[i]))\n",
        "\n",
        "result = [result1, result2, result3]\n",
        "tf_idf = pd.DataFrame(result, columns = terms)\n",
        "tf_idf\n"
      ],
      "metadata": {
        "colab": {
          "base_uri": "https://localhost:8080/",
          "height": 143
        },
        "id": "O95z2l7Y4Cg9",
        "outputId": "53f6752c-1f70-4a3b-da75-ea02df59d478"
      },
      "execution_count": null,
      "outputs": [
        {
          "output_type": "execute_result",
          "data": {
            "text/html": [
              "<div>\n",
              "<style scoped>\n",
              "    .dataframe tbody tr th:only-of-type {\n",
              "        vertical-align: middle;\n",
              "    }\n",
              "\n",
              "    .dataframe tbody tr th {\n",
              "        vertical-align: top;\n",
              "    }\n",
              "\n",
              "    .dataframe thead th {\n",
              "        text-align: right;\n",
              "    }\n",
              "</style>\n",
              "<table border=\"1\" class=\"dataframe\">\n",
              "  <thead>\n",
              "    <tr style=\"text-align: right;\">\n",
              "      <th></th>\n",
              "      <th>want</th>\n",
              "      <th>food</th>\n",
              "      <th>to</th>\n",
              "      <th>from</th>\n",
              "      <th>some</th>\n",
              "      <th>pizza</th>\n",
              "      <th>like</th>\n",
              "      <th>malaysia</th>\n",
              "      <th>chinese</th>\n",
              "      <th>a</th>\n",
              "      <th>would</th>\n",
              "      <th>eat</th>\n",
              "      <th>i</th>\n",
              "    </tr>\n",
              "  </thead>\n",
              "  <tbody>\n",
              "    <tr>\n",
              "      <th>0</th>\n",
              "      <td>0.000000</td>\n",
              "      <td>0.000000</td>\n",
              "      <td>0.0</td>\n",
              "      <td>0.000000</td>\n",
              "      <td>0.000000</td>\n",
              "      <td>0.143628</td>\n",
              "      <td>0.053009</td>\n",
              "      <td>0.000000</td>\n",
              "      <td>0.000000</td>\n",
              "      <td>0.143628</td>\n",
              "      <td>0.000000</td>\n",
              "      <td>0.0</td>\n",
              "      <td>0.0</td>\n",
              "    </tr>\n",
              "    <tr>\n",
              "      <th>1</th>\n",
              "      <td>0.143628</td>\n",
              "      <td>0.053009</td>\n",
              "      <td>0.0</td>\n",
              "      <td>0.143628</td>\n",
              "      <td>0.000000</td>\n",
              "      <td>0.000000</td>\n",
              "      <td>0.000000</td>\n",
              "      <td>0.143628</td>\n",
              "      <td>0.000000</td>\n",
              "      <td>0.000000</td>\n",
              "      <td>0.000000</td>\n",
              "      <td>0.0</td>\n",
              "      <td>0.0</td>\n",
              "    </tr>\n",
              "    <tr>\n",
              "      <th>2</th>\n",
              "      <td>0.000000</td>\n",
              "      <td>0.053009</td>\n",
              "      <td>0.0</td>\n",
              "      <td>0.000000</td>\n",
              "      <td>0.143628</td>\n",
              "      <td>0.000000</td>\n",
              "      <td>0.053009</td>\n",
              "      <td>0.000000</td>\n",
              "      <td>0.143628</td>\n",
              "      <td>0.000000</td>\n",
              "      <td>0.143628</td>\n",
              "      <td>0.0</td>\n",
              "      <td>0.0</td>\n",
              "    </tr>\n",
              "  </tbody>\n",
              "</table>\n",
              "</div>"
            ],
            "text/plain": [
              "       want      food   to      from  ...         a     would  eat    i\n",
              "0  0.000000  0.000000  0.0  0.000000  ...  0.143628  0.000000  0.0  0.0\n",
              "1  0.143628  0.053009  0.0  0.143628  ...  0.000000  0.000000  0.0  0.0\n",
              "2  0.000000  0.053009  0.0  0.000000  ...  0.000000  0.143628  0.0  0.0\n",
              "\n",
              "[3 rows x 13 columns]"
            ]
          },
          "metadata": {},
          "execution_count": 18
        }
      ]
    }
  ]
}