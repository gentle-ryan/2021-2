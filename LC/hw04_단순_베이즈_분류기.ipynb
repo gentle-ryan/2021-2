{
  "nbformat": 4,
  "nbformat_minor": 0,
  "metadata": {
    "colab": {
      "provenance": []
    },
    "kernelspec": {
      "name": "python3",
      "display_name": "Python 3"
    },
    "language_info": {
      "name": "python"
    }
  },
  "cells": [
    {
      "cell_type": "markdown",
      "metadata": {
        "id": "vpQ8C2ffYGeZ"
      },
      "source": [
        "# 0. 데이터"
      ]
    },
    {
      "cell_type": "markdown",
      "metadata": {
        "id": "jJLnQgpHXdma"
      },
      "source": [
        "## 데이터 소개\n",
        "\n",
        "이 과제에서 사용할 데이터는 당시(唐詩: 중국 당나라 시대의 한시) 160편에 사람이 붙인 감정(긍정·부정) 범주가 추가된 코퍼스이다. 이 코퍼스는 아래의 논문에서 발표되었다.\n",
        "\n",
        "> Hou, Y., & Frank, A. (2015). Analyzing sentiment in classical Chinese poetry. In *Proceedings of the 9th SIGHUM Workshop on Language Technology for Cultural Heritage, Social Sciences, and Humanities (LaTeCH)* (pp. 15-24). http://www.aclweb.org/anthology/W15-3703"
      ]
    },
    {
      "cell_type": "markdown",
      "metadata": {
        "id": "1SxxWyCtdV41"
      },
      "source": [
        "## 파일 가져오기"
      ]
    },
    {
      "cell_type": "markdown",
      "metadata": {
        "id": "S8y7jf3eSbE-"
      },
      "source": [
        "### 파일 내려받기\n",
        "\n",
        "Colab 환경에서 위의 코퍼스 파일을 다운로드하자.\n",
        "\n"
      ]
    },
    {
      "cell_type": "code",
      "metadata": {
        "colab": {
          "base_uri": "https://localhost:8080/"
        },
        "id": "Cf4oJ7benP3k",
        "outputId": "7d8cb0bd-ccbd-46e8-df8b-1a924608fa98"
      },
      "source": [
        "!wget https://www.cl.uni-heidelberg.de/~hou/resources/sentiLexicon.zip"
      ],
      "execution_count": null,
      "outputs": [
        {
          "output_type": "stream",
          "name": "stdout",
          "text": [
            "--2021-11-25 16:50:36--  https://www.cl.uni-heidelberg.de/~hou/resources/sentiLexicon.zip\n",
            "Resolving www.cl.uni-heidelberg.de (www.cl.uni-heidelberg.de)... 147.142.207.78\n",
            "Connecting to www.cl.uni-heidelberg.de (www.cl.uni-heidelberg.de)|147.142.207.78|:443... connected.\n",
            "HTTP request sent, awaiting response... 200 OK\n",
            "Length: 137995 (135K) [application/zip]\n",
            "Saving to: ‘sentiLexicon.zip’\n",
            "\n",
            "sentiLexicon.zip    100%[===================>] 134.76K   386KB/s    in 0.3s    \n",
            "\n",
            "2021-11-25 16:50:38 (386 KB/s) - ‘sentiLexicon.zip’ saved [137995/137995]\n",
            "\n"
          ]
        }
      ]
    },
    {
      "cell_type": "markdown",
      "metadata": {
        "id": "fwGfgLIMSiCB"
      },
      "source": [
        "### 압축 풀기\n",
        "\n",
        "다운로드한 파일명은 `sentiLexicon.zip`이다. 파일 확장자에서 알 수 있듯이 압축 파일이므로, 압축을 풀어야 한다. 아래와 같이 `unzip` 명령을 사용하면 압축을 풀 수 있다."
      ]
    },
    {
      "cell_type": "code",
      "metadata": {
        "colab": {
          "base_uri": "https://localhost:8080/"
        },
        "id": "jjTEDpkHn9D0",
        "outputId": "49045988-d892-4bdb-f24c-1e7143e22d6b"
      },
      "source": [
        "!unzip sentiLexicon.zip"
      ],
      "execution_count": null,
      "outputs": [
        {
          "output_type": "stream",
          "name": "stdout",
          "text": [
            "Archive:  sentiLexicon.zip\n",
            "   creating: sentiLexicon/\n",
            "  inflating: sentiLexicon/poems_sentiAnnotation  \n",
            "  inflating: sentiLexicon/sentiDataset  \n",
            "  inflating: sentiLexicon/imageryDataset  \n",
            "  inflating: sentiLexicon/poetrySentimentLexicon  \n"
          ]
        }
      ]
    },
    {
      "cell_type": "markdown",
      "metadata": {
        "id": "qSx9wRk5Sl9n"
      },
      "source": [
        "### 파일 살펴보기\n",
        "\n",
        "압축을 풀고 나면 `sentimentLexicon`이라는 폴더가 생성된다. 이 폴더 안에 들어 있는 파일의 목록을 확인해 보자."
      ]
    },
    {
      "cell_type": "code",
      "metadata": {
        "colab": {
          "base_uri": "https://localhost:8080/"
        },
        "id": "nArmCwGjoFg3",
        "outputId": "61d6d854-fb05-489e-bce3-bfd36bdd8296"
      },
      "source": [
        "!ls sentiLexicon"
      ],
      "execution_count": null,
      "outputs": [
        {
          "output_type": "stream",
          "name": "stdout",
          "text": [
            "imageryDataset\tpoems_sentiAnnotation  poetrySentimentLexicon  sentiDataset\n"
          ]
        }
      ]
    },
    {
      "cell_type": "markdown",
      "metadata": {
        "id": "t-eIEUPWZd-g"
      },
      "source": [
        "위에서 살펴볼 수 있듯이 폴더 안에는 총 네 개의 파일이 들어 있다. 이 중에서 우리가 사용할 것은 `poems_sentiAnnotation`라는 이름의 파일이다. 아래와 같이 `head` 명령을 사용하면 파일의 첫 10라인을 미리 볼 수 있다."
      ]
    },
    {
      "cell_type": "code",
      "metadata": {
        "colab": {
          "base_uri": "https://localhost:8080/"
        },
        "id": "S5-c0zV6SQ3k",
        "outputId": "ed853302-778d-4f22-ab3c-57f4c66173f5"
      },
      "source": [
        "!head sentiLexicon/poems_sentiAnnotation"
      ],
      "execution_count": null,
      "outputs": [
        {
          "output_type": "stream",
          "name": "stdout",
          "text": [
            "sentiment#author#title#content\n",
            "1\t虞世南\t蝉\t垂緌饮清露，流响出疏桐。居高声自远，非是藉秋风。\n",
            "-1\t王绩\t野望\t东皋薄暮望，徙倚欲何依。树树皆秋色，山山唯落晖。牧人驱犊返，猎马带禽归。相顾无相识，长歌怀采薇。\n",
            "1\t王绩\t秋夜喜遇王处士\t北场芸藿罢，东皋刈黍归。相逢秋月满，更值夜萤飞。\n",
            "-1\t王梵志\t吾富有钱时\t吾富有钱时，妇儿看我好。吾若脱衣裳，与吾叠袍袄。吾出经求去，送吾即上道。将钱入舍来，见吾满面笑。绕吾白鸽旋，恰似鹦鹉鸟。邂逅暂时贫，看吾即貌哨。人有七贫时，七富还相报。图财不顾人，且看来时道。\n",
            "-1\t王梵志\t诗（二首）\t我有一方便，价值百匹练。相打长伏弱，至死不入县。他人骑大马，我独跨驴子。回顾担柴汉，心下较些子。\n",
            "-1\t寒山\t杳杳寒山道\t杳杳寒山道，落落冷涧滨。啾啾常有鸟，寂寂更无人。淅淅风吹面，纷纷雪积身。朝朝不见日，岁岁不知春。\n",
            "1\t上官仪\t入朝洛堤步月\t脉脉广川流，驱马历长洲。鹊飞山月曙，蝉噪野风秋。\n",
            "-1\t骆宾王\t咏蝉\t西陆蝉声唱，南冠客思深。不堪玄鬓影，来对白头吟。露重飞难进，风多响易沉。无人信高洁，谁为表予心？\n",
            "-1\t骆宾王\t于易水送人一绝\t此地别燕丹，壮士发冲冠。昔时人已没，今日水犹寒。\n"
          ]
        }
      ]
    },
    {
      "cell_type": "markdown",
      "metadata": {
        "id": "wXKUduhAdcds"
      },
      "source": [
        "## 데이터프레임으로 가져오기"
      ]
    },
    {
      "cell_type": "markdown",
      "metadata": {
        "id": "dN5yeCUVSoX4"
      },
      "source": [
        "### 파이썬에서 파일 읽기\n",
        "\n",
        "위에서 미리 본 파일의 내용을 살펴보면, 우선 첫 번째 라인은 필드명(sentiment#author#title#content)으로 이루어져 있다. 두 번째 라인부터 데이터의 내용이 들어 있다. 라인 한 개가 1편의 시에 해당하며, 감정 범주(sentiment), 저자의 이름(author), 시의 제목(title), 시의 본문(content) 네 개의 값이 탭(`\\t`) 문자로 구분되어 있음을 알 수 있다.\n",
        "\n",
        "이러한 규칙성을 바탕으로, 파이썬에서 pandas 라이브러리를 사용하여 위의 파일을 DataFrame 자료형에 해당하는 객체로 읽고자 한다. 아래의 코드를 실행하면 `data`라는 변수명에 데이터가 저장된다. `data.head()`로 5개 행의 내용을 확인할 수 있다."
      ]
    },
    {
      "cell_type": "code",
      "metadata": {
        "colab": {
          "base_uri": "https://localhost:8080/",
          "height": 275
        },
        "id": "dFcwC8iCoDcs",
        "outputId": "d1489ba1-88b2-40e9-fe0a-2887deaa1c05"
      },
      "source": [
        "import pandas as pd\n",
        "data = pd.read_csv(\n",
        "    'sentiLexicon/poems_sentiAnnotation',\n",
        "    sep='\\t',\n",
        "    skiprows=1,\n",
        "    names=('sentiment', 'author', 'title', 'content')\n",
        "    )\n",
        "data.head()"
      ],
      "execution_count": null,
      "outputs": [
        {
          "output_type": "execute_result",
          "data": {
            "text/html": [
              "<div>\n",
              "<style scoped>\n",
              "    .dataframe tbody tr th:only-of-type {\n",
              "        vertical-align: middle;\n",
              "    }\n",
              "\n",
              "    .dataframe tbody tr th {\n",
              "        vertical-align: top;\n",
              "    }\n",
              "\n",
              "    .dataframe thead th {\n",
              "        text-align: right;\n",
              "    }\n",
              "</style>\n",
              "<table border=\"1\" class=\"dataframe\">\n",
              "  <thead>\n",
              "    <tr style=\"text-align: right;\">\n",
              "      <th></th>\n",
              "      <th>sentiment</th>\n",
              "      <th>author</th>\n",
              "      <th>title</th>\n",
              "      <th>content</th>\n",
              "    </tr>\n",
              "  </thead>\n",
              "  <tbody>\n",
              "    <tr>\n",
              "      <th>0</th>\n",
              "      <td>1</td>\n",
              "      <td>虞世南</td>\n",
              "      <td>蝉</td>\n",
              "      <td>垂緌饮清露，流响出疏桐。居高声自远，非是藉秋风。</td>\n",
              "    </tr>\n",
              "    <tr>\n",
              "      <th>1</th>\n",
              "      <td>-1</td>\n",
              "      <td>王绩</td>\n",
              "      <td>野望</td>\n",
              "      <td>东皋薄暮望，徙倚欲何依。树树皆秋色，山山唯落晖。牧人驱犊返，猎马带禽归。相顾无相识，长歌怀采薇。</td>\n",
              "    </tr>\n",
              "    <tr>\n",
              "      <th>2</th>\n",
              "      <td>1</td>\n",
              "      <td>王绩</td>\n",
              "      <td>秋夜喜遇王处士</td>\n",
              "      <td>北场芸藿罢，东皋刈黍归。相逢秋月满，更值夜萤飞。</td>\n",
              "    </tr>\n",
              "    <tr>\n",
              "      <th>3</th>\n",
              "      <td>-1</td>\n",
              "      <td>王梵志</td>\n",
              "      <td>吾富有钱时</td>\n",
              "      <td>吾富有钱时，妇儿看我好。吾若脱衣裳，与吾叠袍袄。吾出经求去，送吾即上道。将钱入舍来，见吾满面...</td>\n",
              "    </tr>\n",
              "    <tr>\n",
              "      <th>4</th>\n",
              "      <td>-1</td>\n",
              "      <td>王梵志</td>\n",
              "      <td>诗（二首）</td>\n",
              "      <td>我有一方便，价值百匹练。相打长伏弱，至死不入县。他人骑大马，我独跨驴子。回顾担柴汉，心下较些子。</td>\n",
              "    </tr>\n",
              "  </tbody>\n",
              "</table>\n",
              "</div>"
            ],
            "text/plain": [
              "   sentiment author    title                                            content\n",
              "0          1    虞世南        蝉                           垂緌饮清露，流响出疏桐。居高声自远，非是藉秋风。\n",
              "1         -1     王绩       野望   东皋薄暮望，徙倚欲何依。树树皆秋色，山山唯落晖。牧人驱犊返，猎马带禽归。相顾无相识，长歌怀采薇。\n",
              "2          1     王绩  秋夜喜遇王处士                           北场芸藿罢，东皋刈黍归。相逢秋月满，更值夜萤飞。\n",
              "3         -1    王梵志    吾富有钱时  吾富有钱时，妇儿看我好。吾若脱衣裳，与吾叠袍袄。吾出经求去，送吾即上道。将钱入舍来，见吾满面...\n",
              "4         -1    王梵志    诗（二首）   我有一方便，价值百匹练。相打长伏弱，至死不入县。他人骑大马，我独跨驴子。回顾担柴汉，心下较些子。"
            ]
          },
          "metadata": {},
          "execution_count": 5
        }
      ]
    },
    {
      "cell_type": "markdown",
      "metadata": {
        "id": "rzsybH06bMDA"
      },
      "source": [
        "### 데이터 가공하기\n",
        "\n",
        "위의 코드에서 우리가 관심을 가질 것은 sentiment와 content 두 개 열이다. 이 두 개의 열을 사용할 수 있도록 가공해 보자.\n",
        "\n",
        "먼저 sentiment의 값은 1일 때 긍정, -1일 때 부정에 해당한다. 1과 -1을 각각 'pos'와 'neg'로 변환할 수 있도록 `convert()`라는 함수를 만들었다.\n",
        "\n",
        "다음으로 content의 값은 문자열로 이루어져 있다. 이것을 단어들의 리스트로 바꾸고자 한다. 일반적으로 단어는 공백(whitespace)에 의해 분리되지만, 한시의 경우 띄어쓰기가 없으므로 여기에서는 문장 부호를 포함하여 1글자를 1단어로 취급하기로 한다. 문자열을 `list()` 함수로 형변환하면 문자들의 리스트가 나온다."
      ]
    },
    {
      "cell_type": "code",
      "metadata": {
        "id": "JnxsLQn4z0Qd"
      },
      "source": [
        "def convert(sentiment):\n",
        "  if sentiment == 1:\n",
        "    return 'pos'\n",
        "  elif sentiment == -1:\n",
        "    return 'neg'\n",
        "  else:\n",
        "    return 'unk'\n",
        "\n",
        "# sentiment 열에 convert 함수 적용하기\n",
        "data['class'] = data['sentiment'].apply(convert)\n",
        "# content 열의 list 함수 적용하기\n",
        "data['document'] = data['content'].apply(list)"
      ],
      "execution_count": null,
      "outputs": []
    },
    {
      "cell_type": "markdown",
      "metadata": {
        "id": "RnA7HVIvcPTl"
      },
      "source": [
        "### 데이터 섞기\n",
        "\n",
        "sentiment 값이 골고루 분포하게 만들기 위해 행을 섞어 주자. `data.sample()` 메소드로 행을 무작위로 섞을 수 있다."
      ]
    },
    {
      "cell_type": "code",
      "metadata": {
        "colab": {
          "base_uri": "https://localhost:8080/",
          "height": 449
        },
        "id": "yQrpF1xj55K1",
        "outputId": "a5c1ed56-8510-4641-b4d0-4337ca0220bf"
      },
      "source": [
        "data = data.sample(frac=1, random_state=1111) # 바꾸지 말 것!\n",
        "data.head()"
      ],
      "execution_count": null,
      "outputs": [
        {
          "output_type": "execute_result",
          "data": {
            "text/html": [
              "<div>\n",
              "<style scoped>\n",
              "    .dataframe tbody tr th:only-of-type {\n",
              "        vertical-align: middle;\n",
              "    }\n",
              "\n",
              "    .dataframe tbody tr th {\n",
              "        vertical-align: top;\n",
              "    }\n",
              "\n",
              "    .dataframe thead th {\n",
              "        text-align: right;\n",
              "    }\n",
              "</style>\n",
              "<table border=\"1\" class=\"dataframe\">\n",
              "  <thead>\n",
              "    <tr style=\"text-align: right;\">\n",
              "      <th></th>\n",
              "      <th>sentiment</th>\n",
              "      <th>author</th>\n",
              "      <th>title</th>\n",
              "      <th>content</th>\n",
              "      <th>class</th>\n",
              "      <th>document</th>\n",
              "    </tr>\n",
              "  </thead>\n",
              "  <tbody>\n",
              "    <tr>\n",
              "      <th>134</th>\n",
              "      <td>-1</td>\n",
              "      <td>郑谷</td>\n",
              "      <td>中年</td>\n",
              "      <td>漠漠秦云淡淡天，新年景象入中年。情多最恨花无语，愁破方知酒有权。苔色满墙寻故第，雨声一夜忆春...</td>\n",
              "      <td>neg</td>\n",
              "      <td>[漠, 漠, 秦, 云, 淡, 淡, 天, ，, 新, 年, 景, 象, 入, 中, 年, ...</td>\n",
              "    </tr>\n",
              "    <tr>\n",
              "      <th>59</th>\n",
              "      <td>1</td>\n",
              "      <td>孟浩然</td>\n",
              "      <td>春晓</td>\n",
              "      <td>春眠不觉晓，处处闻啼鸟。夜来风雨声，花落知多少？</td>\n",
              "      <td>pos</td>\n",
              "      <td>[春, 眠, 不, 觉, 晓, ，, 处, 处, 闻, 啼, 鸟, 。, 夜, 来, 风, ...</td>\n",
              "    </tr>\n",
              "    <tr>\n",
              "      <th>12</th>\n",
              "      <td>1</td>\n",
              "      <td>王勃</td>\n",
              "      <td>咏风</td>\n",
              "      <td>肃肃凉风生，加我林壑清。驱烟寻涧户，卷雾出山楹。去来固无迹，动息如有情。日落山水静，为君起松声。</td>\n",
              "      <td>pos</td>\n",
              "      <td>[肃, 肃, 凉, 风, 生, ，, 加, 我, 林, 壑, 清, 。, 驱, 烟, 寻, ...</td>\n",
              "    </tr>\n",
              "    <tr>\n",
              "      <th>92</th>\n",
              "      <td>-1</td>\n",
              "      <td>柳中庸</td>\n",
              "      <td>听筝</td>\n",
              "      <td>抽弦促柱听秦筝，无限秦人悲怨声。似逐春风知柳态，如随啼鸟识花情。谁家独夜愁灯影？何处空楼思月...</td>\n",
              "      <td>neg</td>\n",
              "      <td>[抽, 弦, 促, 柱, 听, 秦, 筝, ，, 无, 限, 秦, 人, 悲, 怨, 声, ...</td>\n",
              "    </tr>\n",
              "    <tr>\n",
              "      <th>127</th>\n",
              "      <td>1</td>\n",
              "      <td>张槟</td>\n",
              "      <td>登单于台</td>\n",
              "      <td>边兵春尽回，独上单于台。白日地中出，黄河天外来。沙翻痕似浪，风急响疑雷。欲向阴关度，阴关晓不开。</td>\n",
              "      <td>pos</td>\n",
              "      <td>[边, 兵, 春, 尽, 回, ，, 独, 上, 单, 于, 台, 。, 白, 日, 地, ...</td>\n",
              "    </tr>\n",
              "  </tbody>\n",
              "</table>\n",
              "</div>"
            ],
            "text/plain": [
              "     sentiment author  ... class                                           document\n",
              "134         -1     郑谷  ...   neg  [漠, 漠, 秦, 云, 淡, 淡, 天, ，, 新, 年, 景, 象, 入, 中, 年, ...\n",
              "59           1    孟浩然  ...   pos  [春, 眠, 不, 觉, 晓, ，, 处, 处, 闻, 啼, 鸟, 。, 夜, 来, 风, ...\n",
              "12           1     王勃  ...   pos  [肃, 肃, 凉, 风, 生, ，, 加, 我, 林, 壑, 清, 。, 驱, 烟, 寻, ...\n",
              "92          -1    柳中庸  ...   neg  [抽, 弦, 促, 柱, 听, 秦, 筝, ，, 无, 限, 秦, 人, 悲, 怨, 声, ...\n",
              "127          1     张槟  ...   pos  [边, 兵, 春, 尽, 回, ，, 独, 上, 单, 于, 台, 。, 白, 日, 地, ...\n",
              "\n",
              "[5 rows x 6 columns]"
            ]
          },
          "metadata": {},
          "execution_count": 7
        }
      ]
    },
    {
      "cell_type": "markdown",
      "metadata": {
        "id": "Oucq566PcoSq"
      },
      "source": [
        "### 데이터 분할하기\n",
        "\n",
        "섞어 준 데이터를 9:1의 비율로 훈련 집합과 실험 집합으로 분할하여 각각 `train`, `test`라는 이름으로 저장하자."
      ]
    },
    {
      "cell_type": "code",
      "metadata": {
        "id": "4nEXLidWpYYy"
      },
      "source": [
        "boundary = int(len(data)*0.9)\n",
        "train = data[:boundary]\n",
        "test = data[boundary:]"
      ],
      "execution_count": null,
      "outputs": []
    },
    {
      "cell_type": "markdown",
      "metadata": {
        "id": "OwWv6NToc3Oq"
      },
      "source": [
        "# 단순 베이즈 분류기 (기본점수 7점)\n",
        "\n",
        "한문을 해독하지 못하는 사람도 단순 베이즈 분류기를 사용하여 한시의 정서를 예측할 수 있다."
      ]
    },
    {
      "cell_type": "markdown",
      "metadata": {
        "id": "AYOnpVZFdHe4"
      },
      "source": [
        "## 훈련"
      ]
    },
    {
      "cell_type": "markdown",
      "metadata": {
        "id": "8PNrgsJwc92M"
      },
      "source": [
        "이 과제에서는 SLP3 4장 6페이지 Figure 4.2에 나오는 알고리듬과 표기법을 따른다."
      ]
    },
    {
      "cell_type": "code",
      "metadata": {
        "id": "xeF1WNpzTb9U"
      },
      "source": [
        "# D: 훈련 집합 내의 모든 문서들의 집합\n",
        "D = train['document']"
      ],
      "execution_count": null,
      "outputs": []
    },
    {
      "cell_type": "code",
      "metadata": {
        "colab": {
          "base_uri": "https://localhost:8080/"
        },
        "id": "4vEe3kkfS-QC",
        "outputId": "918c2c61-3f98-420c-cf35-b77140cea455"
      },
      "source": [
        "# C: 모든 범주들의 집합\n",
        "C = train['class'].unique().tolist()\n",
        "print(C)"
      ],
      "execution_count": null,
      "outputs": [
        {
          "output_type": "stream",
          "name": "stdout",
          "text": [
            "['neg', 'pos']\n"
          ]
        }
      ]
    },
    {
      "cell_type": "markdown",
      "metadata": {
        "id": "9PnkGjrKTu5x"
      },
      "source": [
        "### `logprior`: 로그사전확률 구하기"
      ]
    },
    {
      "cell_type": "code",
      "metadata": {
        "colab": {
          "base_uri": "https://localhost:8080/"
        },
        "id": "yNOrAANoUC-m",
        "outputId": "85502da3-9c77-49d9-d4eb-1488762ac4b7"
      },
      "source": [
        "# Ndoc: D에 포함된 모든 문서의 개수\n",
        "Ndoc = len(D)\n",
        "print(Ndoc)"
      ],
      "execution_count": null,
      "outputs": [
        {
          "output_type": "stream",
          "name": "stdout",
          "text": [
            "144\n"
          ]
        }
      ]
    },
    {
      "cell_type": "code",
      "metadata": {
        "colab": {
          "base_uri": "https://localhost:8080/"
        },
        "id": "qIaVbuvdplNU",
        "outputId": "1fbf8328-3193-434e-dd9f-1d2dcad76c07"
      },
      "source": [
        "# Nc: 범주 c에 속하는 모든 문서의 개수\n",
        "Nc = train['class'].value_counts()\n",
        "print(Nc)"
      ],
      "execution_count": null,
      "outputs": [
        {
          "output_type": "stream",
          "name": "stdout",
          "text": [
            "neg    73\n",
            "pos    71\n",
            "Name: class, dtype: int64\n"
          ]
        }
      ]
    },
    {
      "cell_type": "markdown",
      "metadata": {
        "id": "glgvoWnPeHBd"
      },
      "source": [
        "**Q1. 아래의 코드를 수정하여 로그사전확률 logP(neg) 및 logP(pos)의 값을 추정한다. (0.5점)**"
      ]
    },
    {
      "cell_type": "code",
      "metadata": {
        "id": "tjedMv2uUjEE",
        "colab": {
          "base_uri": "https://localhost:8080/"
        },
        "outputId": "eec439b3-531c-461c-ff6f-3b6bd587e15e"
      },
      "source": [
        "# logprior[c]: c의 로그사전확률 logP(c)\n",
        "import numpy as np\n",
        "logprior = np.log(Nc/Ndoc) ## edit this line\n",
        "print(logprior)"
      ],
      "execution_count": null,
      "outputs": [
        {
          "output_type": "stream",
          "name": "stdout",
          "text": [
            "neg   -0.679354\n",
            "pos   -0.707133\n",
            "Name: class, dtype: float64\n"
          ]
        }
      ]
    },
    {
      "cell_type": "markdown",
      "metadata": {
        "id": "RpbfUdpvVRNR"
      },
      "source": [
        "### `loglikelihood`: 로그가능도 구하기"
      ]
    },
    {
      "cell_type": "markdown",
      "metadata": {
        "id": "t6PHcPJjegTr"
      },
      "source": [
        "**Q2. 아래의 코드를 수정하여 훈련집합의 어휘 목록 V를 만들고 인덱스 20:21에 해당하는 문자를 찾는다. (0.5점)**"
      ]
    },
    {
      "cell_type": "code",
      "metadata": {
        "id": "OltdOK2Ep_Vi",
        "colab": {
          "base_uri": "https://localhost:8080/"
        },
        "outputId": "5358bc6b-9d11-4ae5-c9f2-033f5f956673"
      },
      "source": [
        "# V: 훈련 집합의 어휘\n",
        "V = []\n",
        "for doc in D:\n",
        "  for w in doc:\n",
        "    if w in V:\n",
        "      continue\n",
        "    V.append(w)\n",
        "\n",
        "print(V[20:21])"
      ],
      "execution_count": null,
      "outputs": [
        {
          "output_type": "stream",
          "name": "stdout",
          "text": [
            "['愁']\n"
          ]
        }
      ]
    },
    {
      "cell_type": "code",
      "metadata": {
        "colab": {
          "base_uri": "https://localhost:8080/"
        },
        "id": "t53EEpYcqzjh",
        "outputId": "a043f951-bfac-4ede-f079-e23941b072a5"
      },
      "source": [
        "# bigdoc[c]: c에 속하는 모든 문서를 합친 것\n",
        "bigdoc = D.groupby(data['class']).sum()\n",
        "print(bigdoc)"
      ],
      "execution_count": null,
      "outputs": [
        {
          "output_type": "stream",
          "name": "stdout",
          "text": [
            "class\n",
            "neg    [漠, 漠, 秦, 云, 淡, 淡, 天, ，, 新, 年, 景, 象, 入, 中, 年, ...\n",
            "pos    [春, 眠, 不, 觉, 晓, ，, 处, 处, 闻, 啼, 鸟, 。, 夜, 来, 风, ...\n",
            "Name: document, dtype: object\n"
          ]
        }
      ]
    },
    {
      "cell_type": "code",
      "metadata": {
        "colab": {
          "base_uri": "https://localhost:8080/"
        },
        "id": "1QAVqnmqrd-4",
        "outputId": "5b8a33a2-04cf-4603-a3cb-7d350c2720a9"
      },
      "source": [
        "# count[c][w]: 범주 c에서 단어 w가 출현한 횟수\n",
        "from collections import Counter\n",
        "count = bigdoc.apply(Counter)\n",
        "print(count)"
      ],
      "execution_count": null,
      "outputs": [
        {
          "output_type": "stream",
          "name": "stdout",
          "text": [
            "class\n",
            "neg    {'漠': 3, '秦': 4, '云': 9, '淡': 3, '天': 10, '，':...\n",
            "pos    {'春': 22, '眠': 4, '不': 20, '觉': 2, '晓': 4, '，'...\n",
            "Name: document, dtype: object\n"
          ]
        }
      ]
    },
    {
      "cell_type": "markdown",
      "metadata": {
        "id": "ncNTWpJYfsf8"
      },
      "source": [
        "아래의 예시와 같이 긍정적인 문서에서만 출현한 단어와 부정적인 문서에서만 출현한 단어가 모두 존재한다. 긍정적인 문서에만 출현했다고 하더라도 부정적인 경우의 확률을 0보다 큰 값으로 구할 수 있어야 하므로, 평탄화(smoothing)가 필요함을 알 수 있다."
      ]
    },
    {
      "cell_type": "code",
      "metadata": {
        "colab": {
          "base_uri": "https://localhost:8080/"
        },
        "id": "lGtBu9Dar-wd",
        "outputId": "81c297d6-1ba0-4956-dc0f-ddb50c8fad46"
      },
      "source": [
        "# 예시\n",
        "# '想'(생각할 상): 긍정적인 문서에서만 1회 출현한 단어.\n",
        "# '哀'(슬플 애): 부정적인 문서에서만 1회 출현한 단어.\n",
        "words = ('想', '哀')\n",
        "for word in words:\n",
        "  for c in C:\n",
        "    print(word, c, count[c][word])"
      ],
      "execution_count": null,
      "outputs": [
        {
          "output_type": "stream",
          "name": "stdout",
          "text": [
            "想 neg 0\n",
            "想 pos 1\n",
            "哀 neg 1\n",
            "哀 pos 0\n"
          ]
        }
      ]
    },
    {
      "cell_type": "markdown",
      "metadata": {
        "id": "ERV3zJzWgBYl"
      },
      "source": [
        "**Q3. 모든 범주 $c\\in C$ 및 모든 단어 $w\\in V$에 대하여 아래의 등식을 만족하도록 하는 딕셔너리의 딕셔너리 loglikelihood를 만든다. (0.5점)**\n",
        "\n",
        "`loglikelihood[c][w]` = $\\log P(w|c)$"
      ]
    },
    {
      "cell_type": "code",
      "metadata": {
        "colab": {
          "base_uri": "https://localhost:8080/",
          "height": 206
        },
        "id": "Y2JS2s9ksrA2",
        "outputId": "e9a702f9-528c-47a1-934b-881cf4ef6c90"
      },
      "source": [
        "# loglikelihood[c][w] = logP(w|c)\n",
        "from collections import defaultdict\n",
        "loglikelihood = defaultdict(dict)\n",
        "for c in C:\n",
        "  for w in V:\n",
        "    loglikelihood[c][w] = np.log((count[c][w]+1)/(sum(count[c].values())+len(V)))\n",
        "\n",
        "\n",
        "loglikelihood = pd.DataFrame(loglikelihood)\n",
        "loglikelihood.head()"
      ],
      "execution_count": null,
      "outputs": [
        {
          "output_type": "execute_result",
          "data": {
            "text/html": [
              "<div>\n",
              "<style scoped>\n",
              "    .dataframe tbody tr th:only-of-type {\n",
              "        vertical-align: middle;\n",
              "    }\n",
              "\n",
              "    .dataframe tbody tr th {\n",
              "        vertical-align: top;\n",
              "    }\n",
              "\n",
              "    .dataframe thead th {\n",
              "        text-align: right;\n",
              "    }\n",
              "</style>\n",
              "<table border=\"1\" class=\"dataframe\">\n",
              "  <thead>\n",
              "    <tr style=\"text-align: right;\">\n",
              "      <th></th>\n",
              "      <th>neg</th>\n",
              "      <th>pos</th>\n",
              "    </tr>\n",
              "  </thead>\n",
              "  <tbody>\n",
              "    <tr>\n",
              "      <th>漠</th>\n",
              "      <td>-7.149328</td>\n",
              "      <td>-8.407378</td>\n",
              "    </tr>\n",
              "    <tr>\n",
              "      <th>秦</th>\n",
              "      <td>-6.926184</td>\n",
              "      <td>-8.407378</td>\n",
              "    </tr>\n",
              "    <tr>\n",
              "      <th>云</th>\n",
              "      <td>-6.233037</td>\n",
              "      <td>-5.842429</td>\n",
              "    </tr>\n",
              "    <tr>\n",
              "      <th>淡</th>\n",
              "      <td>-7.149328</td>\n",
              "      <td>-7.714231</td>\n",
              "    </tr>\n",
              "    <tr>\n",
              "      <th>天</th>\n",
              "      <td>-6.137727</td>\n",
              "      <td>-5.574165</td>\n",
              "    </tr>\n",
              "  </tbody>\n",
              "</table>\n",
              "</div>"
            ],
            "text/plain": [
              "        neg       pos\n",
              "漠 -7.149328 -8.407378\n",
              "秦 -6.926184 -8.407378\n",
              "云 -6.233037 -5.842429\n",
              "淡 -7.149328 -7.714231\n",
              "天 -6.137727 -5.574165"
            ]
          },
          "metadata": {},
          "execution_count": 22
        }
      ]
    },
    {
      "cell_type": "markdown",
      "metadata": {
        "id": "Gu64KR4ahds9"
      },
      "source": [
        "아래의 코드에서 $w=乡$(고향 향)일 때는 $\\log P(w|neg)=-6.338398$ 및 $\\log P(w|pos)=-8.407378$가 나와야 한다. 부정적인 범주의 가능도가 더 큰 값을 가지므로, 긍정적인 감정일 때보다는 부정적인 감정을 가질 때 고향을 더 많이 언급한다는 것을 알 수 있다."
      ]
    },
    {
      "cell_type": "code",
      "metadata": {
        "colab": {
          "base_uri": "https://localhost:8080/"
        },
        "id": "66fae_P_5D9u",
        "outputId": "0716d609-4048-4952-dab1-29ebba2769ab"
      },
      "source": [
        "print(loglikelihood.loc['乡'])"
      ],
      "execution_count": null,
      "outputs": [
        {
          "output_type": "stream",
          "name": "stdout",
          "text": [
            "neg   -6.338398\n",
            "pos   -8.407378\n",
            "Name: 乡, dtype: float64\n"
          ]
        }
      ]
    },
    {
      "cell_type": "markdown",
      "metadata": {
        "id": "rsFbCOjpiBLZ"
      },
      "source": [
        "아래의 코드에서 $w=坐$(앉을 좌)일 때는 $\\log P(w|neg)=-8.535622$ 및 $\\log P(w|pos)=-6.327937$가 나와야 한다. 이번에는 긍정적인 범주의 가능도가 더 큰 값을 가진다. 기분이 좋을 때 편안히 앉아 있는 것이 더 쉬운 것 같다."
      ]
    },
    {
      "cell_type": "code",
      "metadata": {
        "colab": {
          "base_uri": "https://localhost:8080/"
        },
        "id": "n5GGWcqft5tw",
        "outputId": "253fabc9-ba9e-4a23-aee2-243361367532"
      },
      "source": [
        "print(loglikelihood.loc['坐'])"
      ],
      "execution_count": null,
      "outputs": [
        {
          "output_type": "stream",
          "name": "stdout",
          "text": [
            "neg   -8.535622\n",
            "pos   -6.327937\n",
            "Name: 坐, dtype: float64\n"
          ]
        }
      ]
    },
    {
      "cell_type": "markdown",
      "metadata": {
        "id": "W1rnC8bliaxs"
      },
      "source": [
        "아래의 코드에서 $w=酒$(술 주)일 때는 $\\log P(w|neg)=-6.589712$ 및 $\\log P(w|pos)=-6.615619$가 나와야 한다. 두 값의 크기가 비슷하므로, 시인들은 기쁠 때나 슬플 때나 항상 술을 찾는다는 것을 알 수 있다."
      ]
    },
    {
      "cell_type": "code",
      "metadata": {
        "colab": {
          "base_uri": "https://localhost:8080/"
        },
        "id": "otC3W3RLt_nV",
        "outputId": "34d0001d-cd3a-4e96-ada6-7300e9302080"
      },
      "source": [
        "print(loglikelihood.loc['酒'])"
      ],
      "execution_count": null,
      "outputs": [
        {
          "output_type": "stream",
          "name": "stdout",
          "text": [
            "neg   -6.589712\n",
            "pos   -6.615619\n",
            "Name: 酒, dtype: float64\n"
          ]
        }
      ]
    },
    {
      "cell_type": "markdown",
      "metadata": {
        "id": "0Q-CK2Nsiu2L"
      },
      "source": [
        "**Q4. 아래의 코드에서 $w=愁$(근심할 수)일 때 $\\log P(w|neg)$ 및 $\\log P(w|pos)$의 값을 구하여 크기를 비교한다. (0.5점)**"
      ]
    },
    {
      "cell_type": "code",
      "metadata": {
        "id": "oJChECIkuFTX",
        "colab": {
          "base_uri": "https://localhost:8080/"
        },
        "outputId": "7435dcf4-1575-43f5-b26b-3b3a6915cba3"
      },
      "source": [
        "print(loglikelihood.loc['愁'])"
      ],
      "execution_count": null,
      "outputs": [
        {
          "output_type": "stream",
          "name": "stdout",
          "text": [
            "neg   -5.645251\n",
            "pos   -7.714231\n",
            "Name: 愁, dtype: float64\n"
          ]
        }
      ]
    },
    {
      "cell_type": "markdown",
      "metadata": {
        "id": "6I6pTme7a6LD"
      },
      "source": [
        "w=愁 (근심할 수)일 때 logP(w|neg)는 -5.645251이고,  logP(w|pos)는 -7.714231이다.  부정적인범주가능도가 더 큰값을 가진다. 따라서 부정적인 감정을 가질때 근심에 관한 내용을 더 많이 언급한다."
      ]
    },
    {
      "cell_type": "markdown",
      "metadata": {
        "id": "zKGGg4xrWaJs"
      },
      "source": [
        "## 실험 및 평가\n",
        "\n",
        "훈련 집합에서 로그사전확률과 $\\log P(c)$와 로그가능도 $\\log P(w|c)$을 모두 구했으므로, 실험 집합의 각 문서 $testdoc$에 대하여 로그사후확률 $\\log P(c|testdoc)$의 값을 비교할 수 있다.\n",
        "\n",
        "먼저 정답을 `true`라는 변수명으로 저장하자."
      ]
    },
    {
      "cell_type": "code",
      "metadata": {
        "colab": {
          "base_uri": "https://localhost:8080/"
        },
        "id": "d4cG-pD_uU1c",
        "outputId": "7379e777-1f01-45b6-9c73-10e4fe284f0e"
      },
      "source": [
        "# 정답\n",
        "true = test['class']\n",
        "true.head()"
      ],
      "execution_count": null,
      "outputs": [
        {
          "output_type": "execute_result",
          "data": {
            "text/plain": [
              "42     pos\n",
              "61     neg\n",
              "105    pos\n",
              "136    pos\n",
              "86     neg\n",
              "Name: class, dtype: object"
            ]
          },
          "metadata": {},
          "execution_count": 27
        }
      ]
    },
    {
      "cell_type": "markdown",
      "metadata": {
        "id": "Wg8AJq6jj_Wq"
      },
      "source": [
        "**Q5. 아래의 코드를 수정하여 로그사전확률과 로그가능도의 합을 계산한 뒤 최댓값에 해당하는 범주를 반환하는 함수 `predict()`를 만든다. (0.5점)**"
      ]
    },
    {
      "cell_type": "code",
      "metadata": {
        "id": "CoP4q2GJuawl"
      },
      "source": [
        "# 문서가 주어졌을 때 범주를 예측하는 함수\n",
        "def predict(testdoc):\n",
        "  sums = logprior.copy()\n",
        "  for c in C:\n",
        "    for word in testdoc:\n",
        "      if word in V:\n",
        "        sums[c] += loglikelihood[c][word]\n",
        "  return sums.idxmax()"
      ],
      "execution_count": null,
      "outputs": []
    },
    {
      "cell_type": "markdown",
      "metadata": {
        "id": "O2rqxPHWkb8E"
      },
      "source": [
        "위에서 만든 `predict` 함수를 실험 집합의 각 문서에 적용하여 예측한 결과를 `pred`라는 변수명으로 저장하자.\n",
        "\n",
        "42번은 `true`에서 pos였으나 `pred`에서 neg의 값을 가진다. 즉, 원래는 긍정적인 시인데 단순 베이즈 분류기가 부정적이라고 잘못 분류한 것이다."
      ]
    },
    {
      "cell_type": "code",
      "metadata": {
        "colab": {
          "base_uri": "https://localhost:8080/"
        },
        "id": "MM6NppMzv6BF",
        "outputId": "923c20b2-708f-4925-f9a1-55abaa3e460d"
      },
      "source": [
        "# 예측\n",
        "pred = test['document'].apply(predict)\n",
        "pred.head()"
      ],
      "execution_count": null,
      "outputs": [
        {
          "output_type": "execute_result",
          "data": {
            "text/plain": [
              "42     neg\n",
              "61     neg\n",
              "105    pos\n",
              "136    neg\n",
              "86     neg\n",
              "Name: document, dtype: object"
            ]
          },
          "metadata": {},
          "execution_count": 34
        }
      ]
    },
    {
      "cell_type": "markdown",
      "metadata": {
        "id": "NJcRQ2fzk2q_"
      },
      "source": [
        "**Q6. 아래의 코드를 실행하여 나오는 정확도의 값을 쓴다. (0.5점)**"
      ]
    },
    {
      "cell_type": "code",
      "metadata": {
        "id": "BlyfGDAxzFRh",
        "colab": {
          "base_uri": "https://localhost:8080/"
        },
        "outputId": "917b2f7b-a100-40ae-f9c6-f1755b90c35f"
      },
      "source": [
        "# 정확도\n",
        "from sklearn.metrics import accuracy_score\n",
        "accuracy_score(true, pred)"
      ],
      "execution_count": null,
      "outputs": [
        {
          "output_type": "execute_result",
          "data": {
            "text/plain": [
              "0.75"
            ]
          },
          "metadata": {},
          "execution_count": 35
        }
      ]
    }
  ]
}