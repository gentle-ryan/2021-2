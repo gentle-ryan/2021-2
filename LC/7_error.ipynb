{
  "nbformat": 4,
  "nbformat_minor": 0,
  "metadata": {
    "colab": {
      "provenance": []
    },
    "kernelspec": {
      "name": "python3",
      "display_name": "Python 3"
    },
    "language_info": {
      "name": "python"
    }
  },
  "cells": [
    {
      "cell_type": "code",
      "metadata": {
        "id": "k7moGzBvUj3r"
      },
      "source": [
        "def example0():\n",
        "  return 5\n",
        "  return 1\n"
      ],
      "execution_count": null,
      "outputs": []
    },
    {
      "cell_type": "code",
      "metadata": {
        "colab": {
          "base_uri": "https://localhost:8080/"
        },
        "id": "ZCA_h9yiUtBR",
        "outputId": "8b65fdb7-a7b0-4a19-e570-322acb1881c4"
      },
      "source": [
        "print(example0())"
      ],
      "execution_count": null,
      "outputs": [
        {
          "output_type": "stream",
          "name": "stdout",
          "text": [
            "5\n"
          ]
        }
      ]
    },
    {
      "cell_type": "code",
      "metadata": {
        "id": "UN1jv5PUU1X_"
      },
      "source": [
        "def example1():\n",
        "  print('출력됩니다.')\n",
        "  return #None\n",
        "  print('출력될까요?')"
      ],
      "execution_count": null,
      "outputs": []
    },
    {
      "cell_type": "code",
      "metadata": {
        "colab": {
          "base_uri": "https://localhost:8080/"
        },
        "id": "IJGgfZ-zVEhQ",
        "outputId": "1f8dcfca-ad4c-4ce6-aa9b-f8316bdcba7e"
      },
      "source": [
        "example1()"
      ],
      "execution_count": null,
      "outputs": [
        {
          "output_type": "stream",
          "name": "stdout",
          "text": [
            "출력됩니다.\n"
          ]
        }
      ]
    },
    {
      "cell_type": "code",
      "metadata": {
        "colab": {
          "base_uri": "https://localhost:8080/"
        },
        "id": "57sKgTJtVjsP",
        "outputId": "7397bc5f-7d42-4c63-caa5-73e00a6a882e"
      },
      "source": [
        "def example2():\n",
        "  for i in range(3):\n",
        "    print(f'{i}번째 출력')\n",
        "    return\n",
        "example2()"
      ],
      "execution_count": null,
      "outputs": [
        {
          "output_type": "stream",
          "name": "stdout",
          "text": [
            "0번째 출력\n"
          ]
        }
      ]
    },
    {
      "cell_type": "code",
      "metadata": {
        "colab": {
          "base_uri": "https://localhost:8080/"
        },
        "id": "GGmqktZcVwT6",
        "outputId": "304c0fd9-942f-4c30-a14d-86e2eaab0320"
      },
      "source": [
        "def example3():\n",
        "  for i in range(3):\n",
        "    print(f'{i}번째 출력')\n",
        "  return #return이 없는 것과 똑같음\n",
        "example3()"
      ],
      "execution_count": null,
      "outputs": [
        {
          "output_type": "stream",
          "name": "stdout",
          "text": [
            "0번째 출력\n",
            "1번째 출력\n",
            "2번째 출력\n"
          ]
        }
      ]
    },
    {
      "cell_type": "code",
      "metadata": {
        "id": "7hdj-0O8V7-M"
      },
      "source": [
        "def example3(n):\n",
        "  if n % 2: #bool 타입으로 변환하므로 1이면 true 0이면 false 반환함\n",
        "    print('홀수입니다.')\n",
        "    return\n",
        "  else:\n",
        "    print('짝수입니다.')\n",
        "  print('언제 출력될까요?')\n",
        "\n",
        "example3(3)\n",
        "example3(4)\n"
      ],
      "execution_count": null,
      "outputs": []
    },
    {
      "cell_type": "code",
      "metadata": {
        "id": "4qjGcg2mYY41"
      },
      "source": [
        "#가장 간단!!\n",
        "def isodd(n): #is...라고 짓는 것이 인자의 형태?를 파악할 때 일반적임\n",
        "  return bool(n%2)"
      ],
      "execution_count": null,
      "outputs": []
    },
    {
      "cell_type": "code",
      "metadata": {
        "id": "GEoeMdjbZmO5"
      },
      "source": [
        "#예외 처리 구문\n",
        "try:\n",
        "  <예외가 발생할 가능성이 있는 구문>\n",
        "except:\n",
        "  <예외가 발생했을 때 실행할 코드>"
      ],
      "execution_count": null,
      "outputs": []
    },
    {
      "cell_type": "code",
      "metadata": {
        "id": "ZgA1i8Y5aftL"
      },
      "source": [
        "def myint(n):\n",
        "  try: # n의 자료형과 값에 따라 예외가 발생할 수 있는 코드\n",
        "    return int(n)\n",
        "  except ValueError: # int(’2.0’)\n",
        "    print('올바른 정수 문자열을 입력하세요.')\n",
        "  except TypeError: # int([2])\n",
        "    print('올바른 자료형을 입력하세요.')\n",
        "  finally:\n",
        "    print('수고하셨습니다.')"
      ],
      "execution_count": null,
      "outputs": []
    },
    {
      "cell_type": "code",
      "metadata": {
        "colab": {
          "base_uri": "https://localhost:8080/"
        },
        "id": "WIRSvnWWbCeK",
        "outputId": "fa9571e0-cfde-42ec-e0d2-46285a229980"
      },
      "source": [
        "myint([3])"
      ],
      "execution_count": null,
      "outputs": [
        {
          "output_type": "stream",
          "name": "stdout",
          "text": [
            "올바른 자료형을 입력하세요.\n",
            "수고하셨습니다.\n"
          ]
        }
      ]
    },
    {
      "cell_type": "code",
      "metadata": {
        "id": "wXuW8dB3dTq6"
      },
      "source": [
        "def myint(n):\n",
        "  try:\n",
        "    return int(n)\n",
        "  except: #임의의 에러\n",
        "    print('어쨌든 무엇인가가 잘못되었습니다.')"
      ],
      "execution_count": null,
      "outputs": []
    },
    {
      "cell_type": "code",
      "metadata": {
        "id": "FQC5wEvMeEGO"
      },
      "source": [
        "#예외발생구문\n",
        "raise <예외 유형>(예외 메시지)"
      ],
      "execution_count": null,
      "outputs": []
    },
    {
      "cell_type": "code",
      "metadata": {
        "id": "4otcHXPveLN-"
      },
      "source": [
        "def odd_only(n):\n",
        "  if not isinstance(n, int): #n의 자료형이 int인지 판정하는 함수 호출\n",
        "    raise TypeError('정수를 주세요!!')\n",
        "  elif n % 2:\n",
        "    print('좋아요!!')\n",
        "  else:\n",
        "    raise ValueError('홀수를 주세요!!')"
      ],
      "execution_count": null,
      "outputs": []
    }
  ]
}