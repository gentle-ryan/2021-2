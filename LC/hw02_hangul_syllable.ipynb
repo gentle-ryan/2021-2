{
  "nbformat": 4,
  "nbformat_minor": 0,
  "metadata": {
    "colab": {
      "provenance": []
    },
    "kernelspec": {
      "name": "python3",
      "display_name": "Python 3"
    },
    "language_info": {
      "name": "python"
    }
  },
  "cells": [
    {
      "cell_type": "markdown",
      "metadata": {
        "id": "_9DFGCNixb6P"
      },
      "source": [
        "#1 한글처리 모듈 만들기"
      ]
    },
    {
      "cell_type": "code",
      "metadata": {
        "colab": {
          "base_uri": "https://localhost:8080/"
        },
        "id": "mdagsYahQS2z",
        "outputId": "f6984c0e-a46f-40bf-ed60-6ac9d8103e2e"
      },
      "source": [
        "from unicodedata import name\n",
        "help(name)"
      ],
      "execution_count": null,
      "outputs": [
        {
          "output_type": "stream",
          "name": "stdout",
          "text": [
            "Help on built-in function name in module unicodedata:\n",
            "\n",
            "name(chr, default=None, /)\n",
            "    Returns the name assigned to the character chr as a string.\n",
            "    \n",
            "    If no name is defined, default is returned, or, if not given,\n",
            "    ValueError is raised.\n",
            "\n"
          ]
        }
      ]
    },
    {
      "cell_type": "code",
      "metadata": {
        "colab": {
          "base_uri": "https://localhost:8080/",
          "height": 34
        },
        "id": "Nq_4lT08Qzqw",
        "outputId": "382b463a-e841-443c-9b3a-34c1113a9f8c"
      },
      "source": [
        "name('c')"
      ],
      "execution_count": null,
      "outputs": [
        {
          "output_type": "execute_result",
          "data": {
            "application/vnd.google.colaboratory.intrinsic+json": {
              "type": "string"
            },
            "text/plain": [
              "'LATIN SMALL LETTER C'"
            ]
          },
          "metadata": {},
          "execution_count": 2
        }
      ]
    },
    {
      "cell_type": "code",
      "metadata": {
        "colab": {
          "base_uri": "https://localhost:8080/",
          "height": 34
        },
        "id": "iDHm9FMSQ2Ab",
        "outputId": "f0213d63-4088-4601-b453-76fe63c48625"
      },
      "source": [
        "name('8')"
      ],
      "execution_count": null,
      "outputs": [
        {
          "output_type": "execute_result",
          "data": {
            "application/vnd.google.colaboratory.intrinsic+json": {
              "type": "string"
            },
            "text/plain": [
              "'DIGIT EIGHT'"
            ]
          },
          "metadata": {},
          "execution_count": 5
        }
      ]
    },
    {
      "cell_type": "code",
      "metadata": {
        "colab": {
          "base_uri": "https://localhost:8080/",
          "height": 34
        },
        "id": "CJGIExXMQ-3m",
        "outputId": "ee310319-82ae-4136-ab56-9d71a1dfd7d5"
      },
      "source": [
        "name('&')"
      ],
      "execution_count": null,
      "outputs": [
        {
          "output_type": "execute_result",
          "data": {
            "application/vnd.google.colaboratory.intrinsic+json": {
              "type": "string"
            },
            "text/plain": [
              "'AMPERSAND'"
            ]
          },
          "metadata": {},
          "execution_count": 6
        }
      ]
    },
    {
      "cell_type": "code",
      "metadata": {
        "id": "LbFl-ujKRBmz"
      },
      "source": [
        "name(ㅏ)"
      ],
      "execution_count": null,
      "outputs": []
    },
    {
      "cell_type": "code",
      "metadata": {
        "colab": {
          "base_uri": "https://localhost:8080/",
          "height": 34
        },
        "id": "gyIu65dTRDlT",
        "outputId": "c57389d6-133d-41b8-e004-5d1250b07fc8"
      },
      "source": [
        "name('ㅎ')"
      ],
      "execution_count": null,
      "outputs": [
        {
          "output_type": "execute_result",
          "data": {
            "application/vnd.google.colaboratory.intrinsic+json": {
              "type": "string"
            },
            "text/plain": [
              "'HANGUL LETTER HIEUH'"
            ]
          },
          "metadata": {},
          "execution_count": 8
        }
      ]
    },
    {
      "cell_type": "code",
      "metadata": {
        "colab": {
          "base_uri": "https://localhost:8080/",
          "height": 34
        },
        "id": "fuyPFnkLRGg3",
        "outputId": "db2c67aa-af4d-47fc-fa68-825925a24b2c"
      },
      "source": [
        "name('朴')"
      ],
      "execution_count": null,
      "outputs": [
        {
          "output_type": "execute_result",
          "data": {
            "application/vnd.google.colaboratory.intrinsic+json": {
              "type": "string"
            },
            "text/plain": [
              "'CJK UNIFIED IDEOGRAPH-6734'"
            ]
          },
          "metadata": {},
          "execution_count": 9
        }
      ]
    },
    {
      "cell_type": "code",
      "metadata": {
        "colab": {
          "base_uri": "https://localhost:8080/"
        },
        "id": "JUNe2aWIVBoB",
        "outputId": "2536fc69-d684-4b8b-8cca-28e6b9f4a4d3"
      },
      "source": [
        "ishangul('')"
      ],
      "execution_count": null,
      "outputs": [
        {
          "output_type": "execute_result",
          "data": {
            "text/plain": [
              "False"
            ]
          },
          "metadata": {},
          "execution_count": 48
        }
      ]
    },
    {
      "cell_type": "markdown",
      "metadata": {
        "id": "j1rYAKHJxgos"
      },
      "source": [
        "#1.1 ishangul(string)"
      ]
    },
    {
      "cell_type": "code",
      "metadata": {
        "id": "8fHAgrogx_hd"
      },
      "source": [
        "#우선 len()을 사용하여 문자열 안의 인자의 개수를 확인하였습니다. 만약 1글자 미만이라면 작성하지 않은 것이니 제발 적어달라는 메세지가 출력되도록 하였습니다.\n",
        "#그리고 한글의 판별에 대해 name()의 결과값에서 한귿은 언제나 HANGUL을 갖는 다는 것을 알았습니다. 그래서 처음에는\n",
        "for char in string:\n",
        "  if 'HANGUL' in name(char):\n",
        "    return True\n",
        "  else:\n",
        "    return False\n",
        "#와 같이 코드를 작성하였습니다. 그랬더니 비타500과 같이 모두 한글로 이루어져 있지 않더라도 한글이 한번이라도 들어가 있으면 True를 반환하였습니다.\n",
        "#그래서 각 인자마다 한글이 아니라면 list에 'notHangul'를 삽입하게 하였고 'notHangul'이 만약에 list에 있다면 False를 반환하도록 없다면 True를 반화하도록 하였습니다."
      ],
      "execution_count": null,
      "outputs": []
    },
    {
      "cell_type": "code",
      "metadata": {
        "id": "xrjIGeUshGcu"
      },
      "source": [
        "def ishangul(string):\n",
        "  list = []\n",
        "  if len(string) >=1:\n",
        "    for char in string:\n",
        "      if 'HANGUL' in name(char):\n",
        "        list.append('hangul')\n",
        "      else:\n",
        "        list.append('notHangul')\n",
        "    if 'notHangul' in list:\n",
        "      return False\n",
        "    else:\n",
        "      return True\n",
        "  else:\n",
        "    print('plz wirte down')"
      ],
      "execution_count": null,
      "outputs": []
    },
    {
      "cell_type": "code",
      "metadata": {
        "colab": {
          "base_uri": "https://localhost:8080/"
        },
        "id": "Dgl79AB8zyKa",
        "outputId": "3e5cf8c7-a86c-47e3-d673-5ecae9445f8b"
      },
      "source": [
        "ishangul('한글')"
      ],
      "execution_count": null,
      "outputs": [
        {
          "output_type": "execute_result",
          "data": {
            "text/plain": [
              "True"
            ]
          },
          "metadata": {},
          "execution_count": 165
        }
      ]
    },
    {
      "cell_type": "code",
      "metadata": {
        "colab": {
          "base_uri": "https://localhost:8080/"
        },
        "id": "pQ9aaYfgz2AG",
        "outputId": "01cc4875-601d-4180-c46b-81da13cfdc51"
      },
      "source": [
        "ishangul('엄마hand')"
      ],
      "execution_count": null,
      "outputs": [
        {
          "output_type": "execute_result",
          "data": {
            "text/plain": [
              "False"
            ]
          },
          "metadata": {},
          "execution_count": 166
        }
      ]
    },
    {
      "cell_type": "code",
      "metadata": {
        "colab": {
          "base_uri": "https://localhost:8080/"
        },
        "id": "reF5tR24z5Qc",
        "outputId": "302c22ad-ffb5-445f-b02b-196d5380427f"
      },
      "source": [
        "ishangul('hand')"
      ],
      "execution_count": null,
      "outputs": [
        {
          "output_type": "execute_result",
          "data": {
            "text/plain": [
              "False"
            ]
          },
          "metadata": {},
          "execution_count": 167
        }
      ]
    },
    {
      "cell_type": "markdown",
      "metadata": {
        "id": "bCCSuPslxlYY"
      },
      "source": [
        "#1.2 hasbatchim(syllable)"
      ]
    },
    {
      "cell_type": "code",
      "metadata": {
        "id": "1E3T_nrjz9BS"
      },
      "source": [
        "#len()과 in을 사용하여 한글자 한글이 맞는지 확인하였고 아니라면 raise를 이용해 ValueError를 일으키도록 하였습니다.\n",
        "#만약 받침이 없다면 name(syllable)이 AEIOU로 끝나는 것을 확인할 수 있었습니다.\n",
        "#교수님께서 저번 수업때사용하신 str.startswith가 str.endstartswish가 있다는 것을 알게 되어 사용하였습니다."
      ],
      "execution_count": null,
      "outputs": []
    },
    {
      "cell_type": "code",
      "metadata": {
        "id": "QKGrobISr1xt"
      },
      "source": [
        "def hasbatchim(syllable):\n",
        "  if len(syllable) == 1 and 'HANGUL' in name(syllable):\n",
        "    endSyllable = name(syllable)\n",
        "    if endSyllable.endswith(tuple('AEIOU')):\n",
        "      return False\n",
        "    else:\n",
        "      return True\n",
        "  else:\n",
        "    raise ValueError('한글 1문자를 입력하세요.')"
      ],
      "execution_count": null,
      "outputs": []
    },
    {
      "cell_type": "code",
      "metadata": {
        "colab": {
          "base_uri": "https://localhost:8080/"
        },
        "id": "jZyUX8Mb1bCt",
        "outputId": "581905aa-8ded-43fd-8f2a-e52f34e82dce"
      },
      "source": [
        "hasbatchim('발')"
      ],
      "execution_count": null,
      "outputs": [
        {
          "output_type": "execute_result",
          "data": {
            "text/plain": [
              "True"
            ]
          },
          "metadata": {},
          "execution_count": 169
        }
      ]
    },
    {
      "cell_type": "code",
      "metadata": {
        "colab": {
          "base_uri": "https://localhost:8080/"
        },
        "id": "_sXdIkuq1gFf",
        "outputId": "43cb923d-1c8a-4d37-c353-dd71b2f57ab4"
      },
      "source": [
        "hasbatchim('코')"
      ],
      "execution_count": null,
      "outputs": [
        {
          "output_type": "execute_result",
          "data": {
            "text/plain": [
              "False"
            ]
          },
          "metadata": {},
          "execution_count": 170
        }
      ]
    },
    {
      "cell_type": "code",
      "metadata": {
        "colab": {
          "base_uri": "https://localhost:8080/",
          "height": 257
        },
        "id": "v5zE6J8O1iM3",
        "outputId": "762c84e9-c25f-4946-a8b7-a787174c23d1"
      },
      "source": [
        "hasbatchim('ear')"
      ],
      "execution_count": null,
      "outputs": [
        {
          "output_type": "error",
          "ename": "ValueError",
          "evalue": "ignored",
          "traceback": [
            "\u001b[0;31m---------------------------------------------------------------------------\u001b[0m",
            "\u001b[0;31mValueError\u001b[0m                                Traceback (most recent call last)",
            "\u001b[0;32m<ipython-input-171-1a52881e2d49>\u001b[0m in \u001b[0;36m<module>\u001b[0;34m()\u001b[0m\n\u001b[0;32m----> 1\u001b[0;31m \u001b[0mhasbatchim\u001b[0m\u001b[0;34m(\u001b[0m\u001b[0;34m'ear'\u001b[0m\u001b[0;34m)\u001b[0m\u001b[0;34m\u001b[0m\u001b[0;34m\u001b[0m\u001b[0m\n\u001b[0m",
            "\u001b[0;32m<ipython-input-149-5e23d815bb65>\u001b[0m in \u001b[0;36mhasbatchim\u001b[0;34m(syllable)\u001b[0m\n\u001b[1;32m      7\u001b[0m       \u001b[0;32mreturn\u001b[0m \u001b[0;32mTrue\u001b[0m\u001b[0;34m\u001b[0m\u001b[0;34m\u001b[0m\u001b[0m\n\u001b[1;32m      8\u001b[0m   \u001b[0;32melse\u001b[0m\u001b[0;34m:\u001b[0m\u001b[0;34m\u001b[0m\u001b[0;34m\u001b[0m\u001b[0m\n\u001b[0;32m----> 9\u001b[0;31m     \u001b[0;32mraise\u001b[0m \u001b[0mValueError\u001b[0m\u001b[0;34m(\u001b[0m\u001b[0;34m'한글 1문자를 입력하세요.'\u001b[0m\u001b[0;34m)\u001b[0m\u001b[0;34m\u001b[0m\u001b[0;34m\u001b[0m\u001b[0m\n\u001b[0m",
            "\u001b[0;31mValueError\u001b[0m: 한글 1문자를 입력하세요."
          ]
        }
      ]
    },
    {
      "cell_type": "markdown",
      "metadata": {
        "id": "UVDXMBdRxrF6"
      },
      "source": [
        "#1.3 get_ga(hangul)"
      ]
    },
    {
      "cell_type": "code",
      "metadata": {
        "id": "2gjuGC0v0tVl"
      },
      "source": [
        "#앞서 만들어진 ishangul()함수를 활용하여 한글로만 이루어져 있는를 확인하였습니다.\n",
        "#입력받은 hangul에서 마지막 글자가 조사를 결정하기 때문에 hangul[-1]의 name값을 사용하였습니다."
      ],
      "execution_count": null,
      "outputs": []
    },
    {
      "cell_type": "code",
      "metadata": {
        "id": "CG9MDYVRw3Jq"
      },
      "source": [
        "def get_ga(hangul):\n",
        "  if ishangul(hangul) == True:\n",
        "    endHangul=name(hangul[-1])\n",
        "    if endHangul.endswith(tuple('AEIOU')):\n",
        "        return '가'\n",
        "    else:\n",
        "        return '이'\n",
        "  else:\n",
        "   return ''"
      ],
      "execution_count": null,
      "outputs": []
    },
    {
      "cell_type": "code",
      "metadata": {
        "colab": {
          "base_uri": "https://localhost:8080/",
          "height": 34
        },
        "id": "elopEW_Z1mtW",
        "outputId": "ac798b0e-581a-4b77-e095-c02c7c6516a7"
      },
      "source": [
        "get_ga('엄마')"
      ],
      "execution_count": null,
      "outputs": [
        {
          "output_type": "execute_result",
          "data": {
            "application/vnd.google.colaboratory.intrinsic+json": {
              "type": "string"
            },
            "text/plain": [
              "'가'"
            ]
          },
          "metadata": {},
          "execution_count": 172
        }
      ]
    },
    {
      "cell_type": "code",
      "metadata": {
        "colab": {
          "base_uri": "https://localhost:8080/",
          "height": 34
        },
        "id": "WbjulCwn1p1V",
        "outputId": "abe8578a-4562-4b94-b866-a87fbf94cc91"
      },
      "source": [
        "get_ga('교수님')"
      ],
      "execution_count": null,
      "outputs": [
        {
          "output_type": "execute_result",
          "data": {
            "application/vnd.google.colaboratory.intrinsic+json": {
              "type": "string"
            },
            "text/plain": [
              "'이'"
            ]
          },
          "metadata": {},
          "execution_count": 173
        }
      ]
    },
    {
      "cell_type": "code",
      "metadata": {
        "colab": {
          "base_uri": "https://localhost:8080/",
          "height": 34
        },
        "id": "S3fmov7QxNPr",
        "outputId": "6a4433b1-5074-4be6-b10c-30884299943c"
      },
      "source": [
        "get_ga('hello')"
      ],
      "execution_count": null,
      "outputs": [
        {
          "output_type": "execute_result",
          "data": {
            "application/vnd.google.colaboratory.intrinsic+json": {
              "type": "string"
            },
            "text/plain": [
              "''"
            ]
          },
          "metadata": {},
          "execution_count": 162
        }
      ]
    },
    {
      "cell_type": "markdown",
      "metadata": {
        "id": "-4rjMBBF3SCN"
      },
      "source": [
        "#1.4 사랑고백함수 만들기"
      ]
    },
    {
      "cell_type": "code",
      "metadata": {
        "id": "xnKTex5e3AnY"
      },
      "source": [
        "def get_eul(hangul):\n",
        "  if ishangul(hangul) == True:\n",
        "    endHangul=name(hangul[-1])\n",
        "    if endHangul.endswith(tuple('AEIOU')):\n",
        "        return '를'\n",
        "    else:\n",
        "        return '을'\n",
        "  else:\n",
        "   return ''"
      ],
      "execution_count": null,
      "outputs": []
    },
    {
      "cell_type": "code",
      "metadata": {
        "id": "05udjX0r1_ZF"
      },
      "source": [
        "def propose(subject, object):\n",
        "  print(subject+get_ga(subject), object+get_eul(object), '좋아해')"
      ],
      "execution_count": null,
      "outputs": []
    },
    {
      "cell_type": "code",
      "metadata": {
        "colab": {
          "base_uri": "https://localhost:8080/"
        },
        "id": "N-Rznkmm21md",
        "outputId": "19997a1b-659f-432c-9d87-2f45c10dcd52"
      },
      "source": [
        "propose('내', '너')"
      ],
      "execution_count": null,
      "outputs": [
        {
          "output_type": "stream",
          "name": "stdout",
          "text": [
            "내가 너를 좋아해\n"
          ]
        }
      ]
    },
    {
      "cell_type": "code",
      "metadata": {
        "colab": {
          "base_uri": "https://localhost:8080/"
        },
        "id": "-LLE_DZC3HC3",
        "outputId": "790f67d6-731b-4221-e672-7db12a8dd16b"
      },
      "source": [
        "propose('엄마', '아빠')"
      ],
      "execution_count": null,
      "outputs": [
        {
          "output_type": "stream",
          "name": "stdout",
          "text": [
            "엄마가 아빠를 좋아해\n"
          ]
        }
      ]
    }
  ]
}