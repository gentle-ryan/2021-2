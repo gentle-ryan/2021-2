{
  "nbformat": 4,
  "nbformat_minor": 0,
  "metadata": {
    "colab": {
      "provenance": []
    },
    "kernelspec": {
      "name": "python3",
      "display_name": "Python 3"
    },
    "language_info": {
      "name": "python"
    }
  },
  "cells": [
    {
      "cell_type": "code",
      "metadata": {
        "id": "B94r4oLjOR00"
      },
      "source": [
        "#if <조건>:\n",
        "#  <실행할 스위트>"
      ],
      "execution_count": null,
      "outputs": []
    },
    {
      "cell_type": "code",
      "metadata": {
        "colab": {
          "base_uri": "https://localhost:8080/"
        },
        "id": "ZKrxkS7LOcEX",
        "outputId": "1651b44a-31cb-4aa5-b79a-3c89596da27a"
      },
      "source": [
        "temp = 26\n",
        "print('Hello!')\n",
        "if temp > 20:\n",
        "  print(\"It isn't cold.\")\n",
        "\n",
        "print('Bye!')"
      ],
      "execution_count": null,
      "outputs": [
        {
          "output_type": "stream",
          "name": "stdout",
          "text": [
            "Hello!\n",
            "It isn't cold.\n",
            "Bye!\n"
          ]
        }
      ]
    },
    {
      "cell_type": "code",
      "metadata": {
        "colab": {
          "base_uri": "https://localhost:8080/"
        },
        "id": "HQ07oLxWPJGw",
        "outputId": "f5ac2ddd-013b-44f5-e45f-7bb76848478a"
      },
      "source": [
        "temp = 17\n",
        "print('Hello!')\n",
        "if temp > 20:\n",
        "  print(\"It isn't cold.\")\n",
        "else:\n",
        "  print(\"It isn't hot.\")\n",
        "\n",
        "print('Bye!')"
      ],
      "execution_count": null,
      "outputs": [
        {
          "output_type": "stream",
          "name": "stdout",
          "text": [
            "Hello!\n",
            "It isn't hot.\n",
            "Bye!\n"
          ]
        }
      ]
    },
    {
      "cell_type": "code",
      "metadata": {
        "colab": {
          "base_uri": "https://localhost:8080/"
        },
        "id": "BR5VWvaoPynH",
        "outputId": "da48d92f-5abb-44e0-dd85-eb45a17cebf6"
      },
      "source": [
        "temp = int(input('Input the temperature:  '))\n",
        "print('Hello!')\n",
        "if temp < 15:\n",
        "  print(\"It's cold.\")\n",
        "elif temp <= 25:\n",
        "  print(\"It's mild.\")\n",
        "else:\n",
        "  print(\"It's hot.\")\n",
        "\n",
        "print('Bye!')"
      ],
      "execution_count": null,
      "outputs": [
        {
          "output_type": "stream",
          "name": "stdout",
          "text": [
            "Input the temperature:  25\n",
            "Hello!\n",
            "It's mild.\n",
            "Bye!\n"
          ]
        }
      ]
    },
    {
      "cell_type": "code",
      "metadata": {
        "id": "gYkV1CzCQJUT"
      },
      "source": [
        "basket = []\n",
        "print(\"Q: Is the basket empty?\")\n",
        "if basket:\n",
        "  print(\"A: No.\")\n",
        "else:\n",
        "  print(\"A: Yes.\")"
      ],
      "execution_count": null,
      "outputs": []
    },
    {
      "cell_type": "code",
      "metadata": {
        "id": "KtIMUltLUY-5"
      },
      "source": [
        "#사용자가 정답을 입력할 때까지 반복해서 입력을 요구하는 프로그램\n",
        "while True:\n",
        "  n = input('2+3 = ')\n",
        "  if n == '5':\n",
        "    print('정답입니다.')\n",
        "    break\n",
        "  else:\n",
        "    print('정답을 입력하세요.')"
      ],
      "execution_count": null,
      "outputs": []
    },
    {
      "cell_type": "code",
      "metadata": {
        "colab": {
          "base_uri": "https://localhost:8080/"
        },
        "id": "3XeE88xKVsA9",
        "outputId": "89e6668b-568b-4b38-df56-e140344331de"
      },
      "source": [
        "S = 0\n",
        "for i in range (1, 100):\n",
        "  S = S+i\n",
        "  if S>= 100:\n",
        "    break\n",
        "  else:\n",
        "    pass\n",
        "\n",
        "print(S, i)"
      ],
      "execution_count": null,
      "outputs": [
        {
          "output_type": "stream",
          "name": "stdout",
          "text": [
            "105 14\n"
          ]
        }
      ]
    },
    {
      "cell_type": "code",
      "metadata": {
        "colab": {
          "base_uri": "https://localhost:8080/"
        },
        "id": "pyBC83t-XJb1",
        "outputId": "0e247ef6-52ab-4566-fe5f-1f3922c1bf74"
      },
      "source": [
        "#정수를 입력받아 3의 배수인지 아닌지 판정하기\n",
        "n = input('정수를 입력하세요: ')\n",
        "if int(n) % 3:\n",
        "  print('3의 배수가 아닙니다.')\n",
        "else:\n",
        "  print('3의 배수입니다.')\n",
        "#정수를 입력하지 않았다면 int(n)을 할수없기에 에러남"
      ],
      "execution_count": null,
      "outputs": [
        {
          "output_type": "stream",
          "name": "stdout",
          "text": [
            "정수를 입력하세요: 3\n",
            "3의 배수입니다.\n"
          ]
        }
      ]
    },
    {
      "cell_type": "code",
      "metadata": {
        "id": "vObYxFYfYvOc"
      },
      "source": [
        "n = input('정수를 입력하세요: ')\n",
        "if n,isnumeric(): #문자열이 수치로 이루어져 있는지 판단하는 메소드\n",
        "  if int(n) % 3:\n",
        "    print('3의 배수가 아닙니다.')\n",
        "  else:\n",
        "    print('3의 배수입니다.')\n",
        "else:\n",
        "  pritn('정수를 입력하지 않았습니다.')"
      ],
      "execution_count": null,
      "outputs": []
    },
    {
      "cell_type": "code",
      "metadata": {
        "colab": {
          "base_uri": "https://localhost:8080/"
        },
        "id": "9zyHMVNdbG_L",
        "outputId": "38c1edcf-8569-4067-9c41-5cf417069065"
      },
      "source": [
        "#패스워드 검사\n",
        "password = input('패스워드를 입력하세요:  ')\n",
        "if len(password) < 8:\n",
        "  print('너무 짧습니다.')\n",
        "elif password.isalpha():\n",
        "  print('숫자나 특수문자를 포함하세요.')\n",
        "else:\n",
        "  print('좋습니다.')"
      ],
      "execution_count": null,
      "outputs": [
        {
          "output_type": "stream",
          "name": "stdout",
          "text": [
            "패스워드를 입력하세요:  qkdfjdof56\n",
            "좋습니다.\n"
          ]
        }
      ]
    },
    {
      "cell_type": "code",
      "metadata": {
        "colab": {
          "base_uri": "https://localhost:8080/"
        },
        "id": "Dy0rQk__b8a3",
        "outputId": "38d53da6-ccb7-45b4-d13e-76dee19c97fd"
      },
      "source": [
        "#문장부호 제거하기\n",
        "word = input('단어를 입력하세요:  ')\n",
        "output = ''\n",
        "for char in word:\n",
        "  if char.isalnum():\n",
        "    output = output+char\n",
        "  else:\n",
        "    pass\n",
        "\n",
        "print(output)"
      ],
      "execution_count": null,
      "outputs": [
        {
          "output_type": "stream",
          "name": "stdout",
          "text": [
            "단어를 입력하세요:  배고파...\n",
            "배고파\n"
          ]
        }
      ]
    }
  ]
}