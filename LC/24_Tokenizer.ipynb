{
  "nbformat": 4,
  "nbformat_minor": 0,
  "metadata": {
    "colab": {
      "provenance": []
    },
    "kernelspec": {
      "name": "python3",
      "display_name": "Python 3"
    },
    "language_info": {
      "name": "python"
    }
  },
  "cells": [
    {
      "cell_type": "code",
      "execution_count": null,
      "metadata": {
        "colab": {
          "base_uri": "https://localhost:8080/"
        },
        "id": "0jU2SZLoG1mV",
        "outputId": "d6e47bc1-544d-47b2-b280-96cadd64e244"
      },
      "outputs": [
        {
          "output_type": "stream",
          "name": "stdout",
          "text": [
            "--2021-12-08 02:16:20--  https://www.gutenberg.org/files/1661/1661-0.txthttps://www.gutenberg.org/files/2852/2852-0.txt\n",
            "Resolving www.gutenberg.org (www.gutenberg.org)... 152.19.134.47, 2610:28:3090:3000:0:bad:cafe:47\n",
            "Connecting to www.gutenberg.org (www.gutenberg.org)|152.19.134.47|:443... connected.\n",
            "HTTP request sent, awaiting response... 404 Not Found\n",
            "2021-12-08 02:16:20 ERROR 404: Not Found.\n",
            "\n",
            "--2021-12-08 02:16:20--  https://www.gutenberg.org/files/244/244-0.txt\n",
            "Connecting to www.gutenberg.org (www.gutenberg.org)|152.19.134.47|:443... connected.\n",
            "HTTP request sent, awaiting response... 200 OK\n",
            "Length: 272277 (266K) [text/plain]\n",
            "Saving to: ‘holmes.txt’\n",
            "\n",
            "holmes.txt          100%[===================>] 265.90K  --.-KB/s    in 0.1s    \n",
            "\n",
            "2021-12-08 02:16:20 (2.01 MB/s) - ‘holmes.txt’ saved [272277/272277]\n",
            "\n",
            "--2021-12-08 02:16:20--  https://www.gutenberg.org/files/2097/2097-0.txt\n",
            "Reusing existing connection to www.gutenberg.org:443.\n",
            "HTTP request sent, awaiting response... 200 OK\n",
            "Length: 261123 (255K) [text/plain]\n",
            "Saving to: ‘holmes.txt’\n",
            "\n",
            "holmes.txt          100%[===================>] 255.00K  --.-KB/s    in 0.001s  \n",
            "\n",
            "2021-12-08 02:16:21 (257 MB/s) - ‘holmes.txt’ saved [261123/261123]\n",
            "\n",
            "--2021-12-08 02:16:21--  https://www.gutenberg.org/files/108/108-0.txt\n",
            "Reusing existing connection to www.gutenberg.org:443.\n",
            "HTTP request sent, awaiting response... 200 OK\n",
            "Length: 719617 (703K) [text/plain]\n",
            "Saving to: ‘holmes.txt’\n",
            "\n",
            "holmes.txt          100%[===================>] 702.75K  --.-KB/s    in 0.03s   \n",
            "\n",
            "2021-12-08 02:16:21 (20.9 MB/s) - ‘holmes.txt’ saved [719617/719617]\n",
            "\n",
            "--2021-12-08 02:16:21--  https://www.gutenberg.org/files/834/834-0.txt\n",
            "Reusing existing connection to www.gutenberg.org:443.\n",
            "HTTP request sent, awaiting response... 200 OK\n",
            "Length: 612877 (599K) [text/plain]\n",
            "Saving to: ‘holmes.txt’\n",
            "\n",
            "holmes.txt          100%[===================>] 598.51K  --.-KB/s    in 0.003s  \n",
            "\n",
            "2021-12-08 02:16:21 (191 MB/s) - ‘holmes.txt’ saved [612877/612877]\n",
            "\n",
            "--2021-12-08 02:16:21--  https://www.gutenberg.org/files/3289/3289-0.txt\n",
            "Reusing existing connection to www.gutenberg.org:443.\n",
            "HTTP request sent, awaiting response... 200 OK\n",
            "Length: 344951 (337K) [text/plain]\n",
            "Saving to: ‘holmes.txt’\n",
            "\n",
            "holmes.txt          100%[===================>] 336.87K  --.-KB/s    in 0.001s  \n",
            "\n",
            "2021-12-08 02:16:21 (265 MB/s) - ‘holmes.txt’ saved [344951/344951]\n",
            "\n",
            "--2021-12-08 02:16:21--  https://www.gutenberg.org/files/2350/2350-0.txt\n",
            "Reusing existing connection to www.gutenberg.org:443.\n",
            "HTTP request sent, awaiting response... 200 OK\n",
            "Length: 357888 (350K) [text/plain]\n",
            "Saving to: ‘holmes.txt’\n",
            "\n",
            "holmes.txt          100%[===================>] 349.50K  --.-KB/s    in 0.002s  \n",
            "\n",
            "2021-12-08 02:16:21 (146 MB/s) - ‘holmes.txt’ saved [357888/357888]\n",
            "\n",
            "FINISHED --2021-12-08 02:16:21--\n",
            "Total wall clock time: 0.7s\n",
            "Downloaded: 6 files, 2.4M in 0.2s (14.5 MB/s)\n"
          ]
        }
      ],
      "source": [
        "# The Adventures of Sherlock Holmes\n",
        "# The Hound of the Baskervilles\n",
        "# A Study in Scarlet\n",
        "# The Sign of the Four\n",
        "# The Return of Sherlock Holmes\n",
        "# The Memoirs of Sherlock Holmes\n",
        "# The Valley of Fear\n",
        "# His Last Bow: An Epilogue of Sherlock Holmes\n",
        "!wget https://www.gutenberg.org/files/1661/1661-0.txt\\\n",
        "https://www.gutenberg.org/files/2852/2852-0.txt \\\n",
        "https://www.gutenberg.org/files/244/244-0.txt \\\n",
        "https://www.gutenberg.org/files/2097/2097-0.txt \\\n",
        "https://www.gutenberg.org/files/108/108-0.txt \\\n",
        "https://www.gutenberg.org/files/834/834-0.txt \\\n",
        "https://www.gutenberg.org/files/3289/3289-0.txt \\\n",
        "https://www.gutenberg.org/files/2350/2350-0.txt \\\n",
        "-O holmes.txt"
      ]
    },
    {
      "cell_type": "code",
      "source": [
        "!wc holmes.txt"
      ],
      "metadata": {
        "colab": {
          "base_uri": "https://localhost:8080/"
        },
        "id": "Rme4UN9GRuPc",
        "outputId": "f848a09e-0349-4929-bc5d-1706c54ec6f4"
      },
      "execution_count": null,
      "outputs": [
        {
          "output_type": "stream",
          "name": "stdout",
          "text": [
            "  50011  429392 2568733 holmes.txt\n"
          ]
        }
      ]
    },
    {
      "cell_type": "code",
      "source": [
        "!head -200 holmes.txt | tail"
      ],
      "metadata": {
        "colab": {
          "base_uri": "https://localhost:8080/"
        },
        "id": "PTxiDAl2JzBF",
        "outputId": "bb1565e3-e2aa-490c-8e8d-09492c4112c8"
      },
      "execution_count": null,
      "outputs": [
        {
          "output_type": "stream",
          "name": "stdout",
          "text": [
            "should prefer a man of studious and quiet habits. I am not strong\r\n",
            "enough yet to stand much noise or excitement. I had enough of both in\r\n",
            "Afghanistan to last me for the remainder of my natural existence. How\r\n",
            "could I meet this friend of yours?”\r\n",
            "\r\n",
            "“He is sure to be at the laboratory,” returned my companion. “He either\r\n",
            "avoids the place for weeks, or else he works there from morning to\r\n",
            "night. If you like, we shall drive round together after luncheon.”\r\n",
            "\r\n",
            "“Certainly,” I answered, and the conversation drifted away into other\r\n"
          ]
        }
      ]
    },
    {
      "cell_type": "code",
      "source": [
        "!wget https://ia801001.us.archive.org/6/items/The3Kingdoms/The%203%20Kingdoms_djvu.txt -O the3kingdoms.txt"
      ],
      "metadata": {
        "colab": {
          "base_uri": "https://localhost:8080/"
        },
        "id": "WIxFmI2JIpPH",
        "outputId": "0092fd53-80be-4110-f4d8-c8a399e482e4"
      },
      "execution_count": null,
      "outputs": [
        {
          "output_type": "stream",
          "name": "stdout",
          "text": [
            "--2021-12-08 02:16:21--  https://ia801001.us.archive.org/6/items/The3Kingdoms/The%203%20Kingdoms_djvu.txt\n",
            "Resolving ia801001.us.archive.org (ia801001.us.archive.org)... 207.241.228.81\n",
            "Connecting to ia801001.us.archive.org (ia801001.us.archive.org)|207.241.228.81|:443... connected.\n",
            "HTTP request sent, awaiting response... 200 OK\n",
            "Length: 3083543 (2.9M) [text/plain]\n",
            "Saving to: ‘the3kingdoms.txt’\n",
            "\n",
            "the3kingdoms.txt    100%[===================>]   2.94M   945KB/s    in 3.2s    \n",
            "\n",
            "2021-12-08 02:16:24 (945 KB/s) - ‘the3kingdoms.txt’ saved [3083543/3083543]\n",
            "\n"
          ]
        }
      ]
    },
    {
      "cell_type": "code",
      "source": [
        "!wc the3kingdoms.txt"
      ],
      "metadata": {
        "colab": {
          "base_uri": "https://localhost:8080/"
        },
        "id": "klk2BrOoRw13",
        "outputId": "40bf4216-c655-4dd2-923c-5e65e70fe02d"
      },
      "execution_count": null,
      "outputs": [
        {
          "output_type": "stream",
          "name": "stdout",
          "text": [
            "  29422  543092 3083543 the3kingdoms.txt\n"
          ]
        }
      ]
    },
    {
      "cell_type": "code",
      "source": [
        "!head -200 3kingdoms.txt | tail"
      ],
      "metadata": {
        "colab": {
          "base_uri": "https://localhost:8080/"
        },
        "id": "Vo1ijWh6J7dP",
        "outputId": "41414690-1ac2-4f08-c1cc-8d82e1571393"
      },
      "execution_count": null,
      "outputs": [
        {
          "output_type": "stream",
          "name": "stdout",
          "text": [
            "head: cannot open '3kingdoms.txt' for reading: No such file or directory\n"
          ]
        }
      ]
    },
    {
      "cell_type": "code",
      "source": [
        "from nltk import word_tokenize\n",
        "import nltk\n",
        "nltk.download('punkt')"
      ],
      "metadata": {
        "colab": {
          "base_uri": "https://localhost:8080/"
        },
        "id": "tpB5wVUmInGM",
        "outputId": "0fa5b8c8-9d94-4873-ecc4-7a182d3ae890"
      },
      "execution_count": null,
      "outputs": [
        {
          "output_type": "stream",
          "name": "stdout",
          "text": [
            "[nltk_data] Downloading package punkt to /root/nltk_data...\n",
            "[nltk_data]   Unzipping tokenizers/punkt.zip.\n"
          ]
        },
        {
          "output_type": "execute_result",
          "data": {
            "text/plain": [
              "True"
            ]
          },
          "metadata": {},
          "execution_count": 7
        }
      ]
    },
    {
      "cell_type": "code",
      "source": [
        "def get_sentences(filename):\n",
        "  sentences = []\n",
        "  f = open(filename)\n",
        "  for line in f:\n",
        "    words = word_tokenize(line)\n",
        "    if words:\n",
        "      sentences.append(words)\n",
        "  f.close()\n",
        "  return sentences"
      ],
      "metadata": {
        "id": "2Lm8TigELW2w"
      },
      "execution_count": null,
      "outputs": []
    },
    {
      "cell_type": "code",
      "source": [
        "sentences_holmes = get_sentences('holmes.txt')\n",
        "sentences_3kings = get_sentences('the3kingdoms.txt')"
      ],
      "metadata": {
        "id": "pA0VdVs3MNyq"
      },
      "execution_count": null,
      "outputs": []
    },
    {
      "cell_type": "code",
      "source": [
        "from gensim.models import Word2Vec"
      ],
      "metadata": {
        "id": "LneNCAdRMlGI"
      },
      "execution_count": null,
      "outputs": []
    },
    {
      "cell_type": "code",
      "source": [
        "model_holmes_window1 = Word2Vec(sentences=sentences_holmes, sg=1, window=1)\n",
        "model_holmes_window9 = Word2Vec(sentences=sentences_holmes, sg=1, window=9)"
      ],
      "metadata": {
        "id": "Jq_QCmuIM6_U"
      },
      "execution_count": null,
      "outputs": []
    },
    {
      "cell_type": "code",
      "source": [
        "model_3kings_window1 = Word2Vec(sentences=sentences_3kings, sg=1, window=1)\n",
        "model_3kings_window9 = Word2Vec(sentences=sentences_3kings, sg=1, window=9)"
      ],
      "metadata": {
        "id": "n4jvZ_nUNGvo"
      },
      "execution_count": null,
      "outputs": []
    },
    {
      "cell_type": "code",
      "source": [
        "model_holmes_window1.wv.most_similar(positive=['soldier'])"
      ],
      "metadata": {
        "colab": {
          "base_uri": "https://localhost:8080/"
        },
        "id": "0SZX2uTfNKTz",
        "outputId": "8ea6dcad-d574-465f-ca3f-5c6cb95f6c25"
      },
      "execution_count": null,
      "outputs": [
        {
          "output_type": "execute_result",
          "data": {
            "text/plain": [
              "[('traveller', 0.9880926609039307),\n",
              " ('white-faced', 0.9841058254241943),\n",
              " ('Second', 0.9811323881149292),\n",
              " ('Bruce-Partington', 0.9810220003128052),\n",
              " ('Several', 0.9805887937545776),\n",
              " ('rival', 0.9794355034828186),\n",
              " ('release', 0.979363203048706),\n",
              " ('church', 0.979041337966919),\n",
              " ('staff', 0.9785401225090027),\n",
              " ('flowers', 0.9783849120140076)]"
            ]
          },
          "metadata": {},
          "execution_count": 13
        }
      ]
    },
    {
      "cell_type": "code",
      "source": [
        "model_holmes_window9.wv.most_similar(positive=['soldier'])"
      ],
      "metadata": {
        "colab": {
          "base_uri": "https://localhost:8080/"
        },
        "id": "jsTvL5peVhS0",
        "outputId": "f44cefc5-4dd9-4d29-e863-0bfe4c69a687"
      },
      "execution_count": null,
      "outputs": [
        {
          "output_type": "execute_result",
          "data": {
            "text/plain": [
              "[('sniffed', 0.966156005859375),\n",
              " ('shrewd', 0.9641843438148499),\n",
              " ('ink', 0.9614521265029907),\n",
              " ('gruff', 0.9598904848098755),\n",
              " ('tenant', 0.9592288732528687),\n",
              " ('nobleman', 0.9583156108856201),\n",
              " ('calculation', 0.955839991569519),\n",
              " ('valet', 0.9553394913673401),\n",
              " ('applause', 0.9551616907119751),\n",
              " ('landlord', 0.9551217555999756)]"
            ]
          },
          "metadata": {},
          "execution_count": 14
        }
      ]
    },
    {
      "cell_type": "code",
      "source": [
        "model_3kings_window1.wv.most_similar(positive=['soldier'])"
      ],
      "metadata": {
        "colab": {
          "base_uri": "https://localhost:8080/"
        },
        "id": "QDOEZQwENfzf",
        "outputId": "bbc05cb7-9a5f-49b4-875d-58cb45a41a1f"
      },
      "execution_count": null,
      "outputs": [
        {
          "output_type": "execute_result",
          "data": {
            "text/plain": [
              "[('spy', 0.910169780254364),\n",
              " ('rider', 0.901986300945282),\n",
              " ('warrior', 0.8834428787231445),\n",
              " ('shout', 0.8757044076919556),\n",
              " ('gift', 0.8719698190689087),\n",
              " ('boy', 0.8689754009246826),\n",
              " ('monk', 0.8677259683609009),\n",
              " ('lad', 0.8656287789344788),\n",
              " ('physician', 0.8651186227798462),\n",
              " ('stranger', 0.8644611835479736)]"
            ]
          },
          "metadata": {},
          "execution_count": 15
        }
      ]
    },
    {
      "cell_type": "code",
      "source": [
        "model_3kings_window9.wv.most_similar(positive=['soldier'])"
      ],
      "metadata": {
        "colab": {
          "base_uri": "https://localhost:8080/"
        },
        "id": "Ufl7mdFXV0ks",
        "outputId": "5735fdb8-d8c7-41e2-edb2-d858618578cc"
      },
      "execution_count": null,
      "outputs": [
        {
          "output_type": "execute_result",
          "data": {
            "text/plain": [
              "[('scout', 0.8222005367279053),\n",
              " ('halt', 0.7925556302070618),\n",
              " ('angry', 0.7901251912117004),\n",
              " ('spy', 0.7887411117553711),\n",
              " ('finding', 0.7856451272964478),\n",
              " ('hilltop', 0.7827817797660828),\n",
              " ('running', 0.7721431255340576),\n",
              " ('hard', 0.7700652480125427),\n",
              " ('Someone', 0.7676846981048584),\n",
              " ('spot', 0.7675966024398804)]"
            ]
          },
          "metadata": {},
          "execution_count": 16
        }
      ]
    },
    {
      "cell_type": "code",
      "source": [
        "model_holmes_window1.wv.most_similar(positive=['Holmes'])"
      ],
      "metadata": {
        "colab": {
          "base_uri": "https://localhost:8080/"
        },
        "id": "yHrSWerhOG28",
        "outputId": "7e816e3f-1165-4778-89a7-bf49aa3972a7"
      },
      "execution_count": null,
      "outputs": [
        {
          "output_type": "execute_result",
          "data": {
            "text/plain": [
              "[('McMurdo', 0.8836513161659241),\n",
              " ('Lestrade', 0.8492286205291748),\n",
              " ('Gregson', 0.832413911819458),\n",
              " ('McGinty', 0.8247103691101074),\n",
              " ('Douglas', 0.8198516368865967),\n",
              " ('Hopkins', 0.8102116584777832),\n",
              " ('Barker', 0.809760570526123),\n",
              " ('MacDonald', 0.7991476058959961),\n",
              " ('Phelps', 0.7983667850494385),\n",
              " ('Carruthers', 0.798022985458374)]"
            ]
          },
          "metadata": {},
          "execution_count": 17
        }
      ]
    },
    {
      "cell_type": "code",
      "source": [
        "model_holmes_window9.wv.most_similar(positive=['Holmes'])"
      ],
      "metadata": {
        "colab": {
          "base_uri": "https://localhost:8080/"
        },
        "id": "OaZos7koWAQa",
        "outputId": "ac777122-9159-4b22-faa1-529df952c3a5"
      },
      "execution_count": null,
      "outputs": [
        {
          "output_type": "execute_result",
          "data": {
            "text/plain": [
              "[('McMurdo', 0.7865180373191833),\n",
              " ('Lestrade', 0.760758638381958),\n",
              " ('Gregson', 0.7398756742477417),\n",
              " ('MacDonald', 0.7226166725158691),\n",
              " ('Thaddeus', 0.7192864418029785),\n",
              " ('Inspector', 0.7186845541000366),\n",
              " ('Phelps', 0.7157618403434753),\n",
              " ('Hopkins', 0.7156988382339478),\n",
              " ('Jones', 0.7139600515365601),\n",
              " ('Melas', 0.7057522535324097)]"
            ]
          },
          "metadata": {},
          "execution_count": 18
        }
      ]
    },
    {
      "cell_type": "code",
      "source": [
        "model_3kings_window1.wv.most_similar(positive=['Xuande'])"
      ],
      "metadata": {
        "colab": {
          "base_uri": "https://localhost:8080/"
        },
        "id": "iM5Tv-OEN6c7",
        "outputId": "41d49ac1-7088-420f-9c70-df9c76b1f86d"
      },
      "execution_count": null,
      "outputs": [
        {
          "output_type": "execute_result",
          "data": {
            "text/plain": [
              "[('Kongming', 0.864048957824707),\n",
              " ('Diaochan', 0.7085431814193726),\n",
              " ('Everyone', 0.699224054813385),\n",
              " ('she', 0.6946406960487366),\n",
              " ('She', 0.693493127822876),\n",
              " ('Biao', 0.6905708312988281),\n",
              " ('messenger', 0.6799812316894531),\n",
              " ('Someone', 0.6777846813201904),\n",
              " ('Rui', 0.6704872846603394),\n",
              " ('Ai', 0.6694226264953613)]"
            ]
          },
          "metadata": {},
          "execution_count": 19
        }
      ]
    },
    {
      "cell_type": "code",
      "source": [
        "model_3kings_window9.wv.most_similar(positive=['Xuande'])"
      ],
      "metadata": {
        "colab": {
          "base_uri": "https://localhost:8080/"
        },
        "id": "2O6mtuwJXTal",
        "outputId": "3b8ef450-05bf-4831-9ead-8af9dee5d473"
      },
      "execution_count": null,
      "outputs": [
        {
          "output_type": "execute_result",
          "data": {
            "text/plain": [
              "[('visitor', 0.6818401217460632),\n",
              " ('Da', 0.6764971017837524),\n",
              " ('good-bye', 0.6718554496765137),\n",
              " ('ladies', 0.6569538712501526),\n",
              " ('Tao', 0.6500030755996704),\n",
              " ('bid', 0.6451747417449951),\n",
              " ('farewell', 0.6450352668762207),\n",
              " ('consented', 0.6448670625686646),\n",
              " ('details', 0.6447193622589111),\n",
              " ('Startled', 0.6384850740432739)]"
            ]
          },
          "metadata": {},
          "execution_count": 20
        }
      ]
    },
    {
      "cell_type": "code",
      "source": [
        "model_holmes_window9.wv.doesnt_match(['Lestrade', 'Jones', 'Gregson', 'Moriarty'])"
      ],
      "metadata": {
        "colab": {
          "base_uri": "https://localhost:8080/",
          "height": 93
        },
        "id": "7fAZttb1chTS",
        "outputId": "99d7316c-cb53-4570-dd88-b258b0c05534"
      },
      "execution_count": null,
      "outputs": [
        {
          "output_type": "stream",
          "name": "stderr",
          "text": [
            "/usr/local/lib/python3.7/dist-packages/gensim/models/keyedvectors.py:895: FutureWarning: arrays to stack must be passed as a \"sequence\" type such as list or tuple. Support for non-sequence iterables such as generators is deprecated as of NumPy 1.16 and will raise an error in the future.\n",
            "  vectors = vstack(self.word_vec(word, use_norm=True) for word in used_words).astype(REAL)\n"
          ]
        },
        {
          "output_type": "execute_result",
          "data": {
            "application/vnd.google.colaboratory.intrinsic+json": {
              "type": "string"
            },
            "text/plain": [
              "'Moriarty'"
            ]
          },
          "metadata": {},
          "execution_count": 21
        }
      ]
    },
    {
      "cell_type": "code",
      "source": [
        "model_3kings_window9.wv.doesnt_match(['Xuande', 'Guan', 'Yide', 'Cao'])"
      ],
      "metadata": {
        "colab": {
          "base_uri": "https://localhost:8080/",
          "height": 93
        },
        "id": "1Kbdrm-Wb-M8",
        "outputId": "b6cc97d1-d95f-4cbe-e1c4-3ce8994a7f48"
      },
      "execution_count": null,
      "outputs": [
        {
          "output_type": "stream",
          "name": "stderr",
          "text": [
            "/usr/local/lib/python3.7/dist-packages/gensim/models/keyedvectors.py:895: FutureWarning: arrays to stack must be passed as a \"sequence\" type such as list or tuple. Support for non-sequence iterables such as generators is deprecated as of NumPy 1.16 and will raise an error in the future.\n",
            "  vectors = vstack(self.word_vec(word, use_norm=True) for word in used_words).astype(REAL)\n"
          ]
        },
        {
          "output_type": "execute_result",
          "data": {
            "application/vnd.google.colaboratory.intrinsic+json": {
              "type": "string"
            },
            "text/plain": [
              "'Cao'"
            ]
          },
          "metadata": {},
          "execution_count": 22
        }
      ]
    },
    {
      "cell_type": "code",
      "source": [
        "import konlpy.tag import Okt"
      ],
      "metadata": {
        "id": "vAJmuLSc6Nd4"
      },
      "execution_count": null,
      "outputs": []
    },
    {
      "cell_type": "code",
      "source": [
        "okt = Okt()"
      ],
      "metadata": {
        "id": "9D3Mt0Uy67MM"
      },
      "execution_count": null,
      "outputs": []
    },
    {
      "cell_type": "code",
      "source": [
        "sentence = '언어와 컴퓨터 종강입니다.'"
      ],
      "metadata": {
        "id": "ksihaFmE6rEE"
      },
      "execution_count": null,
      "outputs": []
    },
    {
      "cell_type": "code",
      "source": [
        "print(okt.morphs(sentence))"
      ],
      "metadata": {
        "id": "WsgvZyQP6v4Z"
      },
      "execution_count": null,
      "outputs": []
    },
    {
      "cell_type": "code",
      "source": [
        "print(okt.nouns(sentence))"
      ],
      "metadata": {
        "id": "8Mb97Kbg64tw"
      },
      "execution_count": null,
      "outputs": []
    },
    {
      "cell_type": "code",
      "source": [
        "print(okt.pos(sentence))"
      ],
      "metadata": {
        "id": "-W8teDgt7FuO"
      },
      "execution_count": null,
      "outputs": []
    },
    {
      "cell_type": "code",
      "source": [
        "def pos_join(tuple):\n",
        "  return '/'.join(tuple)"
      ],
      "metadata": {
        "id": "ks3-I-Bf7I-h"
      },
      "execution_count": null,
      "outputs": []
    },
    {
      "cell_type": "code",
      "source": [
        "sentence_list = [pos_join(t) for t in okt.pos(sentence)]"
      ],
      "metadata": {
        "id": "G2xZzLWp7NOy"
      },
      "execution_count": null,
      "outputs": []
    },
    {
      "cell_type": "code",
      "source": [
        "sentence_list"
      ],
      "metadata": {
        "id": "PFOn9zV27TL3"
      },
      "execution_count": null,
      "outputs": []
    }
  ]
}