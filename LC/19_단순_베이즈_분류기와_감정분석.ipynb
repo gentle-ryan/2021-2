{
  "nbformat": 4,
  "nbformat_minor": 0,
  "metadata": {
    "colab": {
      "provenance": []
    },
    "kernelspec": {
      "name": "python3",
      "display_name": "Python 3"
    },
    "language_info": {
      "name": "python"
    }
  },
  "cells": [
    {
      "cell_type": "code",
      "metadata": {
        "id": "loO13RUdapBV"
      },
      "source": [
        "# SLP3 Chapter 4, page 7.\n",
        "# https://web.stanford.edu/~jurafsky/slp3/4.pdf\n",
        "\n",
        "train_string = \"\"\"-,just plain boring\n",
        "-,entirely predictable and lacks energy\n",
        "-,no surprises and very few laughs\n",
        "+,very powerful\n",
        "+,the most fun film of the summer\n",
        "\"\"\"\n",
        "\n",
        "f = open('train.csv', 'w')\n",
        "f.writelines(train_string)\n",
        "f.close()"
      ],
      "execution_count": null,
      "outputs": []
    },
    {
      "cell_type": "code",
      "metadata": {
        "id": "t5a62gVCa_xP",
        "colab": {
          "base_uri": "https://localhost:8080/",
          "height": 206
        },
        "outputId": "89b83582-6371-486e-e585-d97e1b695c0d"
      },
      "source": [
        "import pandas as pd\n",
        "data = pd.read_csv('train.csv',names=('sentiment', 'content'))\n",
        "data.head()"
      ],
      "execution_count": null,
      "outputs": [
        {
          "output_type": "execute_result",
          "data": {
            "text/html": [
              "<div>\n",
              "<style scoped>\n",
              "    .dataframe tbody tr th:only-of-type {\n",
              "        vertical-align: middle;\n",
              "    }\n",
              "\n",
              "    .dataframe tbody tr th {\n",
              "        vertical-align: top;\n",
              "    }\n",
              "\n",
              "    .dataframe thead th {\n",
              "        text-align: right;\n",
              "    }\n",
              "</style>\n",
              "<table border=\"1\" class=\"dataframe\">\n",
              "  <thead>\n",
              "    <tr style=\"text-align: right;\">\n",
              "      <th></th>\n",
              "      <th>sentiment</th>\n",
              "      <th>content</th>\n",
              "    </tr>\n",
              "  </thead>\n",
              "  <tbody>\n",
              "    <tr>\n",
              "      <th>0</th>\n",
              "      <td>-</td>\n",
              "      <td>just plain boring</td>\n",
              "    </tr>\n",
              "    <tr>\n",
              "      <th>1</th>\n",
              "      <td>-</td>\n",
              "      <td>entirely predictable and lacks energy</td>\n",
              "    </tr>\n",
              "    <tr>\n",
              "      <th>2</th>\n",
              "      <td>-</td>\n",
              "      <td>no surprises and very few laughs</td>\n",
              "    </tr>\n",
              "    <tr>\n",
              "      <th>3</th>\n",
              "      <td>+</td>\n",
              "      <td>very powerful</td>\n",
              "    </tr>\n",
              "    <tr>\n",
              "      <th>4</th>\n",
              "      <td>+</td>\n",
              "      <td>the most fun film of the summer</td>\n",
              "    </tr>\n",
              "  </tbody>\n",
              "</table>\n",
              "</div>"
            ],
            "text/plain": [
              "  sentiment                                content\n",
              "0         -                      just plain boring\n",
              "1         -  entirely predictable and lacks energy\n",
              "2         -       no surprises and very few laughs\n",
              "3         +                          very powerful\n",
              "4         +        the most fun film of the summer"
            ]
          },
          "metadata": {},
          "execution_count": 2
        }
      ]
    },
    {
      "cell_type": "code",
      "metadata": {
        "id": "_BT4KRl9fyhY",
        "colab": {
          "base_uri": "https://localhost:8080/",
          "height": 206
        },
        "outputId": "b8846d29-7afe-4c76-f026-beffd97032f5"
      },
      "source": [
        "# SLP3 Chapter 4, page 6, Figure 4-2.\n",
        "# https://web.stanford.edu/~jurafsky/slp3/4.pdf\n",
        "\n",
        "# word tokenization\n",
        "data['document'] = data['content'].apply(str.split)\n",
        "# sentiment labels as classes\n",
        "data['class'] = data['sentiment']\n",
        "data.head()"
      ],
      "execution_count": null,
      "outputs": [
        {
          "output_type": "execute_result",
          "data": {
            "text/html": [
              "<div>\n",
              "<style scoped>\n",
              "    .dataframe tbody tr th:only-of-type {\n",
              "        vertical-align: middle;\n",
              "    }\n",
              "\n",
              "    .dataframe tbody tr th {\n",
              "        vertical-align: top;\n",
              "    }\n",
              "\n",
              "    .dataframe thead th {\n",
              "        text-align: right;\n",
              "    }\n",
              "</style>\n",
              "<table border=\"1\" class=\"dataframe\">\n",
              "  <thead>\n",
              "    <tr style=\"text-align: right;\">\n",
              "      <th></th>\n",
              "      <th>sentiment</th>\n",
              "      <th>content</th>\n",
              "      <th>document</th>\n",
              "      <th>class</th>\n",
              "    </tr>\n",
              "  </thead>\n",
              "  <tbody>\n",
              "    <tr>\n",
              "      <th>0</th>\n",
              "      <td>-</td>\n",
              "      <td>just plain boring</td>\n",
              "      <td>[just, plain, boring]</td>\n",
              "      <td>-</td>\n",
              "    </tr>\n",
              "    <tr>\n",
              "      <th>1</th>\n",
              "      <td>-</td>\n",
              "      <td>entirely predictable and lacks energy</td>\n",
              "      <td>[entirely, predictable, and, lacks, energy]</td>\n",
              "      <td>-</td>\n",
              "    </tr>\n",
              "    <tr>\n",
              "      <th>2</th>\n",
              "      <td>-</td>\n",
              "      <td>no surprises and very few laughs</td>\n",
              "      <td>[no, surprises, and, very, few, laughs]</td>\n",
              "      <td>-</td>\n",
              "    </tr>\n",
              "    <tr>\n",
              "      <th>3</th>\n",
              "      <td>+</td>\n",
              "      <td>very powerful</td>\n",
              "      <td>[very, powerful]</td>\n",
              "      <td>+</td>\n",
              "    </tr>\n",
              "    <tr>\n",
              "      <th>4</th>\n",
              "      <td>+</td>\n",
              "      <td>the most fun film of the summer</td>\n",
              "      <td>[the, most, fun, film, of, the, summer]</td>\n",
              "      <td>+</td>\n",
              "    </tr>\n",
              "  </tbody>\n",
              "</table>\n",
              "</div>"
            ],
            "text/plain": [
              "  sentiment  ... class\n",
              "0         -  ...     -\n",
              "1         -  ...     -\n",
              "2         -  ...     -\n",
              "3         +  ...     +\n",
              "4         +  ...     +\n",
              "\n",
              "[5 rows x 4 columns]"
            ]
          },
          "metadata": {},
          "execution_count": 3
        }
      ]
    },
    {
      "cell_type": "code",
      "metadata": {
        "id": "1nI1bnj4ENng"
      },
      "source": [
        "# D = set of all documents (train data)\n",
        "D = data['document']"
      ],
      "execution_count": null,
      "outputs": []
    },
    {
      "cell_type": "code",
      "metadata": {
        "colab": {
          "base_uri": "https://localhost:8080/"
        },
        "id": "zYpnQCuMeT0i",
        "outputId": "451f4bf4-7159-47d9-cb94-6bf7bcc08586"
      },
      "source": [
        "# C = set of all classes\n",
        "C = data['class'].unique().tolist()\n",
        "print(C)"
      ],
      "execution_count": null,
      "outputs": [
        {
          "output_type": "stream",
          "name": "stdout",
          "text": [
            "['-', '+']\n"
          ]
        }
      ]
    },
    {
      "cell_type": "markdown",
      "metadata": {
        "id": "QkdHicB9Gi4Q"
      },
      "source": [
        "# function TRAIN NAIVE BAYES(D, C) returns log P(c) and log P(w|c)"
      ]
    },
    {
      "cell_type": "markdown",
      "metadata": {
        "id": "LZWohDbAF41L"
      },
      "source": [
        "## Calculate P(c) terms"
      ]
    },
    {
      "cell_type": "code",
      "metadata": {
        "id": "6bobNRXsDhQw",
        "colab": {
          "base_uri": "https://localhost:8080/"
        },
        "outputId": "a9224c65-5502-4c51-f118-626c564e0a9b"
      },
      "source": [
        "# Ndoc = number of documents in D\n",
        "Ndoc = len(D)\n",
        "print(Ndoc)"
      ],
      "execution_count": null,
      "outputs": [
        {
          "output_type": "stream",
          "name": "stdout",
          "text": [
            "0\n"
          ]
        }
      ]
    },
    {
      "cell_type": "code",
      "metadata": {
        "colab": {
          "base_uri": "https://localhost:8080/"
        },
        "id": "9FY5ob7gcnJ8",
        "outputId": "9cea753c-12c7-46f7-ec2d-02d71aa2b028"
      },
      "source": [
        "# Nc = number of documents from D in class c\n",
        "Nc = data['class'].value_counts()\n",
        "print(Nc)"
      ],
      "execution_count": null,
      "outputs": [
        {
          "output_type": "stream",
          "name": "stdout",
          "text": [
            "-    3\n",
            "+    2\n",
            "Name: class, dtype: int64\n"
          ]
        }
      ]
    },
    {
      "cell_type": "code",
      "metadata": {
        "colab": {
          "base_uri": "https://localhost:8080/"
        },
        "id": "5NIlGIpRcxzo",
        "outputId": "fb223be1-49f5-4f27-8b75-ce5805a2c550"
      },
      "source": [
        "# logprior[c] <- log(Nc/Ndoc)\n",
        "import numpy as np\n",
        "logprior = np.log(NC/Ndoc)\n",
        "print(logprior)"
      ],
      "execution_count": null,
      "outputs": [
        {
          "output_type": "stream",
          "name": "stdout",
          "text": [
            "-    3\n",
            "+    2\n",
            "Name: class, dtype: int64\n"
          ]
        }
      ]
    },
    {
      "cell_type": "code",
      "metadata": {
        "colab": {
          "base_uri": "https://localhost:8080/"
        },
        "id": "TTCtyScXdUv0",
        "outputId": "03408dea-f3b8-49e2-ffda-cb194d2e9b62"
      },
      "source": [
        "# V <- vocabulary of D\n",
        "V = []\n",
        "for d in D:\n",
        "  for w in d:\n",
        "    if w in V:\n",
        "      continue\n",
        "    V.append(w)\n",
        "\n",
        "print(len(V))\n",
        "print(V[:5])"
      ],
      "execution_count": null,
      "outputs": [
        {
          "output_type": "stream",
          "name": "stdout",
          "text": [
            "0\n",
            "[]\n"
          ]
        }
      ]
    },
    {
      "cell_type": "code",
      "metadata": {
        "colab": {
          "base_uri": "https://localhost:8080/"
        },
        "id": "ymJYxQ4NdwV6",
        "outputId": "6cfd19ec-2bd1-4ba7-b959-f961b49b762d"
      },
      "source": [
        "# bigdoc[c] <- append(d) for d ∈ D with class c\n",
        "bigdoc = D.groupby(data['class']).sum()\n",
        "print(bigdoc)"
      ],
      "execution_count": null,
      "outputs": [
        {
          "output_type": "stream",
          "name": "stdout",
          "text": [
            "class\n",
            "+    [very, powerful, the, most, fun, film, of, the...\n",
            "-    [just, plain, boring, entirely, predictable, a...\n",
            "Name: document, dtype: object\n"
          ]
        }
      ]
    },
    {
      "cell_type": "markdown",
      "metadata": {
        "id": "rw5_gScxF_ve"
      },
      "source": [
        "## Calculate P(w|c) terms"
      ]
    },
    {
      "cell_type": "code",
      "metadata": {
        "id": "iN__f7zRgJix"
      },
      "source": [
        "# count(w,c) <- # of occurrences of w in bigdoc[c]\n",
        "from collections import Counter\n",
        "count = bigdoc.apply(Counter)\n",
        "print(count)"
      ],
      "execution_count": null,
      "outputs": []
    },
    {
      "cell_type": "code",
      "metadata": {
        "id": "Trc5krVSgrs-"
      },
      "source": [
        "# loglikelihood[w,c] ← log (count(w,c) + 1)/(∑_{w′in V} (count (w′,c) + 1))\n",
        "from collections import defaultdict\n",
        "#loglikelihood[c][w]: dictionary of dictionaries\n",
        "loglikelihood = defaultdict(dict)\n",
        "for c in C:\n",
        "  for w in V:\n",
        "    loglikelihood[c][w] = np.log((count[c][w]+1)/(sum(count[c].values())+len(V)))\n",
        "\n",
        "loglikelihood = pd.DataFrame(loglikelihood)\n",
        "loglikelihood.head(20)"
      ],
      "execution_count": null,
      "outputs": []
    },
    {
      "cell_type": "markdown",
      "metadata": {
        "id": "cL3YYmBBGpPY"
      },
      "source": [
        "# function TEST NAIVE BAYES(testdoc, logprior, loglikelihood, C, V) returns best c"
      ]
    },
    {
      "cell_type": "code",
      "metadata": {
        "colab": {
          "base_uri": "https://localhost:8080/"
        },
        "id": "i5YG6_wiiRjM",
        "outputId": "d9dbb4f6-f143-42a9-c0f7-b2f074b95479"
      },
      "source": [
        "# test\n",
        "testdoc = 'predictable with no fun'.split()\n",
        "\n",
        "# sum[c] ← logprior[c]\n",
        "sums = logprior.copy()\n",
        "for c in C:\n",
        "  # word ← testdoc[i]\n",
        "  for word in testdoc:\n",
        "    if word in V:\n",
        "      # sum[c] ← sum[c]+ loglikelihood[word,c]\n",
        "     sum[c]+= logkikelihood[c][word]\n",
        "\n",
        "print(sums)"
      ],
      "execution_count": null,
      "outputs": [
        {
          "output_type": "stream",
          "name": "stdout",
          "text": [
            "-    3\n",
            "+    2\n",
            "Name: class, dtype: int64\n"
          ]
        }
      ]
    },
    {
      "cell_type": "code",
      "metadata": {
        "colab": {
          "base_uri": "https://localhost:8080/"
        },
        "id": "zM0CIH7THL8Z",
        "outputId": "f6bb2e0a-3e5c-416d-e929-44065cd341fb"
      },
      "source": [
        "# argmax_c sum[c]\n",
        "print(sums.idxmax())"
      ],
      "execution_count": null,
      "outputs": [
        {
          "output_type": "stream",
          "name": "stdout",
          "text": [
            "-\n"
          ]
        }
      ]
    }
  ]
}