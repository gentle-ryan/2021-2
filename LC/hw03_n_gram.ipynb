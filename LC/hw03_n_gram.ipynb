{
  "nbformat": 4,
  "nbformat_minor": 0,
  "metadata": {
    "colab": {
      "provenance": []
    },
    "kernelspec": {
      "name": "python3",
      "display_name": "Python 3"
    },
    "language_info": {
      "name": "python"
    }
  },
  "cells": [
    {
      "cell_type": "code",
      "metadata": {
        "id": "JJnTs5WTkZBG"
      },
      "source": [
        "train_txt = \"\"\"i like to get a hamburger\n",
        "i like to eat a pizza\n",
        "i want to eat food from malaysia\n",
        "i would like to eat some chinese food\n",
        "i would like to go to a japanese restaurant\n",
        "\"\"\""
      ],
      "execution_count": null,
      "outputs": []
    },
    {
      "cell_type": "code",
      "metadata": {
        "id": "931BZeR8kr26"
      },
      "source": [
        "sentences = [sent.split() for sent in train_txt.splitlines()]"
      ],
      "execution_count": null,
      "outputs": []
    },
    {
      "cell_type": "code",
      "metadata": {
        "id": "lgCSNlHVkrX2"
      },
      "source": [
        "import nltk\n",
        "from collections import defaultdict, Counter\n",
        "\n",
        "Ns = (1,2,3)\n",
        "bos = '<s>' #begining\n",
        "eos = '</s>' #end\n",
        "\n",
        "ngram_cnt = defaultdict(Counter)\n",
        "\n",
        "for sent in sentences:\n",
        "  for N  in Ns:\n",
        "    ngram_list = nltk.ngrams(sent, N, pad_left=True, left_pad_symbol=bos)\n",
        "    for ngram in ngram_list:\n",
        "      history = ngram[:-1]\n",
        "      word = ngram[-1]\n",
        "      ngram_cnt[history][word] += 1"
      ],
      "execution_count": null,
      "outputs": []
    },
    {
      "cell_type": "code",
      "metadata": {
        "colab": {
          "base_uri": "https://localhost:8080/"
        },
        "id": "yOWuLyhIl5-7",
        "outputId": "35425189-b40a-488f-c46d-7d0a54b99334"
      },
      "source": [
        "from pprint import pprint\n",
        "pprint(ngram_cnt)"
      ],
      "execution_count": null,
      "outputs": [
        {
          "output_type": "stream",
          "name": "stdout",
          "text": [
            "defaultdict(<class 'collections.Counter'>,\n",
            "            {(): Counter({'to': 6,\n",
            "                          'i': 5,\n",
            "                          'like': 4,\n",
            "                          'a': 3,\n",
            "                          'eat': 3,\n",
            "                          'food': 2,\n",
            "                          'would': 2,\n",
            "                          'get': 1,\n",
            "                          'hamburger': 1,\n",
            "                          'pizza': 1,\n",
            "                          'want': 1,\n",
            "                          'from': 1,\n",
            "                          'malaysia': 1,\n",
            "                          'some': 1,\n",
            "                          'chinese': 1,\n",
            "                          'go': 1,\n",
            "                          'japanese': 1,\n",
            "                          'restaurant': 1}),\n",
            "             ('<s>',): Counter({'i': 5}),\n",
            "             ('<s>', '<s>'): Counter({'i': 5}),\n",
            "             ('<s>', 'i'): Counter({'like': 2, 'would': 2, 'want': 1}),\n",
            "             ('a',): Counter({'hamburger': 1, 'pizza': 1, 'japanese': 1}),\n",
            "             ('a', 'japanese'): Counter({'restaurant': 1}),\n",
            "             ('chinese',): Counter({'food': 1}),\n",
            "             ('eat',): Counter({'a': 1, 'food': 1, 'some': 1}),\n",
            "             ('eat', 'a'): Counter({'pizza': 1}),\n",
            "             ('eat', 'food'): Counter({'from': 1}),\n",
            "             ('eat', 'some'): Counter({'chinese': 1}),\n",
            "             ('food',): Counter({'from': 1}),\n",
            "             ('food', 'from'): Counter({'malaysia': 1}),\n",
            "             ('from',): Counter({'malaysia': 1}),\n",
            "             ('get',): Counter({'a': 1}),\n",
            "             ('get', 'a'): Counter({'hamburger': 1}),\n",
            "             ('go',): Counter({'to': 1}),\n",
            "             ('go', 'to'): Counter({'a': 1}),\n",
            "             ('i',): Counter({'like': 2, 'would': 2, 'want': 1}),\n",
            "             ('i', 'like'): Counter({'to': 2}),\n",
            "             ('i', 'want'): Counter({'to': 1}),\n",
            "             ('i', 'would'): Counter({'like': 2}),\n",
            "             ('japanese',): Counter({'restaurant': 1}),\n",
            "             ('like',): Counter({'to': 4}),\n",
            "             ('like', 'to'): Counter({'eat': 2, 'get': 1, 'go': 1}),\n",
            "             ('some',): Counter({'chinese': 1}),\n",
            "             ('some', 'chinese'): Counter({'food': 1}),\n",
            "             ('to',): Counter({'eat': 3, 'get': 1, 'go': 1, 'a': 1}),\n",
            "             ('to', 'a'): Counter({'japanese': 1}),\n",
            "             ('to', 'eat'): Counter({'a': 1, 'food': 1, 'some': 1}),\n",
            "             ('to', 'get'): Counter({'a': 1}),\n",
            "             ('to', 'go'): Counter({'to': 1}),\n",
            "             ('want',): Counter({'to': 1}),\n",
            "             ('want', 'to'): Counter({'eat': 1}),\n",
            "             ('would',): Counter({'like': 2}),\n",
            "             ('would', 'like'): Counter({'to': 2})})\n"
          ]
        }
      ]
    },
    {
      "cell_type": "code",
      "metadata": {
        "id": "PRGqHVMWmO18"
      },
      "source": [
        "test_txt = 'i wnat to eat a hamburger'\n",
        "test = test_txt.split()\n",
        "k = len(test)"
      ],
      "execution_count": null,
      "outputs": []
    },
    {
      "cell_type": "code",
      "metadata": {
        "colab": {
          "base_uri": "https://localhost:8080/",
          "height": 222
        },
        "id": "FQ5HnoehmWD-",
        "outputId": "38b03304-d423-48a5-fefd-7ff8cb4255ba"
      },
      "source": [
        "import numpy as np\n",
        "test_ngram_probs_dict = dict()\n",
        "for N in Ns:\n",
        "  ngrams = nltk.ngrams(test, N, pad_left=True, left_pad_symbol=bos)\n",
        "  probs = []\n",
        "  for ngram in ngrams:\n",
        "    history = ngram[:-1]\n",
        "    word = ngram[-1]\n",
        "    cnt = ngram_cnt[history]\n",
        "    probs.append(cnt[word]/sum(cnt.values()))\n",
        "  test_ngram_probs_dict[N] = probs"
      ],
      "execution_count": null,
      "outputs": [
        {
          "output_type": "error",
          "ename": "ZeroDivisionError",
          "evalue": "ignored",
          "traceback": [
            "\u001b[0;31m---------------------------------------------------------------------------\u001b[0m",
            "\u001b[0;31mZeroDivisionError\u001b[0m                         Traceback (most recent call last)",
            "\u001b[0;32m<ipython-input-18-ea1e6be09382>\u001b[0m in \u001b[0;36m<module>\u001b[0;34m()\u001b[0m\n\u001b[1;32m      8\u001b[0m     \u001b[0mword\u001b[0m \u001b[0;34m=\u001b[0m \u001b[0mngram\u001b[0m\u001b[0;34m[\u001b[0m\u001b[0;34m-\u001b[0m\u001b[0;36m1\u001b[0m\u001b[0;34m]\u001b[0m\u001b[0;34m\u001b[0m\u001b[0;34m\u001b[0m\u001b[0m\n\u001b[1;32m      9\u001b[0m     \u001b[0mcnt\u001b[0m \u001b[0;34m=\u001b[0m \u001b[0mngram_cnt\u001b[0m\u001b[0;34m[\u001b[0m\u001b[0mhistory\u001b[0m\u001b[0;34m]\u001b[0m\u001b[0;34m\u001b[0m\u001b[0;34m\u001b[0m\u001b[0m\n\u001b[0;32m---> 10\u001b[0;31m     \u001b[0mprobs\u001b[0m\u001b[0;34m.\u001b[0m\u001b[0mappend\u001b[0m\u001b[0;34m(\u001b[0m\u001b[0mcnt\u001b[0m\u001b[0;34m[\u001b[0m\u001b[0mword\u001b[0m\u001b[0;34m]\u001b[0m\u001b[0;34m/\u001b[0m\u001b[0msum\u001b[0m\u001b[0;34m(\u001b[0m\u001b[0mcnt\u001b[0m\u001b[0;34m.\u001b[0m\u001b[0mvalues\u001b[0m\u001b[0;34m(\u001b[0m\u001b[0;34m)\u001b[0m\u001b[0;34m)\u001b[0m\u001b[0;34m)\u001b[0m\u001b[0;34m\u001b[0m\u001b[0;34m\u001b[0m\u001b[0m\n\u001b[0m\u001b[1;32m     11\u001b[0m   \u001b[0mtest_ngram_probs_dict\u001b[0m\u001b[0;34m[\u001b[0m\u001b[0mN\u001b[0m\u001b[0;34m]\u001b[0m \u001b[0;34m=\u001b[0m \u001b[0mprobs\u001b[0m\u001b[0;34m\u001b[0m\u001b[0;34m\u001b[0m\u001b[0m\n",
            "\u001b[0;31mZeroDivisionError\u001b[0m: division by zero"
          ]
        }
      ]
    },
    {
      "cell_type": "code",
      "metadata": {
        "colab": {
          "base_uri": "https://localhost:8080/"
        },
        "id": "cWnuC2c4vx7D",
        "outputId": "7bfff16e-8598-4244-8d7f-4c55e0de22e7"
      },
      "source": [
        "test_ngram_probs_dict"
      ],
      "execution_count": null,
      "outputs": [
        {
          "output_type": "execute_result",
          "data": {
            "text/plain": [
              "{1: [0.1388888888888889,\n",
              "  0.0,\n",
              "  0.16666666666666666,\n",
              "  0.08333333333333333,\n",
              "  0.08333333333333333,\n",
              "  0.027777777777777776]}"
            ]
          },
          "metadata": {},
          "execution_count": 20
        }
      ]
    },
    {
      "cell_type": "code",
      "metadata": {
        "id": "YZC1ExmdZqgy"
      },
      "source": [
        "import numpy as np"
      ],
      "execution_count": null,
      "outputs": []
    },
    {
      "cell_type": "code",
      "metadata": {
        "colab": {
          "base_uri": "https://localhost:8080/"
        },
        "id": "ZUpWflCJZslz",
        "outputId": "c2534f29-64d7-49d1-8e5e-8fb4c921c244"
      },
      "source": [
        "v = np.array([1,3,1])\n",
        "print(v.shape)"
      ],
      "execution_count": null,
      "outputs": [
        {
          "output_type": "stream",
          "name": "stdout",
          "text": [
            "(3,)\n"
          ]
        }
      ]
    },
    {
      "cell_type": "code",
      "metadata": {
        "colab": {
          "base_uri": "https://localhost:8080/"
        },
        "id": "NIEdndWlaHwR",
        "outputId": "6d25713a-944b-4306-934d-710fbd668d2f"
      },
      "source": [
        "m1 = np.array([[1, 3, 1], [1, 0, 0]])\n",
        "print(m1)\n",
        "print(m1.shape)"
      ],
      "execution_count": null,
      "outputs": [
        {
          "output_type": "stream",
          "name": "stdout",
          "text": [
            "[[1 3 1]\n",
            " [1 0 0]]\n",
            "(2, 3)\n"
          ]
        }
      ]
    },
    {
      "cell_type": "code",
      "metadata": {
        "colab": {
          "base_uri": "https://localhost:8080/"
        },
        "id": "pojgI7xUauLF",
        "outputId": "787ef13b-9971-4ccc-c9db-c66d00fb434e"
      },
      "source": [
        "m2 = np.array([[0,0,5], [7,5,0]])\n",
        "print(m1+m2)"
      ],
      "execution_count": null,
      "outputs": [
        {
          "output_type": "stream",
          "name": "stdout",
          "text": [
            "[[1 3 6]\n",
            " [8 5 0]]\n"
          ]
        }
      ]
    },
    {
      "cell_type": "code",
      "metadata": {
        "colab": {
          "base_uri": "https://localhost:8080/"
        },
        "id": "0-bQgv5Ia2NU",
        "outputId": "167af647-8c37-456c-b7df-e575c9e54d10"
      },
      "source": [
        "print(2*m1)"
      ],
      "execution_count": null,
      "outputs": [
        {
          "output_type": "stream",
          "name": "stdout",
          "text": [
            "[[2 6 2]\n",
            " [2 0 0]]\n"
          ]
        }
      ]
    },
    {
      "cell_type": "code",
      "metadata": {
        "colab": {
          "base_uri": "https://localhost:8080/"
        },
        "id": "Hbe5o4WIa18a",
        "outputId": "79bceb3d-41b9-4a40-ade8-4bc429b41d2b"
      },
      "source": [
        "m1_t = np.transpose(m1)\n",
        "print(m1_t.shape)"
      ],
      "execution_count": null,
      "outputs": [
        {
          "output_type": "stream",
          "name": "stdout",
          "text": [
            "(3, 2)\n"
          ]
        }
      ]
    },
    {
      "cell_type": "code",
      "metadata": {
        "colab": {
          "base_uri": "https://localhost:8080/"
        },
        "id": "QhwGFBcMbErQ",
        "outputId": "518cd08c-51ec-47bd-90d1-5b993180f2c7"
      },
      "source": [
        "np.zeros((2,3))"
      ],
      "execution_count": null,
      "outputs": [
        {
          "output_type": "execute_result",
          "data": {
            "text/plain": [
              "array([[0., 0., 0.],\n",
              "       [0., 0., 0.]])"
            ]
          },
          "metadata": {},
          "execution_count": 17
        }
      ]
    },
    {
      "cell_type": "code",
      "metadata": {
        "colab": {
          "base_uri": "https://localhost:8080/"
        },
        "id": "B6GpJKEibn-e",
        "outputId": "523db97a-1776-40e0-dc36-96b283bd6159"
      },
      "source": [
        "#항등행렬\n",
        "np.identity(4)"
      ],
      "execution_count": null,
      "outputs": [
        {
          "output_type": "execute_result",
          "data": {
            "text/plain": [
              "array([[1., 0., 0., 0.],\n",
              "       [0., 1., 0., 0.],\n",
              "       [0., 0., 1., 0.],\n",
              "       [0., 0., 0., 1.]])"
            ]
          },
          "metadata": {},
          "execution_count": 18
        }
      ]
    },
    {
      "cell_type": "code",
      "metadata": {
        "id": "4l0HxKsgb8H0"
      },
      "source": [
        "#행렬의 곱셈\n",
        "np.dot(m1, m2) #모양이 맞지 않는 경우 value 에러 발생"
      ],
      "execution_count": null,
      "outputs": []
    },
    {
      "cell_type": "code",
      "metadata": {
        "colab": {
          "base_uri": "https://localhost:8080/"
        },
        "id": "4iZScsq0cGu0",
        "outputId": "dfc6d5ae-0270-4c71-d357-f99109f67be2"
      },
      "source": [
        "np.dot(m1_t, m2)"
      ],
      "execution_count": null,
      "outputs": [
        {
          "output_type": "execute_result",
          "data": {
            "text/plain": [
              "array([[ 7,  5,  5],\n",
              "       [ 0,  0, 15],\n",
              "       [ 0,  0,  5]])"
            ]
          },
          "metadata": {},
          "execution_count": 19
        }
      ]
    },
    {
      "cell_type": "code",
      "metadata": {
        "colab": {
          "base_uri": "https://localhost:8080/"
        },
        "id": "PVRPcV8QcL4o",
        "outputId": "d8a0d5fe-c137-4673-9da2-bebca87b11fd"
      },
      "source": [
        "np.dot(m1, np.transpose(m2))"
      ],
      "execution_count": null,
      "outputs": [
        {
          "output_type": "execute_result",
          "data": {
            "text/plain": [
              "array([[ 5, 22],\n",
              "       [ 0,  7]])"
            ]
          },
          "metadata": {},
          "execution_count": 20
        }
      ]
    },
    {
      "cell_type": "code",
      "metadata": {
        "colab": {
          "base_uri": "https://localhost:8080/"
        },
        "id": "DZGdTVrFcdO8",
        "outputId": "cdcee2d9-224d-434b-e96a-5a9f62c11398"
      },
      "source": [
        "#열항렬 : 덧셈에 대한 항등원\n",
        "#항등행렬: 곱셈에 대한 항등원\n",
        "np.dot(m1, np.identity(3)) == m1"
      ],
      "execution_count": null,
      "outputs": [
        {
          "output_type": "execute_result",
          "data": {
            "text/plain": [
              "array([[ True,  True,  True],\n",
              "       [ True,  True,  True]])"
            ]
          },
          "metadata": {},
          "execution_count": 21
        }
      ]
    }
  ]
}