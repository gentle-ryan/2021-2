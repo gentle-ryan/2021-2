{
  "nbformat": 4,
  "nbformat_minor": 0,
  "metadata": {
    "colab": {
      "provenance": []
    },
    "kernelspec": {
      "name": "python3",
      "display_name": "Python 3"
    },
    "language_info": {
      "name": "python"
    }
  },
  "cells": [
    {
      "cell_type": "code",
      "metadata": {
        "colab": {
          "base_uri": "https://localhost:8080/"
        },
        "id": "fJuZ83yXd_vN",
        "outputId": "f9500294-2977-4ea7-985c-e662315dc6b8"
      },
      "source": [
        "string1 = print('s\\tu')\n",
        "string2 = print(r's\\tu')\n",
        "string3 = print(fr'\\a{2+3}')"
      ],
      "execution_count": null,
      "outputs": [
        {
          "output_type": "stream",
          "name": "stdout",
          "text": [
            "s\tu\n",
            "s\\tu\n",
            "\\a5\n"
          ]
        }
      ]
    },
    {
      "cell_type": "code",
      "metadata": {
        "colab": {
          "base_uri": "https://localhost:8080/"
        },
        "id": "ult6nVHbf09q",
        "outputId": "879ee7f6-fd2c-45d4-faac-6d14c4e1fd43"
      },
      "source": [
        "print(string1)\n",
        "print(string2)\n",
        "print(string3)"
      ],
      "execution_count": null,
      "outputs": [
        {
          "output_type": "stream",
          "name": "stdout",
          "text": [
            "None\n",
            "None\n",
            "None\n"
          ]
        }
      ]
    },
    {
      "cell_type": "code",
      "metadata": {
        "id": "bgBX-RcKf69j"
      },
      "source": [
        "import re"
      ],
      "execution_count": null,
      "outputs": []
    },
    {
      "cell_type": "code",
      "metadata": {
        "id": "oAhf627HgMFE"
      },
      "source": [
        "department = (r'([가-힣]+대학 )?[가-힣]+학?[과부]')\n"
      ],
      "execution_count": null,
      "outputs": []
    },
    {
      "cell_type": "code",
      "metadata": {
        "colab": {
          "base_uri": "https://localhost:8080/"
        },
        "id": "80ueKthbgX23",
        "outputId": "4368e2ee-40aa-4c35-96f5-e076b0c81866"
      },
      "source": [
        "pattern = re.compile(department)\n",
        "type(pattern)"
      ],
      "execution_count": null,
      "outputs": [
        {
          "output_type": "execute_result",
          "data": {
            "text/plain": [
              "re.Pattern"
            ]
          },
          "metadata": {},
          "execution_count": 6
        }
      ]
    },
    {
      "cell_type": "code",
      "metadata": {
        "id": "tqCUJzc-gwNv"
      },
      "source": [
        "string = '서울대학교 자연과학대학 수리과학부 이한솔'"
      ],
      "execution_count": null,
      "outputs": []
    },
    {
      "cell_type": "code",
      "metadata": {
        "colab": {
          "base_uri": "https://localhost:8080/"
        },
        "id": "yNpqflxNgzr0",
        "outputId": "846082ae-6d6b-49b6-f044-a0598c639eed"
      },
      "source": [
        "pattern.search(string)"
      ],
      "execution_count": null,
      "outputs": [
        {
          "output_type": "execute_result",
          "data": {
            "text/plain": [
              "<re.Match object; span=(6, 18), match='자연과학대학 수리과학부'>"
            ]
          },
          "metadata": {},
          "execution_count": 8
        }
      ]
    },
    {
      "cell_type": "code",
      "metadata": {
        "colab": {
          "base_uri": "https://localhost:8080/"
        },
        "id": "TbpecrWlhri9",
        "outputId": "9dc4656d-99fd-4442-c0cd-fed17fe6bca8"
      },
      "source": [
        "re.search(pattern, string)"
      ],
      "execution_count": null,
      "outputs": [
        {
          "output_type": "execute_result",
          "data": {
            "text/plain": [
              "<re.Match object; span=(6, 18), match='자연과학대학 수리과학부'>"
            ]
          },
          "metadata": {},
          "execution_count": 9
        }
      ]
    },
    {
      "cell_type": "code",
      "metadata": {
        "id": "andbGFIjiZfp"
      },
      "source": [
        "match = pattern.search(string)"
      ],
      "execution_count": null,
      "outputs": []
    },
    {
      "cell_type": "code",
      "metadata": {
        "colab": {
          "base_uri": "https://localhost:8080/",
          "height": 34
        },
        "id": "yTEUDSkdicuq",
        "outputId": "cf0d8007-d547-4d8d-c987-7462a417be80"
      },
      "source": [
        "match.group()"
      ],
      "execution_count": null,
      "outputs": [
        {
          "output_type": "execute_result",
          "data": {
            "application/vnd.google.colaboratory.intrinsic+json": {
              "type": "string"
            },
            "text/plain": [
              "'자연과학대학 수리과학부'"
            ]
          },
          "metadata": {},
          "execution_count": 11
        }
      ]
    },
    {
      "cell_type": "code",
      "metadata": {
        "colab": {
          "base_uri": "https://localhost:8080/"
        },
        "id": "NyyHBnUPi4rJ",
        "outputId": "136f1e89-872f-4851-bb02-6a6c65e44869"
      },
      "source": [
        "print(match.group(1))"
      ],
      "execution_count": null,
      "outputs": [
        {
          "output_type": "stream",
          "name": "stdout",
          "text": [
            "자연과학대학 \n"
          ]
        }
      ]
    },
    {
      "cell_type": "code",
      "metadata": {
        "colab": {
          "base_uri": "https://localhost:8080/",
          "height": 169
        },
        "id": "E82ZcYJYnubK",
        "outputId": "d73af832-bdd8-4ca2-9a41-f313738d69db"
      },
      "source": [
        "print(match.group(2))"
      ],
      "execution_count": null,
      "outputs": [
        {
          "output_type": "error",
          "ename": "IndexError",
          "evalue": "ignored",
          "traceback": [
            "\u001b[0;31m---------------------------------------------------------------------------\u001b[0m",
            "\u001b[0;31mIndexError\u001b[0m                                Traceback (most recent call last)",
            "\u001b[0;32m<ipython-input-33-303e671fcb6c>\u001b[0m in \u001b[0;36m<module>\u001b[0;34m()\u001b[0m\n\u001b[0;32m----> 1\u001b[0;31m \u001b[0mprint\u001b[0m\u001b[0;34m(\u001b[0m\u001b[0mmatch\u001b[0m\u001b[0;34m.\u001b[0m\u001b[0mgroup\u001b[0m\u001b[0;34m(\u001b[0m\u001b[0;36m2\u001b[0m\u001b[0;34m)\u001b[0m\u001b[0;34m)\u001b[0m\u001b[0;34m\u001b[0m\u001b[0;34m\u001b[0m\u001b[0m\n\u001b[0m",
            "\u001b[0;31mIndexError\u001b[0m: no such group"
          ]
        }
      ]
    },
    {
      "cell_type": "code",
      "metadata": {
        "colab": {
          "base_uri": "https://localhost:8080/"
        },
        "id": "r9wUSr4okC7u",
        "outputId": "c2a149b5-679b-4812-d686-46459c9aa5cd"
      },
      "source": [
        "pattern = re.compile(r'([가-힣]+(?:일보|신문))')\n",
        "string = \"경향신문과 동아일보와 문화일보와 조선일보와 한겨례신문\"\n",
        "print(pattern.findall(string))"
      ],
      "execution_count": null,
      "outputs": [
        {
          "output_type": "stream",
          "name": "stdout",
          "text": [
            "['경향신문', '동아일보', '문화일보', '조선일보', '한겨례신문']\n"
          ]
        }
      ]
    },
    {
      "cell_type": "code",
      "metadata": {
        "colab": {
          "base_uri": "https://localhost:8080/",
          "height": 34
        },
        "id": "ReeMTEVeluSh",
        "outputId": "4d87b6e6-8f8b-4097-c6e5-27fa1847bd19"
      },
      "source": [
        "pattern = re.compile(r'[0-9]+')\n",
        "string = '2021년 10월 13일 11시 50분'\n",
        "pattern.sub('#', string)"
      ],
      "execution_count": null,
      "outputs": [
        {
          "output_type": "execute_result",
          "data": {
            "application/vnd.google.colaboratory.intrinsic+json": {
              "type": "string"
            },
            "text/plain": [
              "'#년 #월 #일 #시 #분'"
            ]
          },
          "metadata": {},
          "execution_count": 16
        }
      ]
    },
    {
      "cell_type": "code",
      "metadata": {
        "colab": {
          "base_uri": "https://localhost:8080/",
          "height": 34
        },
        "id": "Fe-Rzw53l8z-",
        "outputId": "25a0274f-f12c-444e-9967-be32ae17163c"
      },
      "source": [
        "# 02-880-2206 --> (02)880-2206\n",
        "#group1 : 02\n",
        "#gruop2 : 880-2206\n",
        "pattern = re.compile(r'(0[02-9][0-9]?)-([0-9]{3,4}-[0-9]{4})') #지역번호와 국번을 포함한 전화번호 전체\n",
        "string = '02-880-2206'\n",
        "pattern.sub(r'(\\1)\\2',string)\n",
        "\n"
      ],
      "execution_count": null,
      "outputs": [
        {
          "output_type": "execute_result",
          "data": {
            "application/vnd.google.colaboratory.intrinsic+json": {
              "type": "string"
            },
            "text/plain": [
              "'(02)880-2206'"
            ]
          },
          "metadata": {},
          "execution_count": 19
        }
      ]
    }
  ]
}