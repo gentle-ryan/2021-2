{
  "nbformat": 4,
  "nbformat_minor": 0,
  "metadata": {
    "colab": {
      "provenance": []
    },
    "kernelspec": {
      "name": "python3",
      "display_name": "Python 3"
    },
    "language_info": {
      "name": "python"
    }
  },
  "cells": [
    {
      "cell_type": "code",
      "metadata": {
        "colab": {
          "base_uri": "https://localhost:8080/"
        },
        "id": "B6alOi9GpZEb",
        "outputId": "ccba0263-a91f-409a-ca5e-41ccd1004eb8"
      },
      "source": [
        "!wget --no-check-certificate 'https://docs.google.com/uc?export=download&id=1-MlTTAJsKVP0t0O9776GogP896U6aURK' -O food_db.xlsx"
      ],
      "execution_count": null,
      "outputs": [
        {
          "output_type": "stream",
          "name": "stdout",
          "text": [
            "--2021-10-18 02:09:09--  https://docs.google.com/uc?export=download&id=1-MlTTAJsKVP0t0O9776GogP896U6aURK\n",
            "Resolving docs.google.com (docs.google.com)... 173.194.197.139, 173.194.197.100, 173.194.197.101, ...\n",
            "Connecting to docs.google.com (docs.google.com)|173.194.197.139|:443... connected.\n",
            "HTTP request sent, awaiting response... 302 Moved Temporarily\n",
            "Location: https://doc-10-90-docs.googleusercontent.com/docs/securesc/ha0ro937gcuc7l7deffksulhg5h7mbp1/68nam547jjq4pga51llkodm281tj2veo/1634522925000/12004367441999017917/*/1-MlTTAJsKVP0t0O9776GogP896U6aURK?e=download [following]\n",
            "Warning: wildcards not supported in HTTP.\n",
            "--2021-10-18 02:09:11--  https://doc-10-90-docs.googleusercontent.com/docs/securesc/ha0ro937gcuc7l7deffksulhg5h7mbp1/68nam547jjq4pga51llkodm281tj2veo/1634522925000/12004367441999017917/*/1-MlTTAJsKVP0t0O9776GogP896U6aURK?e=download\n",
            "Resolving doc-10-90-docs.googleusercontent.com (doc-10-90-docs.googleusercontent.com)... 142.250.136.132, 2607:f8b0:4001:c34::84\n",
            "Connecting to doc-10-90-docs.googleusercontent.com (doc-10-90-docs.googleusercontent.com)|142.250.136.132|:443... connected.\n",
            "HTTP request sent, awaiting response... 200 OK\n",
            "Length: 98207545 (94M) [application/vnd.openxmlformats-officedocument.spreadsheetml.sheet]\n",
            "Saving to: ‘food_db.xlsx’\n",
            "\n",
            "food_db.xlsx        100%[===================>]  93.66M   249MB/s    in 0.4s    \n",
            "\n",
            "2021-10-18 02:09:12 (249 MB/s) - ‘food_db.xlsx’ saved [98207545/98207545]\n",
            "\n"
          ]
        }
      ]
    },
    {
      "cell_type": "code",
      "metadata": {
        "id": "eMiiJG1bqdjO"
      },
      "source": [
        "import pandas as pd"
      ],
      "execution_count": null,
      "outputs": []
    },
    {
      "cell_type": "code",
      "metadata": {
        "id": "tAwJdkWRvck-"
      },
      "source": [
        "# help(pd.read_excel)"
      ],
      "execution_count": null,
      "outputs": []
    },
    {
      "cell_type": "code",
      "metadata": {
        "id": "f1LsaNejqfZM"
      },
      "source": [
        "# skiprows=2는 해당 파일의 특성 때문에 사용함. 일반적으로는 생략.\n",
        "# index_col=1은 1번 column을 row의 index로 사용함. 일반적으로는 생략.\n",
        "data = pd.read_excel(io='food_db.xlsx', skiprows=2, index_col=0, header=1)"
      ],
      "execution_count": null,
      "outputs": []
    },
    {
      "cell_type": "code",
      "metadata": {
        "colab": {
          "base_uri": "https://localhost:8080/",
          "height": 1000
        },
        "id": "x9Na2X07qn2R",
        "outputId": "6b669d8a-9d68-4083-ec42-71a248bd9363"
      },
      "source": [
        "data.head()"
      ],
      "execution_count": null,
      "outputs": [
        {
          "output_type": "execute_result",
          "data": {
            "text/html": [
              "<div>\n",
              "<style scoped>\n",
              "    .dataframe tbody tr th:only-of-type {\n",
              "        vertical-align: middle;\n",
              "    }\n",
              "\n",
              "    .dataframe tbody tr th {\n",
              "        vertical-align: top;\n",
              "    }\n",
              "\n",
              "    .dataframe thead th {\n",
              "        text-align: right;\n",
              "    }\n",
              "</style>\n",
              "<table border=\"1\" class=\"dataframe\">\n",
              "  <thead>\n",
              "    <tr style=\"text-align: right;\">\n",
              "      <th></th>\n",
              "      <th>SAMPLE_ID</th>\n",
              "      <th>식품코드</th>\n",
              "      <th>DB군</th>\n",
              "      <th>상용제품</th>\n",
              "      <th>식품명</th>\n",
              "      <th>연도</th>\n",
              "      <th>지역 / 제조사</th>\n",
              "      <th>채취시기</th>\n",
              "      <th>식품대분류</th>\n",
              "      <th>식품상세분류</th>\n",
              "      <th>1회제공량</th>\n",
              "      <th>내용량_단위</th>\n",
              "      <th>총내용량(g)</th>\n",
              "      <th>총내용량(mL)</th>\n",
              "      <th>에너지(㎉)</th>\n",
              "      <th>에너지(kj)</th>\n",
              "      <th>수분(g)</th>\n",
              "      <th>수분(%)</th>\n",
              "      <th>단백질(g)</th>\n",
              "      <th>지방(g)</th>\n",
              "      <th>지질-가식부 100g당</th>\n",
              "      <th>탄수화물(g)</th>\n",
              "      <th>총당류(g)</th>\n",
              "      <th>자당(g)</th>\n",
              "      <th>포도당(g)</th>\n",
              "      <th>과당(g)</th>\n",
              "      <th>유당(g)</th>\n",
              "      <th>맥아당(g)</th>\n",
              "      <th>갈락토오스(g)</th>\n",
              "      <th>당알콜(g)</th>\n",
              "      <th>에리스리톨(g)</th>\n",
              "      <th>총 식이섬유(g)</th>\n",
              "      <th>총 식이섬유(mg)</th>\n",
              "      <th>총 식이섬유(%)</th>\n",
              "      <th>수용성 식이섬유(g)</th>\n",
              "      <th>불용성 식이섬유(g)</th>\n",
              "      <th>셀룰로오스(%)</th>\n",
              "      <th>리그닌(%)</th>\n",
              "      <th>칼슘(㎎)</th>\n",
              "      <th>철(㎎)</th>\n",
              "      <th>...</th>\n",
              "      <th>에이코사디에노산(20:2(n-6))(g)</th>\n",
              "      <th>에이코사디에노산(20:2(n-6))(㎎)</th>\n",
              "      <th>에이코사트리에노산(20:3(n-3))(㎎)</th>\n",
              "      <th>에이코사트리에노산(20:3(n-6))(g)</th>\n",
              "      <th>에이코사트리에노산(20:3(n-6))(㎎)</th>\n",
              "      <th>아라키돈산(20:4(n-6))(g)</th>\n",
              "      <th>아라키돈산(20:4(n-6))(㎎)</th>\n",
              "      <th>아라키돈산(20:4(n-6))(%)</th>\n",
              "      <th>에이코사테트라에노산(20:4(n-3))(㎎)</th>\n",
              "      <th>에이코사펜타에노산(20:5(n-3))(g)</th>\n",
              "      <th>에이코사펜타에노산(20:5(n-3))(㎎)</th>\n",
              "      <th>에이코사펜타에노산(20:5(n-3))(%)</th>\n",
              "      <th>도코사디에노산(22:2)(㎎)</th>\n",
              "      <th>도코사펜타에노산(22:5(n-3))(g)</th>\n",
              "      <th>도코사펜타에노산(22:5(n-3))(㎎)</th>\n",
              "      <th>도코사펜타에노산(22:5(n-3))(%)</th>\n",
              "      <th>도코사헥사에노산(22:6(n-3))(g)</th>\n",
              "      <th>도코사헥사에노산(22:6(n-3))(㎎)</th>\n",
              "      <th>도코사헥사에노산(22:6(n-3))(%)</th>\n",
              "      <th>EPA와 DHA의 합(㎎)</th>\n",
              "      <th>오메가 3 지방산(g)</th>\n",
              "      <th>오메가 6 지방산(g)</th>\n",
              "      <th>트랜스 지방산(g)</th>\n",
              "      <th>트랜스 올레산(18:1(n-9)t)(g)</th>\n",
              "      <th>트랜스 올레산(18:1(n-9)t)(㎎)</th>\n",
              "      <th>트랜스 리놀레산 (18:2t)(g)</th>\n",
              "      <th>트랜스 리놀레산 (18:2t)(㎎)</th>\n",
              "      <th>트랜스 리놀렌산(18:3t)(g)</th>\n",
              "      <th>트랜스 리놀렌산(18:3t)(㎎)</th>\n",
              "      <th>트랜스 리놀렌산(18:3t)(%)</th>\n",
              "      <th>냉산가용성물질(㎎)</th>\n",
              "      <th>총 불포화지방산(g)</th>\n",
              "      <th>식염상당량(g)</th>\n",
              "      <th>회분(g)</th>\n",
              "      <th>폐기율(%)</th>\n",
              "      <th>가식부(%)</th>\n",
              "      <th>산가용성물질(%)</th>\n",
              "      <th>카페인(㎎)</th>\n",
              "      <th>성분표출처</th>\n",
              "      <th>발행기관</th>\n",
              "    </tr>\n",
              "    <tr>\n",
              "      <th>NO</th>\n",
              "      <th></th>\n",
              "      <th></th>\n",
              "      <th></th>\n",
              "      <th></th>\n",
              "      <th></th>\n",
              "      <th></th>\n",
              "      <th></th>\n",
              "      <th></th>\n",
              "      <th></th>\n",
              "      <th></th>\n",
              "      <th></th>\n",
              "      <th></th>\n",
              "      <th></th>\n",
              "      <th></th>\n",
              "      <th></th>\n",
              "      <th></th>\n",
              "      <th></th>\n",
              "      <th></th>\n",
              "      <th></th>\n",
              "      <th></th>\n",
              "      <th></th>\n",
              "      <th></th>\n",
              "      <th></th>\n",
              "      <th></th>\n",
              "      <th></th>\n",
              "      <th></th>\n",
              "      <th></th>\n",
              "      <th></th>\n",
              "      <th></th>\n",
              "      <th></th>\n",
              "      <th></th>\n",
              "      <th></th>\n",
              "      <th></th>\n",
              "      <th></th>\n",
              "      <th></th>\n",
              "      <th></th>\n",
              "      <th></th>\n",
              "      <th></th>\n",
              "      <th></th>\n",
              "      <th></th>\n",
              "      <th></th>\n",
              "      <th></th>\n",
              "      <th></th>\n",
              "      <th></th>\n",
              "      <th></th>\n",
              "      <th></th>\n",
              "      <th></th>\n",
              "      <th></th>\n",
              "      <th></th>\n",
              "      <th></th>\n",
              "      <th></th>\n",
              "      <th></th>\n",
              "      <th></th>\n",
              "      <th></th>\n",
              "      <th></th>\n",
              "      <th></th>\n",
              "      <th></th>\n",
              "      <th></th>\n",
              "      <th></th>\n",
              "      <th></th>\n",
              "      <th></th>\n",
              "      <th></th>\n",
              "      <th></th>\n",
              "      <th></th>\n",
              "      <th></th>\n",
              "      <th></th>\n",
              "      <th></th>\n",
              "      <th></th>\n",
              "      <th></th>\n",
              "      <th></th>\n",
              "      <th></th>\n",
              "      <th></th>\n",
              "      <th></th>\n",
              "      <th></th>\n",
              "      <th></th>\n",
              "      <th></th>\n",
              "      <th></th>\n",
              "      <th></th>\n",
              "      <th></th>\n",
              "      <th></th>\n",
              "      <th></th>\n",
              "    </tr>\n",
              "  </thead>\n",
              "  <tbody>\n",
              "    <tr>\n",
              "      <th>1</th>\n",
              "      <td>R000001-ZZ-AVG</td>\n",
              "      <td>R000001</td>\n",
              "      <td>농축산물</td>\n",
              "      <td>품목대표</td>\n",
              "      <td>귀리, 겉귀리, 도정, 생것</td>\n",
              "      <td>2019</td>\n",
              "      <td>전국(대표)</td>\n",
              "      <td>평균</td>\n",
              "      <td>농축산물</td>\n",
              "      <td>곡류 및 그 제품</td>\n",
              "      <td>100.0</td>\n",
              "      <td>g</td>\n",
              "      <td>-</td>\n",
              "      <td>-</td>\n",
              "      <td>373</td>\n",
              "      <td>-</td>\n",
              "      <td>9.4</td>\n",
              "      <td>-</td>\n",
              "      <td>11.4</td>\n",
              "      <td>3.7</td>\n",
              "      <td>-</td>\n",
              "      <td>73.5</td>\n",
              "      <td>-</td>\n",
              "      <td>-</td>\n",
              "      <td>-</td>\n",
              "      <td>-</td>\n",
              "      <td>-</td>\n",
              "      <td>-</td>\n",
              "      <td>-</td>\n",
              "      <td>-</td>\n",
              "      <td>-</td>\n",
              "      <td>-</td>\n",
              "      <td>-</td>\n",
              "      <td>-</td>\n",
              "      <td>-</td>\n",
              "      <td>-</td>\n",
              "      <td>-</td>\n",
              "      <td>-</td>\n",
              "      <td>16</td>\n",
              "      <td>6.6</td>\n",
              "      <td>...</td>\n",
              "      <td>-</td>\n",
              "      <td>-</td>\n",
              "      <td>-</td>\n",
              "      <td>-</td>\n",
              "      <td>-</td>\n",
              "      <td>-</td>\n",
              "      <td>-</td>\n",
              "      <td>-</td>\n",
              "      <td>-</td>\n",
              "      <td>-</td>\n",
              "      <td>-</td>\n",
              "      <td>-</td>\n",
              "      <td>-</td>\n",
              "      <td>-</td>\n",
              "      <td>-</td>\n",
              "      <td>-</td>\n",
              "      <td>-</td>\n",
              "      <td>-</td>\n",
              "      <td>-</td>\n",
              "      <td>-</td>\n",
              "      <td>-</td>\n",
              "      <td>-</td>\n",
              "      <td>-</td>\n",
              "      <td>-</td>\n",
              "      <td>-</td>\n",
              "      <td>-</td>\n",
              "      <td>-</td>\n",
              "      <td>-</td>\n",
              "      <td>-</td>\n",
              "      <td>-</td>\n",
              "      <td>-</td>\n",
              "      <td>-</td>\n",
              "      <td>0</td>\n",
              "      <td>2</td>\n",
              "      <td>0</td>\n",
              "      <td>-</td>\n",
              "      <td>-</td>\n",
              "      <td>-</td>\n",
              "      <td>농진청('93)</td>\n",
              "      <td>국립농업과학원</td>\n",
              "    </tr>\n",
              "    <tr>\n",
              "      <th>2</th>\n",
              "      <td>R000002-ZZ-AVG</td>\n",
              "      <td>R000002</td>\n",
              "      <td>농축산물</td>\n",
              "      <td>품목대표</td>\n",
              "      <td>귀리, 쌀귀리, 도정, 생것</td>\n",
              "      <td>2019</td>\n",
              "      <td>전국(대표)</td>\n",
              "      <td>평균</td>\n",
              "      <td>농축산물</td>\n",
              "      <td>곡류 및 그 제품</td>\n",
              "      <td>100.0</td>\n",
              "      <td>g</td>\n",
              "      <td>-</td>\n",
              "      <td>-</td>\n",
              "      <td>371</td>\n",
              "      <td>-</td>\n",
              "      <td>9.7</td>\n",
              "      <td>-</td>\n",
              "      <td>14.3</td>\n",
              "      <td>3.8</td>\n",
              "      <td>-</td>\n",
              "      <td>70.4</td>\n",
              "      <td>-</td>\n",
              "      <td>-</td>\n",
              "      <td>-</td>\n",
              "      <td>-</td>\n",
              "      <td>-</td>\n",
              "      <td>-</td>\n",
              "      <td>-</td>\n",
              "      <td>-</td>\n",
              "      <td>-</td>\n",
              "      <td>-</td>\n",
              "      <td>-</td>\n",
              "      <td>-</td>\n",
              "      <td>-</td>\n",
              "      <td>-</td>\n",
              "      <td>-</td>\n",
              "      <td>-</td>\n",
              "      <td>18</td>\n",
              "      <td>7</td>\n",
              "      <td>...</td>\n",
              "      <td>-</td>\n",
              "      <td>-</td>\n",
              "      <td>-</td>\n",
              "      <td>-</td>\n",
              "      <td>-</td>\n",
              "      <td>-</td>\n",
              "      <td>-</td>\n",
              "      <td>-</td>\n",
              "      <td>-</td>\n",
              "      <td>-</td>\n",
              "      <td>-</td>\n",
              "      <td>-</td>\n",
              "      <td>-</td>\n",
              "      <td>-</td>\n",
              "      <td>-</td>\n",
              "      <td>-</td>\n",
              "      <td>-</td>\n",
              "      <td>-</td>\n",
              "      <td>-</td>\n",
              "      <td>-</td>\n",
              "      <td>-</td>\n",
              "      <td>-</td>\n",
              "      <td>-</td>\n",
              "      <td>-</td>\n",
              "      <td>-</td>\n",
              "      <td>-</td>\n",
              "      <td>-</td>\n",
              "      <td>-</td>\n",
              "      <td>-</td>\n",
              "      <td>-</td>\n",
              "      <td>-</td>\n",
              "      <td>-</td>\n",
              "      <td>0</td>\n",
              "      <td>1.8</td>\n",
              "      <td>0</td>\n",
              "      <td>-</td>\n",
              "      <td>-</td>\n",
              "      <td>-</td>\n",
              "      <td>농진청('93)</td>\n",
              "      <td>국립농업과학원</td>\n",
              "    </tr>\n",
              "    <tr>\n",
              "      <th>3</th>\n",
              "      <td>R000003-ZZ-AVG</td>\n",
              "      <td>R000003</td>\n",
              "      <td>농축산물</td>\n",
              "      <td>품목대표</td>\n",
              "      <td>귀리, 오트밀</td>\n",
              "      <td>2019</td>\n",
              "      <td>전국(대표)</td>\n",
              "      <td>평균</td>\n",
              "      <td>농축산물</td>\n",
              "      <td>곡류 및 그 제품</td>\n",
              "      <td>100.0</td>\n",
              "      <td>g</td>\n",
              "      <td>-</td>\n",
              "      <td>-</td>\n",
              "      <td>382</td>\n",
              "      <td>-</td>\n",
              "      <td>12</td>\n",
              "      <td>-</td>\n",
              "      <td>13.2</td>\n",
              "      <td>8.2</td>\n",
              "      <td>-</td>\n",
              "      <td>64.9</td>\n",
              "      <td>-</td>\n",
              "      <td>-</td>\n",
              "      <td>-</td>\n",
              "      <td>-</td>\n",
              "      <td>-</td>\n",
              "      <td>-</td>\n",
              "      <td>-</td>\n",
              "      <td>-</td>\n",
              "      <td>-</td>\n",
              "      <td>18.8</td>\n",
              "      <td>-</td>\n",
              "      <td>-</td>\n",
              "      <td>5.2</td>\n",
              "      <td>13.6</td>\n",
              "      <td>-</td>\n",
              "      <td>-</td>\n",
              "      <td>60</td>\n",
              "      <td>5.8</td>\n",
              "      <td>...</td>\n",
              "      <td>-</td>\n",
              "      <td>-</td>\n",
              "      <td>-</td>\n",
              "      <td>-</td>\n",
              "      <td>-</td>\n",
              "      <td>-</td>\n",
              "      <td>-</td>\n",
              "      <td>-</td>\n",
              "      <td>-</td>\n",
              "      <td>-</td>\n",
              "      <td>-</td>\n",
              "      <td>-</td>\n",
              "      <td>-</td>\n",
              "      <td>-</td>\n",
              "      <td>-</td>\n",
              "      <td>-</td>\n",
              "      <td>-</td>\n",
              "      <td>-</td>\n",
              "      <td>-</td>\n",
              "      <td>-</td>\n",
              "      <td>-</td>\n",
              "      <td>-</td>\n",
              "      <td>-</td>\n",
              "      <td>-</td>\n",
              "      <td>-</td>\n",
              "      <td>-</td>\n",
              "      <td>-</td>\n",
              "      <td>-</td>\n",
              "      <td>-</td>\n",
              "      <td>-</td>\n",
              "      <td>-</td>\n",
              "      <td>-</td>\n",
              "      <td>0</td>\n",
              "      <td>1.7</td>\n",
              "      <td>0</td>\n",
              "      <td>-</td>\n",
              "      <td>-</td>\n",
              "      <td>-</td>\n",
              "      <td>농진청('11)</td>\n",
              "      <td>국립농업과학원</td>\n",
              "    </tr>\n",
              "    <tr>\n",
              "      <th>4</th>\n",
              "      <td>R000004-ZZ-AVG</td>\n",
              "      <td>R000004</td>\n",
              "      <td>농축산물</td>\n",
              "      <td>품목대표</td>\n",
              "      <td>기장, 도정, 생것</td>\n",
              "      <td>2019</td>\n",
              "      <td>전국(대표)</td>\n",
              "      <td>평균</td>\n",
              "      <td>농축산물</td>\n",
              "      <td>곡류 및 그 제품</td>\n",
              "      <td>100.0</td>\n",
              "      <td>g</td>\n",
              "      <td>-</td>\n",
              "      <td>-</td>\n",
              "      <td>360</td>\n",
              "      <td>-</td>\n",
              "      <td>11.3</td>\n",
              "      <td>-</td>\n",
              "      <td>11.2</td>\n",
              "      <td>1.9</td>\n",
              "      <td>-</td>\n",
              "      <td>74.6</td>\n",
              "      <td>-</td>\n",
              "      <td>-</td>\n",
              "      <td>-</td>\n",
              "      <td>-</td>\n",
              "      <td>-</td>\n",
              "      <td>-</td>\n",
              "      <td>-</td>\n",
              "      <td>-</td>\n",
              "      <td>-</td>\n",
              "      <td>-</td>\n",
              "      <td>-</td>\n",
              "      <td>-</td>\n",
              "      <td>-</td>\n",
              "      <td>-</td>\n",
              "      <td>-</td>\n",
              "      <td>-</td>\n",
              "      <td>15</td>\n",
              "      <td>2.8</td>\n",
              "      <td>...</td>\n",
              "      <td>-</td>\n",
              "      <td>-</td>\n",
              "      <td>-</td>\n",
              "      <td>-</td>\n",
              "      <td>-</td>\n",
              "      <td>-</td>\n",
              "      <td>-</td>\n",
              "      <td>-</td>\n",
              "      <td>-</td>\n",
              "      <td>-</td>\n",
              "      <td>-</td>\n",
              "      <td>-</td>\n",
              "      <td>-</td>\n",
              "      <td>-</td>\n",
              "      <td>-</td>\n",
              "      <td>-</td>\n",
              "      <td>-</td>\n",
              "      <td>-</td>\n",
              "      <td>-</td>\n",
              "      <td>-</td>\n",
              "      <td>-</td>\n",
              "      <td>-</td>\n",
              "      <td>-</td>\n",
              "      <td>-</td>\n",
              "      <td>-</td>\n",
              "      <td>-</td>\n",
              "      <td>-</td>\n",
              "      <td>-</td>\n",
              "      <td>-</td>\n",
              "      <td>-</td>\n",
              "      <td>-</td>\n",
              "      <td>-</td>\n",
              "      <td>0</td>\n",
              "      <td>1</td>\n",
              "      <td>0</td>\n",
              "      <td>-</td>\n",
              "      <td>-</td>\n",
              "      <td>-</td>\n",
              "      <td>농진청('06)</td>\n",
              "      <td>국립농업과학원</td>\n",
              "    </tr>\n",
              "    <tr>\n",
              "      <th>5</th>\n",
              "      <td>R000005-ZZ-AVG</td>\n",
              "      <td>R000005</td>\n",
              "      <td>농축산물</td>\n",
              "      <td>품목대표</td>\n",
              "      <td>기장, 찰기장, 도정, 생것</td>\n",
              "      <td>2019</td>\n",
              "      <td>전국(대표)</td>\n",
              "      <td>평균</td>\n",
              "      <td>농축산물</td>\n",
              "      <td>곡류 및 그 제품</td>\n",
              "      <td>100.0</td>\n",
              "      <td>g</td>\n",
              "      <td>-</td>\n",
              "      <td>-</td>\n",
              "      <td>371</td>\n",
              "      <td>-</td>\n",
              "      <td>11.3</td>\n",
              "      <td>-</td>\n",
              "      <td>13.63</td>\n",
              "      <td>3.77</td>\n",
              "      <td>-</td>\n",
              "      <td>69.65</td>\n",
              "      <td>0.46</td>\n",
              "      <td>0.46</td>\n",
              "      <td>0</td>\n",
              "      <td>0</td>\n",
              "      <td>0</td>\n",
              "      <td>0</td>\n",
              "      <td>0</td>\n",
              "      <td>-</td>\n",
              "      <td>-</td>\n",
              "      <td>4.7</td>\n",
              "      <td>-</td>\n",
              "      <td>-</td>\n",
              "      <td>0.4</td>\n",
              "      <td>4.2</td>\n",
              "      <td>-</td>\n",
              "      <td>-</td>\n",
              "      <td>21</td>\n",
              "      <td>4.78</td>\n",
              "      <td>...</td>\n",
              "      <td>-</td>\n",
              "      <td>1.91</td>\n",
              "      <td>0</td>\n",
              "      <td>-</td>\n",
              "      <td>0</td>\n",
              "      <td>-</td>\n",
              "      <td>3.3</td>\n",
              "      <td>-</td>\n",
              "      <td>-</td>\n",
              "      <td>-</td>\n",
              "      <td>0</td>\n",
              "      <td>-</td>\n",
              "      <td>0</td>\n",
              "      <td>-</td>\n",
              "      <td>0</td>\n",
              "      <td>-</td>\n",
              "      <td>-</td>\n",
              "      <td>0</td>\n",
              "      <td>-</td>\n",
              "      <td>-</td>\n",
              "      <td>0.04</td>\n",
              "      <td>2.19</td>\n",
              "      <td>0</td>\n",
              "      <td>-</td>\n",
              "      <td>0</td>\n",
              "      <td>-</td>\n",
              "      <td>3.35</td>\n",
              "      <td>-</td>\n",
              "      <td>0.88</td>\n",
              "      <td>-</td>\n",
              "      <td>-</td>\n",
              "      <td>-</td>\n",
              "      <td>0.0</td>\n",
              "      <td>1.63</td>\n",
              "      <td>0</td>\n",
              "      <td>-</td>\n",
              "      <td>-</td>\n",
              "      <td>-</td>\n",
              "      <td>농진청('13)</td>\n",
              "      <td>국립농업과학원</td>\n",
              "    </tr>\n",
              "  </tbody>\n",
              "</table>\n",
              "<p>5 rows × 240 columns</p>\n",
              "</div>"
            ],
            "text/plain": [
              "         SAMPLE_ID     식품코드   DB군  상용제품  ... 산가용성물질(%)  카페인(㎎)     성분표출처     발행기관\n",
              "NO                                       ...                                     \n",
              "1   R000001-ZZ-AVG  R000001  농축산물  품목대표  ...         -       -  농진청('93)  국립농업과학원\n",
              "2   R000002-ZZ-AVG  R000002  농축산물  품목대표  ...         -       -  농진청('93)  국립농업과학원\n",
              "3   R000003-ZZ-AVG  R000003  농축산물  품목대표  ...         -       -  농진청('11)  국립농업과학원\n",
              "4   R000004-ZZ-AVG  R000004  농축산물  품목대표  ...         -       -  농진청('06)  국립농업과학원\n",
              "5   R000005-ZZ-AVG  R000005  농축산물  품목대표  ...         -       -  농진청('13)  국립농업과학원\n",
              "\n",
              "[5 rows x 240 columns]"
            ]
          },
          "metadata": {},
          "execution_count": 6
        }
      ]
    },
    {
      "cell_type": "code",
      "metadata": {
        "colab": {
          "base_uri": "https://localhost:8080/"
        },
        "id": "qT2J2mQjycIa",
        "outputId": "e4f835e7-3b25-47ee-c5dd-38f081b45f66"
      },
      "source": [
        "data['식품대분류'].value_counts()"
      ],
      "execution_count": null,
      "outputs": [
        {
          "output_type": "execute_result",
          "data": {
            "text/plain": [
              "빵류        8465\n",
              "과자        6815\n",
              "즉석조리식품    4813\n",
              "캔디류       3120\n",
              "농축산물      3113\n",
              "          ... \n",
              "어유           1\n",
              "가공유크림        1\n",
              "곤충가공식품       1\n",
              "과실주          1\n",
              "산양유          1\n",
              "Name: 식품대분류, Length: 193, dtype: int64"
            ]
          },
          "metadata": {},
          "execution_count": 7
        }
      ]
    },
    {
      "cell_type": "code",
      "metadata": {
        "colab": {
          "base_uri": "https://localhost:8080/"
        },
        "id": "5eF_qT6WCPzz",
        "outputId": "8c0b9cfe-7ea9-4bdc-92b1-633bc104f6af"
      },
      "source": [
        "print(data['식품대분류'].value_counts().keys().tolist())"
      ],
      "execution_count": null,
      "outputs": [
        {
          "output_type": "stream",
          "name": "stdout",
          "text": [
            "['빵류', '과자', '즉석조리식품', '캔디류', '농축산물', '음료 및 차류', '과/채주스', '즉석섭취식품', '혼합음료', '건면', '초콜릿가공품', '수산물', '과/채음료', '아이스크림', '농후발효유', '가공유', '유탕면', '탄산음료', '아이스밀크', '만두', '초콜릿', '올리브유', '커피', '우유', '잼', '발효유', '음료베이스', '프레스햄', '영/유아용 이유식', '소시지', '아이스크림류', '튀김류', '밀크초콜릿', '준초콜릿', '어육소시지', '샤베트', '빙과', '기타식물성유지', '가공치즈', '숙면', '가공두유', '유산균음료', '생면', '향미유', '과자류', '햄', '체중조절용 조제식품', '인삼/홍삼음료', '소스', '액상차', '혼합장', '된장', '생채및 무침류', '기타잼', '고추장', '환자용 식품', '곡류가공품', '기타 수산물가공품', '기타발효음료', '볶음류', '기타 코코아가공품', '면 및 만두류', '어묵', '국 및 탕류', '시리얼류', '고형차', '신선편의식품', '화이트초콜릿', '밥류', '기타가공품', '과/채가공품', '혼합간장', '양조간장', '기타', '찌개 및 전골류', '참기름', '분쇄가공육제품', '성장기용 조제식', '구이류', '해바라기유', '당류가공품', '들기름', '채종유(유채유 또는 카놀라유)', '성장기용 조제유', '카레(커리)', '강화우유', '콩기름(대두유)', '비유지방아이스크림', '땅콩 또는 견과류가공품', '농축과/채즙(또는 과/채분)', '전.적 및 부침류', '찜류', '조림류', '영아용 조제유', '자연치즈', '두부', '식육추출가공품', '영/유아용 특수조제식품', '곡류 및 서류', '미강유(현미유)', '옥수수기름(옥배유)', '탄산수', '알가열제품', '마가린', '혼합식용유', '김치류', '죽 및 스프류', '복합조미식품', '장아찌 및 절임류', '숙채류', '산분해간장', '토마토케첩', '조미김', '절임식품', '추잉껌', '야자유', '춘장', '가공두부', '가공유지', '발효소시지', '원액두유', '두류가공품', '마요네즈', '생햄', '젓갈', '침출차', '땅콩버터', '식물성크림', '기타장류', '묵류', '유당분해우유', '밀가루', '설탕', '당절임', '가공버터', '버터', '쇼트닝', '떡류', '개량메주', '올리고당', '식육함유가공품', '김치', '서류가공품', '선천성 대사질환자용 식품', '양념젓갈', '기타 어육가공품', '기타 농산가공품', '탈지분유', '젓갈류', '팜유류', '전지분유', '저지방아이스크림', '혼합소시지', '기타설탕', '발효식초', '만두피', '기타 식용유지가공품', '크림발효유', '물엿', '베이컨류', '양념육', '조미건어포', '영아용 조제식', '홍화유(사플라워유 또는 잇꽃유)', '코코아분말', '추출가공식품', '임산/수유부용 식품', '고추씨기름', '회류', '농후크림발효유', '당시럽류', '효모음료', '영양강화 밀가루', '식용돈지', '땅콩기름(낙화생유)', '전분가공품', '코코아버터', '코코아매스', '올리고당가공품', '가공연유', '벌꿀', '포류', '알함유가공품', '혼합분유', '탈지농축우유', '유산균첨가우유', '모조치즈', '고춧가루', '어유', '가공유크림', '곤충가공식품', '과실주', '산양유']\n"
          ]
        }
      ]
    },
    {
      "cell_type": "code",
      "metadata": {
        "colab": {
          "base_uri": "https://localhost:8080/"
        },
        "id": "mZMkDHGZCWmg",
        "outputId": "2e9bce91-aa1b-49d8-e721-46ad03891907"
      },
      "source": [
        "data['식품상세분류'][data['식품대분류'].str.contains('과자')].value_counts()"
      ],
      "execution_count": null,
      "outputs": [
        {
          "output_type": "execute_result",
          "data": {
            "text/plain": [
              "과자         3353\n",
              "스낵과자       1295\n",
              "비스킷         637\n",
              "쿠키          593\n",
              "기타과자        330\n",
              "크래커         309\n",
              "웨이퍼         174\n",
              "한과류         139\n",
              "기타 과자류       97\n",
              "쿠키.비스킷류      77\n",
              "초콜릿류         17\n",
              "스낵류          10\n",
              "Name: 식품상세분류, dtype: int64"
            ]
          },
          "metadata": {},
          "execution_count": 9
        }
      ]
    },
    {
      "cell_type": "code",
      "metadata": {
        "colab": {
          "base_uri": "https://localhost:8080/"
        },
        "id": "5rIY-RJTuelT",
        "outputId": "f148f928-b4d2-465c-bd79-16583e178407"
      },
      "source": [
        "data['식품명'].sample(n=10, random_state=42)"
      ],
      "execution_count": null,
      "outputs": [
        {
          "output_type": "execute_result",
          "data": {
            "text/plain": [
              "NO\n",
              "8609               냉동면 칼국수\n",
              "2350     새우, 꽃새우, 튀긴것(튀김옷)\n",
              "43642             프로바이오 사과\n",
              "54982         얼그레이티 (hot)J\n",
              "274              찹쌀 과자, 전병\n",
              "44057     아이셔츄잉캔디 청사과맛&딸기맛\n",
              "6918           롱 포테이토 칩 소금\n",
              "30232          맛들 정담우리 갈비탕\n",
              "28486                소곱창전골\n",
              "57381                 코울슬로\n",
              "Name: 식품명, dtype: object"
            ]
          },
          "metadata": {},
          "execution_count": 279
        }
      ]
    },
    {
      "cell_type": "code",
      "metadata": {
        "colab": {
          "base_uri": "https://localhost:8080/"
        },
        "id": "00etXaYHzDLb",
        "outputId": "5feded13-bf35-4a68-e9da-51d865f33823"
      },
      "source": [
        "data['식품명'][data['식품대분류'].str.contains('탄산')]"
      ],
      "execution_count": null,
      "outputs": [
        {
          "output_type": "execute_result",
          "data": {
            "text/plain": [
              "NO\n",
              "4528     파리콜라 천연콜라열매향 0.1%\n",
              "4627              밀크소다 암바사\n",
              "4641                하이트 제로\n",
              "4648            하이트제로 0.00\n",
              "4706               데미소다 피치\n",
              "               ...        \n",
              "50808           이브 스파클링 애플\n",
              "50929             딸기 식초사이다\n",
              "51368              싱하 소다워터\n",
              "51535          헬로 키티 베리 믹스\n",
              "51536           헬로키티 베리 믹스\n",
              "Name: 식품명, Length: 767, dtype: object"
            ]
          },
          "metadata": {},
          "execution_count": 10
        }
      ]
    },
    {
      "cell_type": "code",
      "metadata": {
        "colab": {
          "base_uri": "https://localhost:8080/"
        },
        "id": "NuKNXO0A1ND0",
        "outputId": "3d10c0b6-fe69-4006-c9d5-0092fd9b6668"
      },
      "source": [
        "data['식품명'][data['식품대분류'].str.contains('발효유')]"
      ],
      "execution_count": null,
      "outputs": [
        {
          "output_type": "execute_result",
          "data": {
            "text/plain": [
              "NO\n",
              "5237        후디스 그릭요거트 무설탕 저지방\n",
              "5238                그릭요거트 플레인\n",
              "5239           후디스 마시는 그릭 플레인\n",
              "5240     후디스 오가닉 그릭요거트 네이쳐 냉장\n",
              "5241      후디스 오가닉 그릭요거트 퓨어 냉장\n",
              "                 ...         \n",
              "43989               건국하이요 복숭아\n",
              "43990               건국하이요 플레인\n",
              "43991                매일아침 채움인\n",
              "43992                매일아침 활력칸\n",
              "43997                비락 상쾌한아침\n",
              "Name: 식품명, Length: 1319, dtype: object"
            ]
          },
          "metadata": {},
          "execution_count": 11
        }
      ]
    },
    {
      "cell_type": "code",
      "metadata": {
        "id": "QvEEDeWJzGE6"
      },
      "source": [
        "from unicodedata import normalize"
      ],
      "execution_count": null,
      "outputs": []
    },
    {
      "cell_type": "code",
      "metadata": {
        "colab": {
          "base_uri": "https://localhost:8080/"
        },
        "id": "9-3NKL_t0GOE",
        "outputId": "a60328ec-48e7-4402-d9e5-28f1e322af1b"
      },
      "source": [
        "help(normalize)"
      ],
      "execution_count": null,
      "outputs": [
        {
          "output_type": "stream",
          "name": "stdout",
          "text": [
            "Help on built-in function normalize in module unicodedata:\n",
            "\n",
            "normalize(form, unistr, /)\n",
            "    Return the normal form 'form' for the Unicode string unistr.\n",
            "    \n",
            "    Valid values for form are 'NFC', 'NFKC', 'NFD', and 'NFKD'.\n",
            "\n"
          ]
        }
      ]
    },
    {
      "cell_type": "code",
      "metadata": {
        "colab": {
          "base_uri": "https://localhost:8080/"
        },
        "id": "LiMAGycfzc30",
        "outputId": "5a97baff-6996-4c50-bc44-522b1cf2ba33"
      },
      "source": [
        "hangul = '한글'\n",
        "hangul_decomposed = normalize('NFD', '한글')\n",
        "print(hangul, hangul_decomposed)"
      ],
      "execution_count": null,
      "outputs": [
        {
          "output_type": "stream",
          "name": "stdout",
          "text": [
            "한글 한글\n"
          ]
        }
      ]
    },
    {
      "cell_type": "code",
      "metadata": {
        "colab": {
          "base_uri": "https://localhost:8080/"
        },
        "id": "W00E_kKuz4M0",
        "outputId": "7785095e-02e9-4f54-8415-eca2d9df230e"
      },
      "source": [
        "hangul == hangul_decomposed"
      ],
      "execution_count": null,
      "outputs": [
        {
          "output_type": "execute_result",
          "data": {
            "text/plain": [
              "False"
            ]
          },
          "metadata": {},
          "execution_count": 15
        }
      ]
    },
    {
      "cell_type": "code",
      "metadata": {
        "colab": {
          "base_uri": "https://localhost:8080/"
        },
        "id": "vwGYiA-pz8yN",
        "outputId": "11f71bbe-6739-4f1a-d740-e0dcce926d99"
      },
      "source": [
        "list(hangul), list(hangul_decomposed)"
      ],
      "execution_count": null,
      "outputs": [
        {
          "output_type": "execute_result",
          "data": {
            "text/plain": [
              "(['한', '글'], ['ᄒ', 'ᅡ', 'ᆫ', 'ᄀ', 'ᅳ', 'ᆯ'])"
            ]
          },
          "metadata": {},
          "execution_count": 16
        }
      ]
    },
    {
      "cell_type": "code",
      "metadata": {
        "id": "0H0tIGlczmNV"
      },
      "source": [
        "import re\n",
        "\n",
        "def decompose(hanstr):\n",
        "  nonhangul = re.compile(r'[^가-힣]')\n",
        "  hanstr = nonhangul.sub('', hanstr)\n",
        "  return normalize('NFD', hanstr)"
      ],
      "execution_count": null,
      "outputs": []
    },
    {
      "cell_type": "code",
      "metadata": {
        "colab": {
          "base_uri": "https://localhost:8080/"
        },
        "id": "kqdIzTE8FoNw",
        "outputId": "47444845-a0f9-4e4c-c915-c4324b4513ea"
      },
      "source": [
        "list(decompose('HAN글34'))"
      ],
      "execution_count": null,
      "outputs": [
        {
          "output_type": "execute_result",
          "data": {
            "text/plain": [
              "['ᄀ', 'ᅳ', 'ᆯ']"
            ]
          },
          "metadata": {},
          "execution_count": 18
        }
      ]
    },
    {
      "cell_type": "code",
      "metadata": {
        "id": "jrLd5Z9g711O"
      },
      "source": [
        "from unicodedata import name\n",
        "\n",
        "def is_choseong(jamo):\n",
        "  return name(jamo).startswith('HANGUL CHOSEONG') and not name(jamo).endswith('IEUNG')\n",
        "\n",
        "def get_choseong(hanstr):\n",
        "  hanstr = decompose(hanstr)\n",
        "  return ''.join(jamo for jamo in hanstr if is_choseong(jamo))"
      ],
      "execution_count": null,
      "outputs": []
    },
    {
      "cell_type": "code",
      "metadata": {
        "id": "AHGG0CE50aI0"
      },
      "source": [
        "data['식품명_초성'] = data['식품명'].apply(get_choseong)"
      ],
      "execution_count": null,
      "outputs": []
    },
    {
      "cell_type": "code",
      "metadata": {
        "colab": {
          "base_uri": "https://localhost:8080/"
        },
        "id": "pFEh-ElO0pjU",
        "outputId": "9d1fd7a0-4fe1-42ca-fbff-f55dfbc5fede"
      },
      "source": [
        "data['식품명'][10000], data['식품명_초성'][10000]"
      ],
      "execution_count": null,
      "outputs": [
        {
          "output_type": "execute_result",
          "data": {
            "text/plain": [
              "('김밥 단무지', 'ᄀᄇᄃᄆᄌ')"
            ]
          },
          "metadata": {},
          "execution_count": 21
        }
      ]
    },
    {
      "cell_type": "code",
      "metadata": {
        "id": "kd0H8GFP1yyV"
      },
      "source": [
        "names_soda = data['식품명_초성'][data['식품대분류'].str.contains('탄산')].tolist()\n",
        "names_yogh = data['식품명_초성'][data['식품대분류'].str.contains('발효유')].tolist()"
      ],
      "execution_count": null,
      "outputs": []
    },
    {
      "cell_type": "code",
      "metadata": {
        "id": "xRcO4lMR1-vp"
      },
      "source": [
        "from collections import Counter"
      ],
      "execution_count": null,
      "outputs": []
    },
    {
      "cell_type": "code",
      "metadata": {
        "colab": {
          "base_uri": "https://localhost:8080/"
        },
        "id": "vqODNwfe3BgA",
        "outputId": "e536b664-460d-4ace-dc7e-e5165da46e58"
      },
      "source": [
        "print(names_soda[1])\n",
        "Counter(names_soda[1])"
      ],
      "execution_count": null,
      "outputs": [
        {
          "output_type": "stream",
          "name": "stdout",
          "text": [
            "ᄆᄏᄉᄃᄇᄉ\n"
          ]
        },
        {
          "output_type": "execute_result",
          "data": {
            "text/plain": [
              "Counter({'ᄃ': 1, 'ᄆ': 1, 'ᄇ': 1, 'ᄉ': 2, 'ᄏ': 1})"
            ]
          },
          "metadata": {},
          "execution_count": 24
        }
      ]
    },
    {
      "cell_type": "code",
      "metadata": {
        "colab": {
          "base_uri": "https://localhost:8080/"
        },
        "id": "OS7qhvm23W1S",
        "outputId": "92388d63-8fa3-4f53-eefa-2a77865a71ca"
      },
      "source": [
        "counter_soda = Counter()\n",
        "for name in names_soda:\n",
        "  counter_soda.update(Counter(name))\n",
        "\n",
        "counter_soda.most_common(5)"
      ],
      "execution_count": null,
      "outputs": [
        {
          "output_type": "execute_result",
          "data": {
            "text/plain": [
              "[('ᄅ', 857), ('ᄉ', 694), ('ᄑ', 492), ('ᄏ', 473), ('ᄃ', 355)]"
            ]
          },
          "metadata": {},
          "execution_count": 25
        }
      ]
    },
    {
      "cell_type": "code",
      "metadata": {
        "colab": {
          "base_uri": "https://localhost:8080/"
        },
        "id": "NFYapDLm3Au1",
        "outputId": "6c532e9b-ff61-407b-b658-5670ba7e03f0"
      },
      "source": [
        "counter_yogh = Counter()\n",
        "for name in names_yogh:\n",
        "  counter_yogh.update(Counter(name))\n",
        "\n",
        "counter_yogh.most_common(5)"
      ],
      "execution_count": null,
      "outputs": [
        {
          "output_type": "execute_result",
          "data": {
            "text/plain": [
              "[('ᄅ', 1741), ('ᄀ', 1260), ('ᄉ', 961), ('ᄇ', 932), ('ᄑ', 845)]"
            ]
          },
          "metadata": {},
          "execution_count": 26
        }
      ]
    },
    {
      "cell_type": "code",
      "metadata": {
        "colab": {
          "base_uri": "https://localhost:8080/",
          "height": 213
        },
        "id": "BxfdB_Zg5oil",
        "outputId": "df1226b0-47aa-4458-dd19-09cff20cb141"
      },
      "source": [
        "df_soda = pd.DataFrame(counter_soda.most_common(), columns=('초성', '개수'))\n",
        "df_yogh = pd.DataFrame(counter_yogh.most_common(), columns=('초성', '개수'))\n",
        "df_soda.head()"
      ],
      "execution_count": null,
      "outputs": [
        {
          "output_type": "error",
          "ename": "NameError",
          "evalue": "ignored",
          "traceback": [
            "\u001b[0;31m---------------------------------------------------------------------------\u001b[0m",
            "\u001b[0;31mNameError\u001b[0m                                 Traceback (most recent call last)",
            "\u001b[0;32m<ipython-input-1-04fdaa13ac1b>\u001b[0m in \u001b[0;36m<module>\u001b[0;34m()\u001b[0m\n\u001b[0;32m----> 1\u001b[0;31m \u001b[0mdf_soda\u001b[0m \u001b[0;34m=\u001b[0m \u001b[0mpd\u001b[0m\u001b[0;34m.\u001b[0m\u001b[0mDataFrame\u001b[0m\u001b[0;34m(\u001b[0m\u001b[0mcounter_soda\u001b[0m\u001b[0;34m.\u001b[0m\u001b[0mmost_common\u001b[0m\u001b[0;34m(\u001b[0m\u001b[0;34m)\u001b[0m\u001b[0;34m,\u001b[0m \u001b[0mcolumns\u001b[0m\u001b[0;34m=\u001b[0m\u001b[0;34m(\u001b[0m\u001b[0;34m'초성'\u001b[0m\u001b[0;34m,\u001b[0m \u001b[0;34m'개수'\u001b[0m\u001b[0;34m)\u001b[0m\u001b[0;34m)\u001b[0m\u001b[0;34m\u001b[0m\u001b[0;34m\u001b[0m\u001b[0m\n\u001b[0m\u001b[1;32m      2\u001b[0m \u001b[0mdf_yogh\u001b[0m \u001b[0;34m=\u001b[0m \u001b[0mpd\u001b[0m\u001b[0;34m.\u001b[0m\u001b[0mDataFrame\u001b[0m\u001b[0;34m(\u001b[0m\u001b[0mcounter_yogh\u001b[0m\u001b[0;34m.\u001b[0m\u001b[0mmost_common\u001b[0m\u001b[0;34m(\u001b[0m\u001b[0;34m)\u001b[0m\u001b[0;34m,\u001b[0m \u001b[0mcolumns\u001b[0m\u001b[0;34m=\u001b[0m\u001b[0;34m(\u001b[0m\u001b[0;34m'초성'\u001b[0m\u001b[0;34m,\u001b[0m \u001b[0;34m'개수'\u001b[0m\u001b[0;34m)\u001b[0m\u001b[0;34m)\u001b[0m\u001b[0;34m\u001b[0m\u001b[0;34m\u001b[0m\u001b[0m\n\u001b[1;32m      3\u001b[0m \u001b[0mdf_soda\u001b[0m\u001b[0;34m.\u001b[0m\u001b[0mhead\u001b[0m\u001b[0;34m(\u001b[0m\u001b[0;34m)\u001b[0m\u001b[0;34m\u001b[0m\u001b[0;34m\u001b[0m\u001b[0m\n",
            "\u001b[0;31mNameError\u001b[0m: name 'pd' is not defined"
          ]
        }
      ]
    },
    {
      "cell_type": "code",
      "metadata": {
        "id": "gdyLuC8G5Guv"
      },
      "source": [
        "df_soda['비율'] = df_soda['개수'] / df_soda['개수'].sum() * 100\n",
        "df_yogh['비율'] = df_yogh['개수'] / df_yogh['개수'].sum() * 100"
      ],
      "execution_count": null,
      "outputs": []
    },
    {
      "cell_type": "code",
      "metadata": {
        "colab": {
          "base_uri": "https://localhost:8080/",
          "height": 613
        },
        "id": "OTgD0Xg46Q_H",
        "outputId": "440b2c69-1073-4bc7-95ba-e7af19eda244"
      },
      "source": [
        "pd.concat((df_soda, df_yogh), axis=1)"
      ],
      "execution_count": null,
      "outputs": [
        {
          "output_type": "execute_result",
          "data": {
            "text/html": [
              "<div>\n",
              "<style scoped>\n",
              "    .dataframe tbody tr th:only-of-type {\n",
              "        vertical-align: middle;\n",
              "    }\n",
              "\n",
              "    .dataframe tbody tr th {\n",
              "        vertical-align: top;\n",
              "    }\n",
              "\n",
              "    .dataframe thead th {\n",
              "        text-align: right;\n",
              "    }\n",
              "</style>\n",
              "<table border=\"1\" class=\"dataframe\">\n",
              "  <thead>\n",
              "    <tr style=\"text-align: right;\">\n",
              "      <th></th>\n",
              "      <th>초성</th>\n",
              "      <th>개수</th>\n",
              "      <th>비율</th>\n",
              "      <th>초성</th>\n",
              "      <th>개수</th>\n",
              "      <th>비율</th>\n",
              "    </tr>\n",
              "  </thead>\n",
              "  <tbody>\n",
              "    <tr>\n",
              "      <th>0</th>\n",
              "      <td>ᄅ</td>\n",
              "      <td>857</td>\n",
              "      <td>18.646649</td>\n",
              "      <td>ᄅ</td>\n",
              "      <td>1741</td>\n",
              "      <td>18.446705</td>\n",
              "    </tr>\n",
              "    <tr>\n",
              "      <th>1</th>\n",
              "      <td>ᄉ</td>\n",
              "      <td>694</td>\n",
              "      <td>15.100087</td>\n",
              "      <td>ᄀ</td>\n",
              "      <td>1260</td>\n",
              "      <td>13.350286</td>\n",
              "    </tr>\n",
              "    <tr>\n",
              "      <th>2</th>\n",
              "      <td>ᄑ</td>\n",
              "      <td>492</td>\n",
              "      <td>10.704961</td>\n",
              "      <td>ᄉ</td>\n",
              "      <td>961</td>\n",
              "      <td>10.182242</td>\n",
              "    </tr>\n",
              "    <tr>\n",
              "      <th>3</th>\n",
              "      <td>ᄏ</td>\n",
              "      <td>473</td>\n",
              "      <td>10.291558</td>\n",
              "      <td>ᄇ</td>\n",
              "      <td>932</td>\n",
              "      <td>9.874974</td>\n",
              "    </tr>\n",
              "    <tr>\n",
              "      <th>4</th>\n",
              "      <td>ᄃ</td>\n",
              "      <td>355</td>\n",
              "      <td>7.724108</td>\n",
              "      <td>ᄑ</td>\n",
              "      <td>845</td>\n",
              "      <td>8.953168</td>\n",
              "    </tr>\n",
              "    <tr>\n",
              "      <th>5</th>\n",
              "      <td>ᄐ</td>\n",
              "      <td>347</td>\n",
              "      <td>7.550044</td>\n",
              "      <td>ᄐ</td>\n",
              "      <td>836</td>\n",
              "      <td>8.857809</td>\n",
              "    </tr>\n",
              "    <tr>\n",
              "      <th>6</th>\n",
              "      <td>ᄆ</td>\n",
              "      <td>315</td>\n",
              "      <td>6.853786</td>\n",
              "      <td>ᄃ</td>\n",
              "      <td>493</td>\n",
              "      <td>5.223564</td>\n",
              "    </tr>\n",
              "    <tr>\n",
              "      <th>7</th>\n",
              "      <td>ᄌ</td>\n",
              "      <td>210</td>\n",
              "      <td>4.569191</td>\n",
              "      <td>ᄆ</td>\n",
              "      <td>481</td>\n",
              "      <td>5.096419</td>\n",
              "    </tr>\n",
              "    <tr>\n",
              "      <th>8</th>\n",
              "      <td>ᄇ</td>\n",
              "      <td>209</td>\n",
              "      <td>4.547433</td>\n",
              "      <td>ᄂ</td>\n",
              "      <td>436</td>\n",
              "      <td>4.619623</td>\n",
              "    </tr>\n",
              "    <tr>\n",
              "      <th>9</th>\n",
              "      <td>ᄎ</td>\n",
              "      <td>159</td>\n",
              "      <td>3.459530</td>\n",
              "      <td>ᄌ</td>\n",
              "      <td>408</td>\n",
              "      <td>4.322950</td>\n",
              "    </tr>\n",
              "    <tr>\n",
              "      <th>10</th>\n",
              "      <td>ᄒ</td>\n",
              "      <td>154</td>\n",
              "      <td>3.350740</td>\n",
              "      <td>ᄏ</td>\n",
              "      <td>379</td>\n",
              "      <td>4.015681</td>\n",
              "    </tr>\n",
              "    <tr>\n",
              "      <th>11</th>\n",
              "      <td>ᄂ</td>\n",
              "      <td>131</td>\n",
              "      <td>2.850305</td>\n",
              "      <td>ᄄ</td>\n",
              "      <td>272</td>\n",
              "      <td>2.881967</td>\n",
              "    </tr>\n",
              "    <tr>\n",
              "      <th>12</th>\n",
              "      <td>ᄀ</td>\n",
              "      <td>113</td>\n",
              "      <td>2.458660</td>\n",
              "      <td>ᄒ</td>\n",
              "      <td>187</td>\n",
              "      <td>1.981352</td>\n",
              "    </tr>\n",
              "    <tr>\n",
              "      <th>13</th>\n",
              "      <td>ᄊ</td>\n",
              "      <td>54</td>\n",
              "      <td>1.174935</td>\n",
              "      <td>ᄎ</td>\n",
              "      <td>114</td>\n",
              "      <td>1.207883</td>\n",
              "    </tr>\n",
              "    <tr>\n",
              "      <th>14</th>\n",
              "      <td>ᄁ</td>\n",
              "      <td>21</td>\n",
              "      <td>0.456919</td>\n",
              "      <td>ᄍ</td>\n",
              "      <td>45</td>\n",
              "      <td>0.476796</td>\n",
              "    </tr>\n",
              "    <tr>\n",
              "      <th>15</th>\n",
              "      <td>ᄄ</td>\n",
              "      <td>8</td>\n",
              "      <td>0.174064</td>\n",
              "      <td>ᄁ</td>\n",
              "      <td>19</td>\n",
              "      <td>0.201314</td>\n",
              "    </tr>\n",
              "    <tr>\n",
              "      <th>16</th>\n",
              "      <td>ᄍ</td>\n",
              "      <td>3</td>\n",
              "      <td>0.065274</td>\n",
              "      <td>ᄊ</td>\n",
              "      <td>17</td>\n",
              "      <td>0.180123</td>\n",
              "    </tr>\n",
              "    <tr>\n",
              "      <th>17</th>\n",
              "      <td>ᄈ</td>\n",
              "      <td>1</td>\n",
              "      <td>0.021758</td>\n",
              "      <td>ᄈ</td>\n",
              "      <td>12</td>\n",
              "      <td>0.127146</td>\n",
              "    </tr>\n",
              "  </tbody>\n",
              "</table>\n",
              "</div>"
            ],
            "text/plain": [
              "   초성   개수         비율 초성    개수         비율\n",
              "0   ᄅ  857  18.646649  ᄅ  1741  18.446705\n",
              "1   ᄉ  694  15.100087  ᄀ  1260  13.350286\n",
              "2   ᄑ  492  10.704961  ᄉ   961  10.182242\n",
              "3   ᄏ  473  10.291558  ᄇ   932   9.874974\n",
              "4   ᄃ  355   7.724108  ᄑ   845   8.953168\n",
              "5   ᄐ  347   7.550044  ᄐ   836   8.857809\n",
              "6   ᄆ  315   6.853786  ᄃ   493   5.223564\n",
              "7   ᄌ  210   4.569191  ᄆ   481   5.096419\n",
              "8   ᄇ  209   4.547433  ᄂ   436   4.619623\n",
              "9   ᄎ  159   3.459530  ᄌ   408   4.322950\n",
              "10  ᄒ  154   3.350740  ᄏ   379   4.015681\n",
              "11  ᄂ  131   2.850305  ᄄ   272   2.881967\n",
              "12  ᄀ  113   2.458660  ᄒ   187   1.981352\n",
              "13  ᄊ   54   1.174935  ᄎ   114   1.207883\n",
              "14  ᄁ   21   0.456919  ᄍ    45   0.476796\n",
              "15  ᄄ    8   0.174064  ᄁ    19   0.201314\n",
              "16  ᄍ    3   0.065274  ᄊ    17   0.180123\n",
              "17  ᄈ    1   0.021758  ᄈ    12   0.127146"
            ]
          },
          "metadata": {},
          "execution_count": 30
        }
      ]
    },
    {
      "cell_type": "code",
      "metadata": {
        "id": "i94RGmFBXPAL"
      },
      "source": [
        "df_soda.to_excel('soda-choseong.xlsx')"
      ],
      "execution_count": null,
      "outputs": []
    }
  ]
}