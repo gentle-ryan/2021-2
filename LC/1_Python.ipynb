{
  "nbformat": 4,
  "nbformat_minor": 0,
  "metadata": {
    "colab": {
      "provenance": [],
      "toc_visible": true
    },
    "kernelspec": {
      "name": "python3",
      "display_name": "Python 3"
    },
    "language_info": {
      "name": "python"
    }
  },
  "cells": [
    {
      "cell_type": "markdown",
      "metadata": {
        "id": "01zdFOlaWF9q"
      },
      "source": [
        "#파이썬을 계산기처럼 사용하기"
      ]
    },
    {
      "cell_type": "code",
      "metadata": {
        "colab": {
          "base_uri": "https://localhost:8080/"
        },
        "id": "OJb0ScEAWCzI",
        "outputId": "fa39c29f-9cee-4262-8961-19b874970b8a"
      },
      "source": [
        "2+3"
      ],
      "execution_count": null,
      "outputs": [
        {
          "output_type": "execute_result",
          "data": {
            "text/plain": [
              "5"
            ]
          },
          "metadata": {},
          "execution_count": 3
        }
      ]
    },
    {
      "cell_type": "code",
      "metadata": {
        "colab": {
          "base_uri": "https://localhost:8080/"
        },
        "id": "_CY3SZtMWLno",
        "outputId": "183fc151-e554-4f2d-ae5c-b3400f46f755"
      },
      "source": [
        "256*41"
      ],
      "execution_count": null,
      "outputs": [
        {
          "output_type": "execute_result",
          "data": {
            "text/plain": [
              "10496"
            ]
          },
          "metadata": {},
          "execution_count": 4
        }
      ]
    },
    {
      "cell_type": "markdown",
      "metadata": {
        "id": "Ovf8AP3IWO81"
      },
      "source": [
        "#파이썬과 인사하기"
      ]
    },
    {
      "cell_type": "code",
      "metadata": {
        "colab": {
          "base_uri": "https://localhost:8080/"
        },
        "id": "j-S4eVyrTjtP",
        "outputId": "d230f389-24db-45f5-c8c9-7409d5471d8c"
      },
      "source": [
        "name = input(\"이름을 입력하세요: \")\n",
        "print(name + \"님, 반갑습니다.\")\n"
      ],
      "execution_count": null,
      "outputs": [
        {
          "output_type": "stream",
          "name": "stdout",
          "text": [
            "이름을 입력하세요: 박유나\n",
            "박유나님, 반갑습니다.\n"
          ]
        }
      ]
    },
    {
      "cell_type": "markdown",
      "metadata": {
        "id": "4NA965lr2jEX"
      },
      "source": [
        "#09.06"
      ]
    },
    {
      "cell_type": "markdown",
      "metadata": {
        "id": "7f30OqDm5xM5"
      },
      "source": [
        "## 산술 연산"
      ]
    },
    {
      "cell_type": "code",
      "metadata": {
        "colab": {
          "base_uri": "https://localhost:8080/"
        },
        "id": "4V5D4hIZ2lB_",
        "outputId": "40f23fe7-d790-42d0-a168-e36232745d3a"
      },
      "source": [
        "7-2"
      ],
      "execution_count": null,
      "outputs": [
        {
          "output_type": "execute_result",
          "data": {
            "text/plain": [
              "5"
            ]
          },
          "metadata": {},
          "execution_count": 1
        }
      ]
    },
    {
      "cell_type": "code",
      "metadata": {
        "colab": {
          "base_uri": "https://localhost:8080/"
        },
        "id": "9_WRw0xL2wiS",
        "outputId": "b4ed85bd-f6df-4576-f862-dfada37a81ff"
      },
      "source": [
        "7+2"
      ],
      "execution_count": null,
      "outputs": [
        {
          "output_type": "execute_result",
          "data": {
            "text/plain": [
              "9"
            ]
          },
          "metadata": {},
          "execution_count": 2
        }
      ]
    },
    {
      "cell_type": "code",
      "metadata": {
        "colab": {
          "base_uri": "https://localhost:8080/"
        },
        "id": "V9JpJ4Er2yLL",
        "outputId": "d3e3d78c-2c6e-49ac-c0e8-8c4ea7c55e01"
      },
      "source": [
        "7 * 2 #곱셈"
      ],
      "execution_count": null,
      "outputs": [
        {
          "output_type": "execute_result",
          "data": {
            "text/plain": [
              "14"
            ]
          },
          "metadata": {},
          "execution_count": 7
        }
      ]
    },
    {
      "cell_type": "code",
      "metadata": {
        "colab": {
          "base_uri": "https://localhost:8080/"
        },
        "id": "IWCzOayw209G",
        "outputId": "ffcb8286-064d-40ca-e8c1-2c894b749d42"
      },
      "source": [
        "7 / 2 #나눗셈"
      ],
      "execution_count": null,
      "outputs": [
        {
          "output_type": "execute_result",
          "data": {
            "text/plain": [
              "3.5"
            ]
          },
          "metadata": {},
          "execution_count": 3
        }
      ]
    },
    {
      "cell_type": "code",
      "metadata": {
        "colab": {
          "base_uri": "https://localhost:8080/"
        },
        "id": "6vHaHQVP24e9",
        "outputId": "fd748057-3b75-420e-e721-32a35ef96a84"
      },
      "source": [
        "7 // 2 #나눗셈의 몫"
      ],
      "execution_count": null,
      "outputs": [
        {
          "output_type": "execute_result",
          "data": {
            "text/plain": [
              "3"
            ]
          },
          "metadata": {},
          "execution_count": 4
        }
      ]
    },
    {
      "cell_type": "code",
      "metadata": {
        "colab": {
          "base_uri": "https://localhost:8080/"
        },
        "id": "pvHZ4HFw3Mhn",
        "outputId": "c6de0a79-2cbb-4f8f-aec8-5ba3a86970c0"
      },
      "source": [
        "7 % 2 #나눗셈의 나머지"
      ],
      "execution_count": null,
      "outputs": [
        {
          "output_type": "execute_result",
          "data": {
            "text/plain": [
              "1"
            ]
          },
          "metadata": {},
          "execution_count": 5
        }
      ]
    },
    {
      "cell_type": "code",
      "metadata": {
        "colab": {
          "base_uri": "https://localhost:8080/"
        },
        "id": "TZ1-o1CH3ReH",
        "outputId": "81eec89b-9664-4a85-97a9-f2d30db1e1b1"
      },
      "source": [
        "7 ** 2 #거듭제곱"
      ],
      "execution_count": null,
      "outputs": [
        {
          "output_type": "execute_result",
          "data": {
            "text/plain": [
              "49"
            ]
          },
          "metadata": {},
          "execution_count": 6
        }
      ]
    },
    {
      "cell_type": "code",
      "metadata": {
        "id": "N40Hz1C44M7D"
      },
      "source": [
        "#연산자 우선 순위 : 괄호 - 거듭제곱 - 곱셈과 나눗셈 - 덧셈 뺄셈 - 왼쪽에서 오른쪽으로\n",
        "#괄호는 소괄호만 사용한다."
      ],
      "execution_count": null,
      "outputs": []
    },
    {
      "cell_type": "code",
      "metadata": {
        "colab": {
          "base_uri": "https://localhost:8080/"
        },
        "id": "lj6sCCIa4lIQ",
        "outputId": "0067891a-dc64-48a2-e30b-129ec61bd112"
      },
      "source": [
        "3 / (4 / (5 / 6))"
      ],
      "execution_count": null,
      "outputs": [
        {
          "output_type": "execute_result",
          "data": {
            "text/plain": [
              "0.625"
            ]
          },
          "metadata": {},
          "execution_count": 10
        }
      ]
    },
    {
      "cell_type": "code",
      "metadata": {
        "colab": {
          "base_uri": "https://localhost:8080/"
        },
        "id": "WfpmKOK44Ytp",
        "outputId": "bff75ced-aa38-407b-d74e-7192b4724f85"
      },
      "source": [
        "(3/4) / (5 / 6)"
      ],
      "execution_count": null,
      "outputs": [
        {
          "output_type": "execute_result",
          "data": {
            "text/plain": [
              "0.8999999999999999"
            ]
          },
          "metadata": {},
          "execution_count": 8
        }
      ]
    },
    {
      "cell_type": "code",
      "metadata": {
        "id": "V_HSR-tv4vAX"
      },
      "source": [
        "(4*3) **2"
      ],
      "execution_count": null,
      "outputs": []
    },
    {
      "cell_type": "code",
      "metadata": {
        "colab": {
          "base_uri": "https://localhost:8080/"
        },
        "id": "QD6caUz74g9T",
        "outputId": "ec569475-74b3-4ca8-f6d8-48642801a872"
      },
      "source": [
        "4 * (3**2)"
      ],
      "execution_count": null,
      "outputs": [
        {
          "output_type": "execute_result",
          "data": {
            "text/plain": [
              "36"
            ]
          },
          "metadata": {},
          "execution_count": 9
        }
      ]
    },
    {
      "cell_type": "markdown",
      "metadata": {
        "id": "xVEiI8VZ50EE"
      },
      "source": [
        "##연습"
      ]
    },
    {
      "cell_type": "code",
      "metadata": {
        "colab": {
          "base_uri": "https://localhost:8080/"
        },
        "id": "-JG7y9XS551-",
        "outputId": "528726d9-0548-426b-8a5a-252706437d83"
      },
      "source": [
        "#1\n",
        "2.6 * 4.9"
      ],
      "execution_count": null,
      "outputs": [
        {
          "output_type": "execute_result",
          "data": {
            "text/plain": [
              "12.740000000000002"
            ]
          },
          "metadata": {},
          "execution_count": 12
        }
      ]
    },
    {
      "cell_type": "code",
      "metadata": {
        "colab": {
          "base_uri": "https://localhost:8080/"
        },
        "id": "fOFcUcJu6DC_",
        "outputId": "b2163571-c692-4ef7-fc6f-e2e76d16cba8"
      },
      "source": [
        "#2\n",
        "(1.8+5.3)*2"
      ],
      "execution_count": null,
      "outputs": [
        {
          "output_type": "execute_result",
          "data": {
            "text/plain": [
              "14.2"
            ]
          },
          "metadata": {},
          "execution_count": 13
        }
      ]
    },
    {
      "cell_type": "code",
      "metadata": {
        "colab": {
          "base_uri": "https://localhost:8080/"
        },
        "id": "-pmppP_-6CCK",
        "outputId": "b0daf1cc-e5ba-4b62-f36f-6f5d774480eb"
      },
      "source": [
        "#3\n",
        "3.1 ** 3"
      ],
      "execution_count": null,
      "outputs": [
        {
          "output_type": "execute_result",
          "data": {
            "text/plain": [
              "29.791000000000004"
            ]
          },
          "metadata": {},
          "execution_count": 14
        }
      ]
    },
    {
      "cell_type": "code",
      "metadata": {
        "colab": {
          "base_uri": "https://localhost:8080/"
        },
        "id": "runPXfJ_6IXO",
        "outputId": "1e71aa4f-f48e-497f-9e32-6f6083d6e1f7"
      },
      "source": [
        "#4\n",
        "((2.6 + 4.9) * 8) / 2"
      ],
      "execution_count": null,
      "outputs": [
        {
          "output_type": "execute_result",
          "data": {
            "text/plain": [
              "30.0"
            ]
          },
          "metadata": {},
          "execution_count": 15
        }
      ]
    },
    {
      "cell_type": "code",
      "metadata": {
        "colab": {
          "base_uri": "https://localhost:8080/"
        },
        "id": "UtHSNCiY6b-x",
        "outputId": "c97da97b-91aa-46b1-ae37-e2f0fb08525a"
      },
      "source": [
        "#5\n",
        "(-2 + (2**2-4*3*(-8))**(1/2)) / (2*3)\n"
      ],
      "execution_count": null,
      "outputs": [
        {
          "output_type": "execute_result",
          "data": {
            "text/plain": [
              "1.3333333333333333"
            ]
          },
          "metadata": {},
          "execution_count": 20
        }
      ]
    },
    {
      "cell_type": "code",
      "metadata": {
        "colab": {
          "base_uri": "https://localhost:8080/"
        },
        "id": "9mn15iFg7sf2",
        "outputId": "86775ea8-dbfd-4cb4-f424-b3594b933c00"
      },
      "source": [
        "(-2 - (2**2-4*3*(-8))**(1/2)) / (2*3)"
      ],
      "execution_count": null,
      "outputs": [
        {
          "output_type": "execute_result",
          "data": {
            "text/plain": [
              "-2.0"
            ]
          },
          "metadata": {},
          "execution_count": 24
        }
      ]
    },
    {
      "cell_type": "markdown",
      "metadata": {
        "id": "7rtcPLQ9-LAy"
      },
      "source": [
        "##자료형"
      ]
    },
    {
      "cell_type": "code",
      "metadata": {
        "colab": {
          "base_uri": "https://localhost:8080/"
        },
        "id": "7jPrRSjL9QsR",
        "outputId": "b7bd4828-f315-4aaf-f286-55f4542a2d81"
      },
      "source": [
        "type(2) # 정수"
      ],
      "execution_count": null,
      "outputs": [
        {
          "output_type": "execute_result",
          "data": {
            "text/plain": [
              "int"
            ]
          },
          "metadata": {},
          "execution_count": 27
        }
      ]
    },
    {
      "cell_type": "code",
      "metadata": {
        "id": "T_2EeACr9VdA"
      },
      "source": [
        "type(2.0) # 실수\n"
      ],
      "execution_count": null,
      "outputs": []
    },
    {
      "cell_type": "code",
      "metadata": {
        "colab": {
          "base_uri": "https://localhost:8080/"
        },
        "id": "QIfqOZbh9ZWJ",
        "outputId": "f8583e1d-9bf6-4ced-a287-7a9e66e2e26f"
      },
      "source": [
        "type(2j) # 복소수"
      ],
      "execution_count": null,
      "outputs": [
        {
          "output_type": "execute_result",
          "data": {
            "text/plain": [
              "complex"
            ]
          },
          "metadata": {},
          "execution_count": 28
        }
      ]
    },
    {
      "cell_type": "code",
      "metadata": {
        "colab": {
          "base_uri": "https://localhost:8080/"
        },
        "id": "fFAToE3J9dJl",
        "outputId": "00e5dab0-6bde-48bf-b380-347c259e4e3f"
      },
      "source": [
        "type('2') #문자열"
      ],
      "execution_count": null,
      "outputs": [
        {
          "output_type": "execute_result",
          "data": {
            "text/plain": [
              "str"
            ]
          },
          "metadata": {},
          "execution_count": 29
        }
      ]
    },
    {
      "cell_type": "code",
      "metadata": {
        "id": "BzgcWYsB9m9t"
      },
      "source": [
        "dir(2)"
      ],
      "execution_count": null,
      "outputs": []
    },
    {
      "cell_type": "code",
      "metadata": {
        "id": "RjWsAil2B_Eo"
      },
      "source": [
        "#값의 자료형에 따라 사용가능한 연산자가 달라진다.\n",
        "# 수치 : 산술\n",
        "# 문자열 : 연결, 반복"
      ],
      "execution_count": null,
      "outputs": []
    },
    {
      "cell_type": "code",
      "metadata": {
        "colab": {
          "base_uri": "https://localhost:8080/",
          "height": 36
        },
        "id": "fxpkl0aLB-72",
        "outputId": "b5a2f929-1e14-4408-bd15-f5ad210005a8"
      },
      "source": [
        "'abc' + 'def'"
      ],
      "execution_count": null,
      "outputs": [
        {
          "output_type": "execute_result",
          "data": {
            "application/vnd.google.colaboratory.intrinsic+json": {
              "type": "string"
            },
            "text/plain": [
              "'abcdef'"
            ]
          },
          "metadata": {},
          "execution_count": 42
        }
      ]
    },
    {
      "cell_type": "code",
      "metadata": {
        "colab": {
          "base_uri": "https://localhost:8080/",
          "height": 36
        },
        "id": "8mqUW79_CJrU",
        "outputId": "899ab433-9f16-4d7e-aa0f-e5e8c710a809"
      },
      "source": [
        "8* 'z'"
      ],
      "execution_count": null,
      "outputs": [
        {
          "output_type": "execute_result",
          "data": {
            "application/vnd.google.colaboratory.intrinsic+json": {
              "type": "string"
            },
            "text/plain": [
              "'zzzzzzzz'"
            ]
          },
          "metadata": {},
          "execution_count": 41
        }
      ]
    },
    {
      "cell_type": "code",
      "metadata": {
        "colab": {
          "base_uri": "https://localhost:8080/",
          "height": 176
        },
        "id": "u_Ih4zXbCNPC",
        "outputId": "75ab511e-ea4a-4d0b-ce6c-7a86e6f2acc4"
      },
      "source": [
        "8.0* 'z' #반복할 때는 int정수만 사용할 것"
      ],
      "execution_count": null,
      "outputs": [
        {
          "output_type": "error",
          "ename": "TypeError",
          "evalue": "ignored",
          "traceback": [
            "\u001b[0;31m---------------------------------------------------------------------------\u001b[0m",
            "\u001b[0;31mTypeError\u001b[0m                                 Traceback (most recent call last)",
            "\u001b[0;32m<ipython-input-43-addf034cea97>\u001b[0m in \u001b[0;36m<module>\u001b[0;34m()\u001b[0m\n\u001b[0;32m----> 1\u001b[0;31m \u001b[0;36m8.0\u001b[0m\u001b[0;34m*\u001b[0m \u001b[0;34m'z'\u001b[0m\u001b[0;34m\u001b[0m\u001b[0;34m\u001b[0m\u001b[0m\n\u001b[0m",
            "\u001b[0;31mTypeError\u001b[0m: can't multiply sequence by non-int of type 'float'"
          ]
        }
      ]
    },
    {
      "cell_type": "code",
      "metadata": {
        "id": "6CFiF_7aEI-E"
      },
      "source": [
        "#수치 자료형 : 정수, 부동소수점, 복소수, 불"
      ],
      "execution_count": null,
      "outputs": []
    },
    {
      "cell_type": "code",
      "metadata": {
        "colab": {
          "base_uri": "https://localhost:8080/"
        },
        "id": "oM1pYxvZEWpB",
        "outputId": "3b842766-9eb3-44a0-c318-11310793a77c"
      },
      "source": [
        "True + 1 + 1.0 + (1+0j)"
      ],
      "execution_count": null,
      "outputs": [
        {
          "output_type": "execute_result",
          "data": {
            "text/plain": [
              "(4+0j)"
            ]
          },
          "metadata": {},
          "execution_count": 49
        }
      ]
    },
    {
      "cell_type": "code",
      "metadata": {
        "colab": {
          "base_uri": "https://localhost:8080/"
        },
        "id": "FCBHWtirDKq9",
        "outputId": "dc661065-a7a8-456c-9cb5-7ca6d8bd0a75"
      },
      "source": [
        "5 ** (1+2j)"
      ],
      "execution_count": null,
      "outputs": [
        {
          "output_type": "execute_result",
          "data": {
            "text/plain": [
              "(-4.9850757089902356-0.3860313143198414j)"
            ]
          },
          "metadata": {},
          "execution_count": 44
        }
      ]
    },
    {
      "cell_type": "code",
      "metadata": {
        "colab": {
          "base_uri": "https://localhost:8080/"
        },
        "id": "mujZWHxHDOiE",
        "outputId": "dc31ac18-d48c-45e7-eaec-56fc49ea1292"
      },
      "source": [
        "True * 1 # bool이 int 보다 단순함"
      ],
      "execution_count": null,
      "outputs": [
        {
          "output_type": "execute_result",
          "data": {
            "text/plain": [
              "1"
            ]
          },
          "metadata": {},
          "execution_count": 46
        }
      ]
    },
    {
      "cell_type": "code",
      "metadata": {
        "colab": {
          "base_uri": "https://localhost:8080/"
        },
        "id": "jP7rgeaXDS_O",
        "outputId": "d7a42833-21cf-4a23-bc7f-1fb500201537"
      },
      "source": [
        "1.0 * 1 # int가 float보다 단순함"
      ],
      "execution_count": null,
      "outputs": [
        {
          "output_type": "execute_result",
          "data": {
            "text/plain": [
              "10.0"
            ]
          },
          "metadata": {},
          "execution_count": 47
        }
      ]
    },
    {
      "cell_type": "code",
      "metadata": {
        "colab": {
          "base_uri": "https://localhost:8080/"
        },
        "id": "ie6zvMnQD11d",
        "outputId": "0f5b303e-d3b1-49de-b37c-8417b108421d"
      },
      "source": [
        "# 정수로 바꾸는 함수\n",
        "int(1.0)"
      ],
      "execution_count": null,
      "outputs": [
        {
          "output_type": "execute_result",
          "data": {
            "text/plain": [
              "1"
            ]
          },
          "metadata": {},
          "execution_count": 48
        }
      ]
    },
    {
      "cell_type": "code",
      "metadata": {
        "colab": {
          "base_uri": "https://localhost:8080/"
        },
        "id": "pubhtMuVD-pS",
        "outputId": "b1e0f52e-0aca-4ba9-b016-53c0f1402214"
      },
      "source": [
        "# 부동소수점으로 바꾸는 함수\n",
        "float(2)"
      ],
      "execution_count": null,
      "outputs": [
        {
          "output_type": "execute_result",
          "data": {
            "text/plain": [
              "2.0"
            ]
          },
          "metadata": {},
          "execution_count": 50
        }
      ]
    },
    {
      "cell_type": "code",
      "metadata": {
        "colab": {
          "base_uri": "https://localhost:8080/"
        },
        "id": "skwHNof_FI04",
        "outputId": "e80a0dd2-5727-4e11-cdfa-9325bca6d414"
      },
      "source": [
        "#불 타입은 비교 연산자 이다.\n",
        "#불은 정수의 특수한 경우이다. True는 1, False는 0이다.\n",
        "2 == 3"
      ],
      "execution_count": null,
      "outputs": [
        {
          "output_type": "execute_result",
          "data": {
            "text/plain": [
              "False"
            ]
          },
          "metadata": {},
          "execution_count": 51
        }
      ]
    },
    {
      "cell_type": "code",
      "metadata": {
        "colab": {
          "base_uri": "https://localhost:8080/"
        },
        "id": "UmGEsdHgFRCW",
        "outputId": "7380438d-c56d-482b-e95e-a5f12dbe68d7"
      },
      "source": [
        "2 != 3"
      ],
      "execution_count": null,
      "outputs": [
        {
          "output_type": "execute_result",
          "data": {
            "text/plain": [
              "True"
            ]
          },
          "metadata": {},
          "execution_count": 52
        }
      ]
    },
    {
      "cell_type": "code",
      "metadata": {
        "colab": {
          "base_uri": "https://localhost:8080/"
        },
        "id": "ljmbXY6bFTZk",
        "outputId": "463d9c66-ec69-4ef8-bb38-67564575447b"
      },
      "source": [
        "2 < 3"
      ],
      "execution_count": null,
      "outputs": [
        {
          "output_type": "execute_result",
          "data": {
            "text/plain": [
              "True"
            ]
          },
          "metadata": {},
          "execution_count": 53
        }
      ]
    },
    {
      "cell_type": "code",
      "metadata": {
        "colab": {
          "base_uri": "https://localhost:8080/"
        },
        "id": "5YAb2qMiFVF6",
        "outputId": "db778119-3af2-4ed2-b570-34e3bdf71cb5"
      },
      "source": [
        "2 >= 3"
      ],
      "execution_count": null,
      "outputs": [
        {
          "output_type": "execute_result",
          "data": {
            "text/plain": [
              "False"
            ]
          },
          "metadata": {},
          "execution_count": 54
        }
      ]
    },
    {
      "cell_type": "code",
      "metadata": {
        "id": "SfTYVJGVFZbf"
      },
      "source": [
        "isinstance(값, 자료형) # 값이 자료형에 속하는지 확인하는 함수"
      ],
      "execution_count": null,
      "outputs": []
    },
    {
      "cell_type": "code",
      "metadata": {
        "colab": {
          "base_uri": "https://localhost:8080/"
        },
        "id": "exyZ6TWcF2-L",
        "outputId": "2436f4ca-9e2a-4890-f348-abe4051fe20f"
      },
      "source": [
        "isinstance(True, bool)"
      ],
      "execution_count": null,
      "outputs": [
        {
          "output_type": "execute_result",
          "data": {
            "text/plain": [
              "True"
            ]
          },
          "metadata": {},
          "execution_count": 55
        }
      ]
    },
    {
      "cell_type": "code",
      "metadata": {
        "colab": {
          "base_uri": "https://localhost:8080/"
        },
        "id": "bsUwf1Y_GABN",
        "outputId": "eff782a0-2349-453a-db8e-b87d30bf1617"
      },
      "source": [
        "isinstance(True, int) #bool은 int에 속함"
      ],
      "execution_count": null,
      "outputs": [
        {
          "output_type": "execute_result",
          "data": {
            "text/plain": [
              "True"
            ]
          },
          "metadata": {},
          "execution_count": 56
        }
      ]
    },
    {
      "cell_type": "code",
      "metadata": {
        "colab": {
          "base_uri": "https://localhost:8080/"
        },
        "id": "npHZVRSZGE8q",
        "outputId": "2cba704d-4d9a-4d44-8e16-31e78e7ad267"
      },
      "source": [
        "bool(0) #0이외의 값은 모두 참으로 해석 됨"
      ],
      "execution_count": null,
      "outputs": [
        {
          "output_type": "execute_result",
          "data": {
            "text/plain": [
              "False"
            ]
          },
          "metadata": {},
          "execution_count": 57
        }
      ]
    },
    {
      "cell_type": "code",
      "metadata": {
        "colab": {
          "base_uri": "https://localhost:8080/"
        },
        "id": "GHMYHnFFGIJh",
        "outputId": "097de47b-8f80-4df8-bf95-2cd0596d5255"
      },
      "source": [
        "bool(5)"
      ],
      "execution_count": null,
      "outputs": [
        {
          "output_type": "execute_result",
          "data": {
            "text/plain": [
              "True"
            ]
          },
          "metadata": {},
          "execution_count": 58
        }
      ]
    },
    {
      "cell_type": "code",
      "metadata": {
        "colab": {
          "base_uri": "https://localhost:8080/"
        },
        "id": "42xn43ZnGJeE",
        "outputId": "c943214f-8b0a-4d33-bd03-76fc209a9c70"
      },
      "source": [
        "bool(3.14)"
      ],
      "execution_count": null,
      "outputs": [
        {
          "output_type": "execute_result",
          "data": {
            "text/plain": [
              "True"
            ]
          },
          "metadata": {},
          "execution_count": 59
        }
      ]
    },
    {
      "cell_type": "markdown",
      "metadata": {
        "id": "Cww81Mi5-P3r"
      },
      "source": [
        "## 일부러 실수해보기"
      ]
    },
    {
      "cell_type": "code",
      "metadata": {
        "id": "t_jTarIu-ScT"
      },
      "source": [
        "print('hello'"
      ],
      "execution_count": null,
      "outputs": []
    },
    {
      "cell_type": "code",
      "metadata": {
        "colab": {
          "base_uri": "https://localhost:8080/",
          "height": 139
        },
        "id": "cw_RhtiT_Mnj",
        "outputId": "04554cf4-e4d9-4984-d104-1bad1d6b30ad"
      },
      "source": [
        "3 /"
      ],
      "execution_count": null,
      "outputs": [
        {
          "output_type": "error",
          "ename": "SyntaxError",
          "evalue": "ignored",
          "traceback": [
            "\u001b[0;36m  File \u001b[0;32m\"<ipython-input-32-62321043ab1b>\"\u001b[0;36m, line \u001b[0;32m1\u001b[0m\n\u001b[0;31m    3 /\u001b[0m\n\u001b[0m       ^\u001b[0m\n\u001b[0;31mSyntaxError\u001b[0m\u001b[0;31m:\u001b[0m invalid syntax\n"
          ]
        }
      ]
    },
    {
      "cell_type": "code",
      "metadata": {
        "colab": {
          "base_uri": "https://localhost:8080/",
          "height": 176
        },
        "id": "4YgdxieW_RTh",
        "outputId": "d84214f6-09ff-4541-e6ba-e76c775ce953"
      },
      "source": [
        "3 / 0"
      ],
      "execution_count": null,
      "outputs": [
        {
          "output_type": "error",
          "ename": "ZeroDivisionError",
          "evalue": "ignored",
          "traceback": [
            "\u001b[0;31m---------------------------------------------------------------------------\u001b[0m",
            "\u001b[0;31mZeroDivisionError\u001b[0m                         Traceback (most recent call last)",
            "\u001b[0;32m<ipython-input-33-e1965806ec03>\u001b[0m in \u001b[0;36m<module>\u001b[0;34m()\u001b[0m\n\u001b[0;32m----> 1\u001b[0;31m \u001b[0;36m3\u001b[0m \u001b[0;34m/\u001b[0m \u001b[0;36m0\u001b[0m\u001b[0;34m\u001b[0m\u001b[0;34m\u001b[0m\u001b[0m\n\u001b[0m",
            "\u001b[0;31mZeroDivisionError\u001b[0m: division by zero"
          ]
        }
      ]
    },
    {
      "cell_type": "code",
      "metadata": {
        "colab": {
          "base_uri": "https://localhost:8080/",
          "height": 176
        },
        "id": "cl-xqI5c_TVn",
        "outputId": "48af1955-4ba9-46c3-be71-315a6b3ef864"
      },
      "source": [
        "4 + '5'"
      ],
      "execution_count": null,
      "outputs": [
        {
          "output_type": "error",
          "ename": "TypeError",
          "evalue": "ignored",
          "traceback": [
            "\u001b[0;31m---------------------------------------------------------------------------\u001b[0m",
            "\u001b[0;31mTypeError\u001b[0m                                 Traceback (most recent call last)",
            "\u001b[0;32m<ipython-input-34-d4268a286f8c>\u001b[0m in \u001b[0;36m<module>\u001b[0;34m()\u001b[0m\n\u001b[0;32m----> 1\u001b[0;31m \u001b[0;36m4\u001b[0m \u001b[0;34m+\u001b[0m \u001b[0;34m'5'\u001b[0m\u001b[0;34m\u001b[0m\u001b[0;34m\u001b[0m\u001b[0m\n\u001b[0m",
            "\u001b[0;31mTypeError\u001b[0m: unsupported operand type(s) for +: 'int' and 'str'"
          ]
        }
      ]
    },
    {
      "cell_type": "code",
      "metadata": {
        "colab": {
          "base_uri": "https://localhost:8080/",
          "height": 139
        },
        "id": "5ZrG6zAc_hJF",
        "outputId": "f3885e83-e6e3-4dcc-c806-7f7e89f8d6e6"
      },
      "source": [
        "7 2"
      ],
      "execution_count": null,
      "outputs": [
        {
          "output_type": "error",
          "ename": "SyntaxError",
          "evalue": "ignored",
          "traceback": [
            "\u001b[0;36m  File \u001b[0;32m\"<ipython-input-35-e3a0de5b4681>\"\u001b[0;36m, line \u001b[0;32m1\u001b[0m\n\u001b[0;31m    7 2\u001b[0m\n\u001b[0m      ^\u001b[0m\n\u001b[0;31mSyntaxError\u001b[0m\u001b[0;31m:\u001b[0m invalid syntax\n"
          ]
        }
      ]
    },
    {
      "cell_type": "code",
      "metadata": {
        "colab": {
          "base_uri": "https://localhost:8080/"
        },
        "id": "3zg76f3b_ipv",
        "outputId": "70f9c03c-ef3b-4050-e6aa-638eb27e69e8"
      },
      "source": [
        "7 + + 2"
      ],
      "execution_count": null,
      "outputs": [
        {
          "output_type": "execute_result",
          "data": {
            "text/plain": [
              "9"
            ]
          },
          "metadata": {},
          "execution_count": 37
        }
      ]
    },
    {
      "cell_type": "code",
      "metadata": {
        "colab": {
          "base_uri": "https://localhost:8080/",
          "height": 139
        },
        "id": "QYs6LdKg_orq",
        "outputId": "04a02823-bc34-4b3c-9e56-f6a679d6ca84"
      },
      "source": [
        "7 + * 2"
      ],
      "execution_count": null,
      "outputs": [
        {
          "output_type": "error",
          "ename": "SyntaxError",
          "evalue": "ignored",
          "traceback": [
            "\u001b[0;36m  File \u001b[0;32m\"<ipython-input-38-0854979e66a7>\"\u001b[0;36m, line \u001b[0;32m1\u001b[0m\n\u001b[0;31m    7 + * 2\u001b[0m\n\u001b[0m        ^\u001b[0m\n\u001b[0;31mSyntaxError\u001b[0m\u001b[0;31m:\u001b[0m invalid syntax\n"
          ]
        }
      ]
    },
    {
      "cell_type": "code",
      "metadata": {
        "colab": {
          "base_uri": "https://localhost:8080/"
        },
        "id": "Lye5-Aq-A70n",
        "outputId": "ebec8633-807a-403a-f91c-0af0075976eb"
      },
      "source": [
        "print(\"I'm a boy\")"
      ],
      "execution_count": null,
      "outputs": [
        {
          "output_type": "stream",
          "name": "stdout",
          "text": [
            "I'm a boy\n"
          ]
        }
      ]
    },
    {
      "cell_type": "code",
      "metadata": {
        "colab": {
          "base_uri": "https://localhost:8080/"
        },
        "id": "Yp98PHdcBA_R",
        "outputId": "749584da-f7e5-4d17-e638-f09aaf2b9a51"
      },
      "source": [
        "print('\"I\\'m a boy\"') # 작은 따옴표와 큰따옴표를 문자열의 일부로 넣고 싶을 때"
      ],
      "execution_count": null,
      "outputs": [
        {
          "output_type": "stream",
          "name": "stdout",
          "text": [
            "\"I'm a boy\"\n"
          ]
        }
      ]
    },
    {
      "cell_type": "markdown",
      "metadata": {
        "id": "p1xGEF0DBwi1"
      },
      "source": [
        "#표현식"
      ]
    },
    {
      "cell_type": "code",
      "metadata": {
        "id": "2J46zeJFG3Ec"
      },
      "source": [
        "#표현식은 값과 변수, 연산자의 조합이다. 하나의 값으로 평가 된다."
      ],
      "execution_count": null,
      "outputs": []
    }
  ]
}