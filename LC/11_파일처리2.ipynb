{
  "nbformat": 4,
  "nbformat_minor": 0,
  "metadata": {
    "colab": {
      "provenance": []
    },
    "kernelspec": {
      "name": "python3",
      "display_name": "Python 3"
    },
    "language_info": {
      "name": "python"
    }
  },
  "cells": [
    {
      "cell_type": "code",
      "metadata": {
        "id": "kAjq51W-cT_P"
      },
      "source": [
        "f = open('latin.txt', 'w')\n",
        "f.writelines('a')\n",
        "f.writelines('\\nb')\n",
        "f.close()"
      ],
      "execution_count": null,
      "outputs": []
    },
    {
      "cell_type": "code",
      "metadata": {
        "id": "47ZnQaPjclHR"
      },
      "source": [
        "f = open('hangul.txt', 'w', encoding='utf-8')\n",
        "f.writelines('가')\n",
        "f.close()"
      ],
      "execution_count": null,
      "outputs": []
    },
    {
      "cell_type": "code",
      "metadata": {
        "id": "VdBabPkSfAEj"
      },
      "source": [],
      "execution_count": null,
      "outputs": []
    },
    {
      "cell_type": "code",
      "metadata": {
        "id": "--vqmu-Le8D6"
      },
      "source": [
        "for i in range(1, 10):\n",
        "  for j in range(1,10):\n",
        "    print(i*j, end='\\t')\n",
        "    print()"
      ],
      "execution_count": null,
      "outputs": []
    },
    {
      "cell_type": "code",
      "metadata": {
        "id": "SQjulPgCduL2"
      },
      "source": [
        "f = open('99.txt', 'w')\n",
        "for i in range(1, 10):\n",
        "  f.writelines('\\t'.join(str(i*j) for j in range(1, 10)))\n",
        "  f.writelines('\\n')\n",
        "f.close()\n"
      ],
      "execution_count": null,
      "outputs": []
    },
    {
      "cell_type": "code",
      "metadata": {
        "colab": {
          "base_uri": "https://localhost:8080/"
        },
        "id": "ofRrMO49fK4_",
        "outputId": "1be01751-200d-468b-ea0c-7ddfa72474ef"
      },
      "source": [
        "f = open('hangul.txt', encoding='utf-8')\n",
        "text = f.read()\n",
        "f.close()\n",
        "print(text)"
      ],
      "execution_count": null,
      "outputs": [
        {
          "output_type": "stream",
          "name": "stdout",
          "text": [
            "\n"
          ]
        }
      ]
    },
    {
      "cell_type": "code",
      "metadata": {
        "colab": {
          "base_uri": "https://localhost:8080/"
        },
        "id": "3l2y6yjhfwYG",
        "outputId": "35be8e91-dcf3-4365-ae51-d4df94ec3c7d"
      },
      "source": [
        "f = open('99.txt')\n",
        "nines = f.readlines()\n",
        "f.close()\n",
        "print(nines)"
      ],
      "execution_count": null,
      "outputs": [
        {
          "output_type": "stream",
          "name": "stdout",
          "text": [
            "['1\\t2\\t3\\t4\\t5\\t6\\t7\\t8\\t9\\n', '2\\t4\\t6\\t8\\t10\\t12\\t14\\t16\\t18\\n', '3\\t6\\t9\\t12\\t15\\t18\\t21\\t24\\t27\\n', '4\\t8\\t12\\t16\\t20\\t24\\t28\\t32\\t36\\n', '5\\t10\\t15\\t20\\t25\\t30\\t35\\t40\\t45\\n', '6\\t12\\t18\\t24\\t30\\t36\\t42\\t48\\t54\\n', '7\\t14\\t21\\t28\\t35\\t42\\t49\\t56\\t63\\n', '8\\t16\\t24\\t32\\t40\\t48\\t56\\t64\\t72\\n', '9\\t18\\t27\\t36\\t45\\t54\\t63\\t72\\t81\\n']\n"
          ]
        }
      ]
    },
    {
      "cell_type": "code",
      "metadata": {
        "colab": {
          "base_uri": "https://localhost:8080/"
        },
        "id": "aHOBo_40iAYi",
        "outputId": "bd9d07cb-666c-4103-bb89-416a4dc42806"
      },
      "source": [
        "f = open('99.txt')\n",
        "for line in f:\n",
        "  print(line)\n",
        "\n",
        "f.close()"
      ],
      "execution_count": null,
      "outputs": [
        {
          "output_type": "stream",
          "name": "stdout",
          "text": [
            "1\t2\t3\t4\t5\t6\t7\t8\t9\n",
            "\n",
            "2\t4\t6\t8\t10\t12\t14\t16\t18\n",
            "\n",
            "3\t6\t9\t12\t15\t18\t21\t24\t27\n",
            "\n",
            "4\t8\t12\t16\t20\t24\t28\t32\t36\n",
            "\n",
            "5\t10\t15\t20\t25\t30\t35\t40\t45\n",
            "\n",
            "6\t12\t18\t24\t30\t36\t42\t48\t54\n",
            "\n",
            "7\t14\t21\t28\t35\t42\t49\t56\t63\n",
            "\n",
            "8\t16\t24\t32\t40\t48\t56\t64\t72\n",
            "\n",
            "9\t18\t27\t36\t45\t54\t63\t72\t81\n",
            "\n"
          ]
        }
      ]
    },
    {
      "cell_type": "code",
      "metadata": {
        "colab": {
          "base_uri": "https://localhost:8080/"
        },
        "id": "WsPZGl2KiFz6",
        "outputId": "737ef642-0007-4c44-bbbc-0877ae8a119b"
      },
      "source": [
        "from pprint import pprint\n",
        "f = open('99.txt')\n",
        "nines = []\n",
        "for line in f:\n",
        "  nines.append(line.split())\n",
        "\n",
        "f.close()\n",
        "pprint(nines)"
      ],
      "execution_count": null,
      "outputs": [
        {
          "output_type": "stream",
          "name": "stdout",
          "text": [
            "[['1', '2', '3', '4', '5', '6', '7', '8', '9'],\n",
            " ['2', '4', '6', '8', '10', '12', '14', '16', '18'],\n",
            " ['3', '6', '9', '12', '15', '18', '21', '24', '27'],\n",
            " ['4', '8', '12', '16', '20', '24', '28', '32', '36'],\n",
            " ['5', '10', '15', '20', '25', '30', '35', '40', '45'],\n",
            " ['6', '12', '18', '24', '30', '36', '42', '48', '54'],\n",
            " ['7', '14', '21', '28', '35', '42', '49', '56', '63'],\n",
            " ['8', '16', '24', '32', '40', '48', '56', '64', '72'],\n",
            " ['9', '18', '27', '36', '45', '54', '63', '72', '81']]\n"
          ]
        }
      ]
    },
    {
      "cell_type": "code",
      "metadata": {
        "colab": {
          "base_uri": "https://localhost:8080/"
        },
        "id": "EKe0EFFBiWza",
        "outputId": "ad98d189-c46c-4026-c8d5-9ba2947e6f91"
      },
      "source": [
        "nines = [[int(n) for n in line] for line in nines]\n",
        "pprint(nines)"
      ],
      "execution_count": null,
      "outputs": [
        {
          "output_type": "stream",
          "name": "stdout",
          "text": [
            "[[1, 2, 3, 4, 5, 6, 7, 8, 9],\n",
            " [2, 4, 6, 8, 10, 12, 14, 16, 18],\n",
            " [3, 6, 9, 12, 15, 18, 21, 24, 27],\n",
            " [4, 8, 12, 16, 20, 24, 28, 32, 36],\n",
            " [5, 10, 15, 20, 25, 30, 35, 40, 45],\n",
            " [6, 12, 18, 24, 30, 36, 42, 48, 54],\n",
            " [7, 14, 21, 28, 35, 42, 49, 56, 63],\n",
            " [8, 16, 24, 32, 40, 48, 56, 64, 72],\n",
            " [9, 18, 27, 36, 45, 54, 63, 72, 81]]\n"
          ]
        }
      ]
    },
    {
      "cell_type": "code",
      "metadata": {
        "colab": {
          "base_uri": "https://localhost:8080/"
        },
        "id": "2xFu1ukAkGaM",
        "outputId": "4c5e146d-2573-4627-b97b-22d02df0df8e"
      },
      "source": [
        "f = open('99.txt')\n",
        "nines = [[int(n) for n in line] for line in nines]\n",
        "f.close()\n",
        "pprint(nines)"
      ],
      "execution_count": null,
      "outputs": [
        {
          "output_type": "stream",
          "name": "stdout",
          "text": [
            "[[1, 2, 3, 4, 5, 6, 7, 8, 9],\n",
            " [2, 4, 6, 8, 10, 12, 14, 16, 18],\n",
            " [3, 6, 9, 12, 15, 18, 21, 24, 27],\n",
            " [4, 8, 12, 16, 20, 24, 28, 32, 36],\n",
            " [5, 10, 15, 20, 25, 30, 35, 40, 45],\n",
            " [6, 12, 18, 24, 30, 36, 42, 48, 54],\n",
            " [7, 14, 21, 28, 35, 42, 49, 56, 63],\n",
            " [8, 16, 24, 32, 40, 48, 56, 64, 72],\n",
            " [9, 18, 27, 36, 45, 54, 63, 72, 81]]\n"
          ]
        }
      ]
    },
    {
      "cell_type": "code",
      "metadata": {
        "colab": {
          "base_uri": "https://localhost:8080/"
        },
        "id": "ES17MkclkUEe",
        "outputId": "43ff35e2-8697-4d43-88cb-d30263d90c77"
      },
      "source": [
        "f = open('99.txt')\n",
        "nines = [list(map(int, line.split())) for line in f]\n",
        "\n",
        "f.close()\n",
        "pprint(nines)"
      ],
      "execution_count": null,
      "outputs": [
        {
          "output_type": "stream",
          "name": "stdout",
          "text": [
            "[[1, 2, 3, 4, 5, 6, 7, 8, 9],\n",
            " [2, 4, 6, 8, 10, 12, 14, 16, 18],\n",
            " [3, 6, 9, 12, 15, 18, 21, 24, 27],\n",
            " [4, 8, 12, 16, 20, 24, 28, 32, 36],\n",
            " [5, 10, 15, 20, 25, 30, 35, 40, 45],\n",
            " [6, 12, 18, 24, 30, 36, 42, 48, 54],\n",
            " [7, 14, 21, 28, 35, 42, 49, 56, 63],\n",
            " [8, 16, 24, 32, 40, 48, 56, 64, 72],\n",
            " [9, 18, 27, 36, 45, 54, 63, 72, 81]]\n"
          ]
        }
      ]
    },
    {
      "cell_type": "code",
      "metadata": {
        "id": "iBEkEIscnEcf"
      },
      "source": [
        "import pickle\n",
        "f = open('99_list.pkl', 'wb')\n",
        "pickle.dump(nines, f)\n",
        "f.close()"
      ],
      "execution_count": null,
      "outputs": []
    },
    {
      "cell_type": "code",
      "metadata": {
        "colab": {
          "base_uri": "https://localhost:8080/"
        },
        "id": "cTgI9tiXm0Ry",
        "outputId": "e6a94755-69eb-45ff-e5e7-e5db080f308b"
      },
      "source": [
        "f = open('99_list.pkl', 'rb')\n",
        "nines_pkl = pickle.load(f)\n",
        "f.close()\n",
        "\n",
        "print(nines_pkl == nines)"
      ],
      "execution_count": null,
      "outputs": [
        {
          "output_type": "stream",
          "name": "stdout",
          "text": [
            "True\n"
          ]
        }
      ]
    },
    {
      "cell_type": "code",
      "metadata": {
        "colab": {
          "base_uri": "https://localhost:8080/"
        },
        "id": "RNUnjvC3nQeG",
        "outputId": "16a81ec6-90f7-4dbf-8787-85ef288f15fb"
      },
      "source": [
        "f = open('frankenstein.txt')\n",
        "text = f.read()\n",
        "f.close()\n",
        "len(text)"
      ],
      "execution_count": null,
      "outputs": [
        {
          "output_type": "execute_result",
          "data": {
            "text/plain": [
              "457565"
            ]
          },
          "metadata": {},
          "execution_count": 32
        }
      ]
    },
    {
      "cell_type": "code",
      "metadata": {
        "colab": {
          "base_uri": "https://localhost:8080/"
        },
        "id": "iG-8dRhKnrxI",
        "outputId": "10b2cea0-67bb-4883-d8fb-c0341fbbd945"
      },
      "source": [
        "f = open('frankenstein.txt')\n",
        "lines= f.readlines()\n",
        "f.close()\n",
        "len(lines)"
      ],
      "execution_count": null,
      "outputs": [
        {
          "output_type": "execute_result",
          "data": {
            "text/plain": [
              "8028"
            ]
          },
          "metadata": {},
          "execution_count": 33
        }
      ]
    },
    {
      "cell_type": "code",
      "metadata": {
        "colab": {
          "base_uri": "https://localhost:8080/"
        },
        "id": "DSKU1fh7n0IY",
        "outputId": "72c93366-e718-463a-f58a-b1e970b89006"
      },
      "source": [
        "import re\n",
        "word_pattern = re.compile(r'\\w+')\n",
        "length = 0\n",
        "f = open('frankenstein.txt')\n",
        "for line in f:\n",
        "  length += len(word_pattern.findall(line))\n",
        "\n",
        "f.close()\n",
        "print(length)"
      ],
      "execution_count": null,
      "outputs": [
        {
          "output_type": "stream",
          "name": "stdout",
          "text": [
            "81590\n"
          ]
        }
      ]
    }
  ]
}